{
 "cells": [
  {
   "cell_type": "code",
   "execution_count": 1,
   "id": "51669130",
   "metadata": {},
   "outputs": [],
   "source": [
    "#importing Libraries\n",
    "from sqlalchemy import create_engine\n",
    "import pandas as pd\n",
    "import os\n",
    "import warnings\n",
    "from zipfile import ZipFile\n",
    "from ipywidgets import IntProgress\n",
    "from IPython.display import display\n",
    "warnings.filterwarnings('ignore')"
   ]
  },
  {
   "cell_type": "code",
   "execution_count": 2,
   "id": "e17efe89",
   "metadata": {},
   "outputs": [],
   "source": [
    "#Reading csv\n",
    "df_P_core=pd.read_csv('Deakin_PowerCor_hotwater_20270101_20181231_consumption.csv')"
   ]
  },
  {
   "cell_type": "code",
   "execution_count": 3,
   "id": "2c056d06",
   "metadata": {},
   "outputs": [
    {
     "name": "stdout",
     "output_type": "stream",
     "text": [
      "<class 'pandas.core.frame.DataFrame'>\n",
      "RangeIndex: 5350952 entries, 0 to 5350951\n",
      "Data columns (total 52 columns):\n",
      " #   Column     Dtype  \n",
      "---  ------     -----  \n",
      " 0   nmi        int64  \n",
      " 1   read_date  object \n",
      " 2   channel    object \n",
      " 3   postcode   int64  \n",
      " 4   t1         float64\n",
      " 5   t2         float64\n",
      " 6   t3         float64\n",
      " 7   t4         float64\n",
      " 8   t5         float64\n",
      " 9   t6         float64\n",
      " 10  t7         float64\n",
      " 11  t8         float64\n",
      " 12  t9         float64\n",
      " 13  t10        float64\n",
      " 14  t11        float64\n",
      " 15  t12        float64\n",
      " 16  t13        float64\n",
      " 17  t14        float64\n",
      " 18  t15        float64\n",
      " 19  t16        float64\n",
      " 20  t17        float64\n",
      " 21  t18        float64\n",
      " 22  t19        float64\n",
      " 23  t20        float64\n",
      " 24  t21        float64\n",
      " 25  t22        float64\n",
      " 26  t23        float64\n",
      " 27  t24        float64\n",
      " 28  t25        float64\n",
      " 29  t26        float64\n",
      " 30  t27        float64\n",
      " 31  t28        float64\n",
      " 32  t29        float64\n",
      " 33  t30        float64\n",
      " 34  t31        float64\n",
      " 35  t32        float64\n",
      " 36  t33        float64\n",
      " 37  t34        float64\n",
      " 38  t35        float64\n",
      " 39  t36        float64\n",
      " 40  t37        float64\n",
      " 41  t38        float64\n",
      " 42  t39        float64\n",
      " 43  t40        float64\n",
      " 44  t41        float64\n",
      " 45  t42        float64\n",
      " 46  t43        float64\n",
      " 47  t44        float64\n",
      " 48  t45        float64\n",
      " 49  t46        float64\n",
      " 50  t47        float64\n",
      " 51  t48        float64\n",
      "dtypes: float64(48), int64(2), object(2)\n",
      "memory usage: 2.1+ GB\n"
     ]
    }
   ],
   "source": [
    "df_P_core.info()"
   ]
  },
  {
   "cell_type": "code",
   "execution_count": 3,
   "id": "6070b29f",
   "metadata": {},
   "outputs": [],
   "source": [
    "df_P_core = df_P_core.dropna(how='any',axis=0)"
   ]
  },
  {
   "cell_type": "code",
   "execution_count": 4,
   "id": "ad5d3e99",
   "metadata": {},
   "outputs": [],
   "source": [
    "df_P_core['read_date'] = pd.to_datetime(df_P_core['read_date'])"
   ]
  },
  {
   "cell_type": "code",
   "execution_count": 5,
   "id": "3182fa59",
   "metadata": {},
   "outputs": [],
   "source": [
    "df_P_core_E1=df_P_core[(df_P_core.channel=='E1')]"
   ]
  },
  {
   "cell_type": "code",
   "execution_count": 6,
   "id": "61295e14",
   "metadata": {},
   "outputs": [],
   "source": [
    "df_P_core_E2=df_P_core[(df_P_core.channel=='E2')]"
   ]
  },
  {
   "cell_type": "code",
   "execution_count": 7,
   "id": "2d98505d",
   "metadata": {},
   "outputs": [],
   "source": [
    "df_P_core_B1=df_P_core[(df_P_core.channel=='B1')]"
   ]
  },
  {
   "cell_type": "code",
   "execution_count": 8,
   "id": "327f80e2",
   "metadata": {},
   "outputs": [],
   "source": [
    "df_P_core_E1['0:00']=df_P_core_E1[['t1','t2']].sum(axis=1)\n",
    "df_P_core_E1.drop(['t1','t2'], axis = 1,inplace=True)  \n",
    "df_P_core_E1['1:00']=df_P_core_E1[['t3','t4']].sum(axis=1)\n",
    "df_P_core_E1.drop(['t3','t4'], axis = 1,inplace=True)  \n",
    "df_P_core_E1['2:00']=df_P_core_E1[['t5','t6']].sum(axis=1)\n",
    "df_P_core_E1.drop(['t5','t6'], axis = 1,inplace=True)  \n",
    "df_P_core_E1['3:00']=df_P_core_E1[['t7','t8']].sum(axis=1)\n",
    "df_P_core_E1.drop(['t7','t8'], axis = 1,inplace=True)  \n",
    "df_P_core_E1['4:00']=df_P_core_E1[['t9','t10']].sum(axis=1)\n",
    "df_P_core_E1.drop(['t9','t10'], axis = 1,inplace=True)  \n",
    "df_P_core_E1['5:00']=df_P_core_E1[['t11','t12']].sum(axis=1)\n",
    "df_P_core_E1.drop(['t11','t12'], axis = 1,inplace=True)  \n",
    "df_P_core_E1['6:00']=df_P_core_E1[['t13','t14']].sum(axis=1)\n",
    "df_P_core_E1.drop(['t13','t14'], axis = 1,inplace=True)  \n",
    "df_P_core_E1['7:00']=df_P_core_E1[['t15','t16']].sum(axis=1)\n",
    "df_P_core_E1.drop(['t15','t16'], axis = 1,inplace=True)  \n",
    "df_P_core_E1['8:00']=df_P_core_E1[['t17','t18']].sum(axis=1)\n",
    "df_P_core_E1.drop(['t17','t18'], axis = 1,inplace=True)  \n",
    "df_P_core_E1['9:00']=df_P_core_E1[['t19','t20']].sum(axis=1)\n",
    "df_P_core_E1.drop(['t19','t20'], axis = 1,inplace=True)  \n",
    "df_P_core_E1['10:00']=df_P_core_E1[['t21','t22']].sum(axis=1)\n",
    "df_P_core_E1.drop(['t21','t22'], axis = 1,inplace=True)  \n",
    "df_P_core_E1['11:00']=df_P_core_E1[['t23','t24']].sum(axis=1)\n",
    "df_P_core_E1.drop(['t23','t24'], axis = 1,inplace=True)  \n",
    "df_P_core_E1['12:00']=df_P_core_E1[['t25','t26']].sum(axis=1)\n",
    "df_P_core_E1.drop(['t25','t26'], axis = 1,inplace=True)  \n",
    "df_P_core_E1['13:00']=df_P_core_E1[['t27','t28']].sum(axis=1)\n",
    "df_P_core_E1.drop(['t27','t28'], axis = 1,inplace=True)  \n",
    "df_P_core_E1['14:00']=df_P_core_E1[['t29','t30']].sum(axis=1)\n",
    "df_P_core_E1.drop(['t29','t30'], axis = 1,inplace=True)  \n",
    "df_P_core_E1['15:00']=df_P_core_E1[['t31','t32']].sum(axis=1)\n",
    "df_P_core_E1.drop(['t31','t32'], axis = 1,inplace=True)  \n",
    "df_P_core_E1['16:00']=df_P_core_E1[['t33','t34']].sum(axis=1)\n",
    "df_P_core_E1.drop(['t33','t34'], axis = 1,inplace=True)  \n",
    "df_P_core_E1['17:00']=df_P_core_E1[['t35','t36']].sum(axis=1)\n",
    "df_P_core_E1.drop(['t35','t36'], axis = 1,inplace=True)  \n",
    "df_P_core_E1['18:00']=df_P_core_E1[['t37','t38']].sum(axis=1)\n",
    "df_P_core_E1.drop(['t37','t38'], axis = 1,inplace=True)  \n",
    "df_P_core_E1['19:00']=df_P_core_E1[['t39','t40']].sum(axis=1)\n",
    "df_P_core_E1.drop(['t39','t40'], axis = 1,inplace=True)  \n",
    "df_P_core_E1['20:00']=df_P_core_E1[['t41','t42']].sum(axis=1)\n",
    "df_P_core_E1.drop(['t41','t42'], axis = 1,inplace=True)  \n",
    "df_P_core_E1['21:00']=df_P_core_E1[['t43','t44']].sum(axis=1)\n",
    "df_P_core_E1.drop(['t43','t44'], axis = 1,inplace=True)  \n",
    "df_P_core_E1['22:00']=df_P_core_E1[['t45','t46']].sum(axis=1)\n",
    "df_P_core_E1.drop(['t45','t46'], axis = 1,inplace=True)  \n",
    "df_P_core_E1['23:00']=df_P_core_E1[['t47','t48']].sum(axis=1)\n",
    "df_P_core_E1.drop(['t47','t48'], axis = 1,inplace=True)  "
   ]
  },
  {
   "cell_type": "code",
   "execution_count": 9,
   "id": "a1955c0a",
   "metadata": {},
   "outputs": [],
   "source": [
    "df_P_core_E2['0:00']=df_P_core_E2[['t1','t2']].sum(axis=1)\n",
    "df_P_core_E2.drop(['t1','t2'], axis = 1,inplace=True)  \n",
    "df_P_core_E2['1:00']=df_P_core_E2[['t3','t4']].sum(axis=1)\n",
    "df_P_core_E2.drop(['t3','t4'], axis = 1,inplace=True)  \n",
    "df_P_core_E2['2:00']=df_P_core_E2[['t5','t6']].sum(axis=1)\n",
    "df_P_core_E2.drop(['t5','t6'], axis = 1,inplace=True)  \n",
    "df_P_core_E2['3:00']=df_P_core_E2[['t7','t8']].sum(axis=1)\n",
    "df_P_core_E2.drop(['t7','t8'], axis = 1,inplace=True)  \n",
    "df_P_core_E2['4:00']=df_P_core_E2[['t9','t10']].sum(axis=1)\n",
    "df_P_core_E2.drop(['t9','t10'], axis = 1,inplace=True)  \n",
    "df_P_core_E2['5:00']=df_P_core_E2[['t11','t12']].sum(axis=1)\n",
    "df_P_core_E2.drop(['t11','t12'], axis = 1,inplace=True)  \n",
    "df_P_core_E2['6:00']=df_P_core_E2[['t13','t14']].sum(axis=1)\n",
    "df_P_core_E2.drop(['t13','t14'], axis = 1,inplace=True)  \n",
    "df_P_core_E2['7:00']=df_P_core_E2[['t15','t16']].sum(axis=1)\n",
    "df_P_core_E2.drop(['t15','t16'], axis = 1,inplace=True)  \n",
    "df_P_core_E2['8:00']=df_P_core_E2[['t17','t18']].sum(axis=1)\n",
    "df_P_core_E2.drop(['t17','t18'], axis = 1,inplace=True)  \n",
    "df_P_core_E2['9:00']=df_P_core_E2[['t19','t20']].sum(axis=1)\n",
    "df_P_core_E2.drop(['t19','t20'], axis = 1,inplace=True)  \n",
    "df_P_core_E2['10:00']=df_P_core_E2[['t21','t22']].sum(axis=1)\n",
    "df_P_core_E2.drop(['t21','t22'], axis = 1,inplace=True)  \n",
    "df_P_core_E2['11:00']=df_P_core_E2[['t23','t24']].sum(axis=1)\n",
    "df_P_core_E2.drop(['t23','t24'], axis = 1,inplace=True)  \n",
    "df_P_core_E2['12:00']=df_P_core_E2[['t25','t26']].sum(axis=1)\n",
    "df_P_core_E2.drop(['t25','t26'], axis = 1,inplace=True)  \n",
    "df_P_core_E2['13:00']=df_P_core_E2[['t27','t28']].sum(axis=1)\n",
    "df_P_core_E2.drop(['t27','t28'], axis = 1,inplace=True)  \n",
    "df_P_core_E2['14:00']=df_P_core_E2[['t29','t30']].sum(axis=1)\n",
    "df_P_core_E2.drop(['t29','t30'], axis = 1,inplace=True)  \n",
    "df_P_core_E2['15:00']=df_P_core_E2[['t31','t32']].sum(axis=1)\n",
    "df_P_core_E2.drop(['t31','t32'], axis = 1,inplace=True)  \n",
    "df_P_core_E2['16:00']=df_P_core_E2[['t33','t34']].sum(axis=1)\n",
    "df_P_core_E2.drop(['t33','t34'], axis = 1,inplace=True)  \n",
    "df_P_core_E2['17:00']=df_P_core_E2[['t35','t36']].sum(axis=1)\n",
    "df_P_core_E2.drop(['t35','t36'], axis = 1,inplace=True)  \n",
    "df_P_core_E2['18:00']=df_P_core_E2[['t37','t38']].sum(axis=1)\n",
    "df_P_core_E2.drop(['t37','t38'], axis = 1,inplace=True)  \n",
    "df_P_core_E2['19:00']=df_P_core_E2[['t39','t40']].sum(axis=1)\n",
    "df_P_core_E2.drop(['t39','t40'], axis = 1,inplace=True)  \n",
    "df_P_core_E2['20:00']=df_P_core_E2[['t41','t42']].sum(axis=1)\n",
    "df_P_core_E2.drop(['t41','t42'], axis = 1,inplace=True)  \n",
    "df_P_core_E2['21:00']=df_P_core_E2[['t43','t44']].sum(axis=1)\n",
    "df_P_core_E2.drop(['t43','t44'], axis = 1,inplace=True)  \n",
    "df_P_core_E2['22:00']=df_P_core_E2[['t45','t46']].sum(axis=1)\n",
    "df_P_core_E2.drop(['t45','t46'], axis = 1,inplace=True)  \n",
    "df_P_core_E2['23:00']=df_P_core_E2[['t47','t48']].sum(axis=1)\n",
    "df_P_core_E2.drop(['t47','t48'], axis = 1,inplace=True) "
   ]
  },
  {
   "cell_type": "code",
   "execution_count": 10,
   "id": "655c7ad0",
   "metadata": {},
   "outputs": [],
   "source": [
    "df_P_core_B1['0:00']=df_P_core_B1[['t1','t2']].sum(axis=1)\n",
    "df_P_core_B1.drop(['t1','t2'], axis = 1,inplace=True)  \n",
    "df_P_core_B1['1:00']=df_P_core_B1[['t3','t4']].sum(axis=1)\n",
    "df_P_core_B1.drop(['t3','t4'], axis = 1,inplace=True)  \n",
    "df_P_core_B1['2:00']=df_P_core_B1[['t5','t6']].sum(axis=1)\n",
    "df_P_core_B1.drop(['t5','t6'], axis = 1,inplace=True)  \n",
    "df_P_core_B1['3:00']=df_P_core_B1[['t7','t8']].sum(axis=1)\n",
    "df_P_core_B1.drop(['t7','t8'], axis = 1,inplace=True)  \n",
    "df_P_core_B1['4:00']=df_P_core_B1[['t9','t10']].sum(axis=1)\n",
    "df_P_core_B1.drop(['t9','t10'], axis = 1,inplace=True)  \n",
    "df_P_core_B1['5:00']=df_P_core_B1[['t11','t12']].sum(axis=1)\n",
    "df_P_core_B1.drop(['t11','t12'], axis = 1,inplace=True)  \n",
    "df_P_core_B1['6:00']=df_P_core_B1[['t13','t14']].sum(axis=1)\n",
    "df_P_core_B1.drop(['t13','t14'], axis = 1,inplace=True)  \n",
    "df_P_core_B1['7:00']=df_P_core_B1[['t15','t16']].sum(axis=1)\n",
    "df_P_core_B1.drop(['t15','t16'], axis = 1,inplace=True)  \n",
    "df_P_core_B1['8:00']=df_P_core_B1[['t17','t18']].sum(axis=1)\n",
    "df_P_core_B1.drop(['t17','t18'], axis = 1,inplace=True)  \n",
    "df_P_core_B1['9:00']=df_P_core_B1[['t19','t20']].sum(axis=1)\n",
    "df_P_core_B1.drop(['t19','t20'], axis = 1,inplace=True)  \n",
    "df_P_core_B1['10:00']=df_P_core_B1[['t21','t22']].sum(axis=1)\n",
    "df_P_core_B1.drop(['t21','t22'], axis = 1,inplace=True)  \n",
    "df_P_core_B1['11:00']=df_P_core_B1[['t23','t24']].sum(axis=1)\n",
    "df_P_core_B1.drop(['t23','t24'], axis = 1,inplace=True)  \n",
    "df_P_core_B1['12:00']=df_P_core_B1[['t25','t26']].sum(axis=1)\n",
    "df_P_core_B1.drop(['t25','t26'], axis = 1,inplace=True)  \n",
    "df_P_core_B1['13:00']=df_P_core_B1[['t27','t28']].sum(axis=1)\n",
    "df_P_core_B1.drop(['t27','t28'], axis = 1,inplace=True)  \n",
    "df_P_core_B1['14:00']=df_P_core_B1[['t29','t30']].sum(axis=1)\n",
    "df_P_core_B1.drop(['t29','t30'], axis = 1,inplace=True)  \n",
    "df_P_core_B1['15:00']=df_P_core_B1[['t31','t32']].sum(axis=1)\n",
    "df_P_core_B1.drop(['t31','t32'], axis = 1,inplace=True)  \n",
    "df_P_core_B1['16:00']=df_P_core_B1[['t33','t34']].sum(axis=1)\n",
    "df_P_core_B1.drop(['t33','t34'], axis = 1,inplace=True)  \n",
    "df_P_core_B1['17:00']=df_P_core_B1[['t35','t36']].sum(axis=1)\n",
    "df_P_core_B1.drop(['t35','t36'], axis = 1,inplace=True)  \n",
    "df_P_core_B1['18:00']=df_P_core_B1[['t37','t38']].sum(axis=1)\n",
    "df_P_core_B1.drop(['t37','t38'], axis = 1,inplace=True)  \n",
    "df_P_core_B1['19:00']=df_P_core_B1[['t39','t40']].sum(axis=1)\n",
    "df_P_core_B1.drop(['t39','t40'], axis = 1,inplace=True)  \n",
    "df_P_core_B1['20:00']=df_P_core_B1[['t41','t42']].sum(axis=1)\n",
    "df_P_core_B1.drop(['t41','t42'], axis = 1,inplace=True)  \n",
    "df_P_core_B1['21:00']=df_P_core_B1[['t43','t44']].sum(axis=1)\n",
    "df_P_core_B1.drop(['t43','t44'], axis = 1,inplace=True)  \n",
    "df_P_core_B1['22:00']=df_P_core_B1[['t45','t46']].sum(axis=1)\n",
    "df_P_core_B1.drop(['t45','t46'], axis = 1,inplace=True)  \n",
    "df_P_core_B1['23:00']=df_P_core_B1[['t47','t48']].sum(axis=1)\n",
    "df_P_core_B1.drop(['t47','t48'], axis = 1,inplace=True) "
   ]
  },
  {
   "cell_type": "code",
   "execution_count": 11,
   "id": "5b95aaca",
   "metadata": {},
   "outputs": [],
   "source": [
    "import numpy as np\n",
    "df_P_core_E1_pivot=df_P_core_E1.pivot_table(index=['read_date','channel','postcode'], values=['0:00','1:00','2:00','3:00',\n",
    "                                                                                   '4:00','5:00','6:00','7:00',\n",
    "                                                                                  '8:00','9:00','10:00','11:00',\n",
    "                                                                                  '12:00','13:00','14:00','15:00',\n",
    "                                                                                  '16:00','17:00','18:00','19:00',\n",
    "                                                                                  '20:00','21:00','22:00','23:00'],aggfunc=np.mean)"
   ]
  },
  {
   "cell_type": "code",
   "execution_count": 12,
   "id": "e9b0983e",
   "metadata": {},
   "outputs": [],
   "source": [
    "df_P_core_E2_pivot=df_P_core_E2.pivot_table(index=['read_date','channel','postcode'], values=['0:00','1:00','2:00','3:00',\n",
    "                                                                                   '4:00','5:00','6:00','7:00',\n",
    "                                                                                  '8:00','9:00','10:00','11:00',\n",
    "                                                                                  '12:00','13:00','14:00','15:00',\n",
    "                                                                                  '16:00','17:00','18:00','19:00',\n",
    "                                                                                  '20:00','21:00','22:00','23:00'],aggfunc=np.mean)"
   ]
  },
  {
   "cell_type": "code",
   "execution_count": 13,
   "id": "7ede1616",
   "metadata": {},
   "outputs": [],
   "source": [
    "df_P_core_B1_pivot=df_P_core_B1.pivot_table(index=['read_date','channel','postcode'], values=['0:00','1:00','2:00','3:00',\n",
    "                                                                                   '4:00','5:00','6:00','7:00',\n",
    "                                                                                  '8:00','9:00','10:00','11:00',\n",
    "                                                                                  '12:00','13:00','14:00','15:00',\n",
    "                                                                                  '16:00','17:00','18:00','19:00',\n",
    "                                                                                  '20:00','21:00','22:00','23:00'],aggfunc=np.mean)"
   ]
  },
  {
   "cell_type": "code",
   "execution_count": 14,
   "id": "ed83de8a",
   "metadata": {},
   "outputs": [],
   "source": [
    "reset_df_P_core_E1_pivot= df_P_core_E1_pivot.reset_index()\n",
    "reset_df_P_core_E2_pivot= df_P_core_E2_pivot.reset_index()\n",
    "reset_df_P_core_B1_pivot= df_P_core_B1_pivot.reset_index()"
   ]
  },
  {
   "cell_type": "code",
   "execution_count": 18,
   "id": "6249b5c0",
   "metadata": {},
   "outputs": [],
   "source": [
    "df_P_core_E1_unpivot = reset_df_P_core_E1_pivot.melt(id_vars=['read_date','channel','postcode'], var_name='Interval', \n",
    "                                               value_name='Avg Power (kWh)')"
   ]
  },
  {
   "cell_type": "code",
   "execution_count": 20,
   "id": "6a4356d2",
   "metadata": {},
   "outputs": [],
   "source": [
    "df_P_core_E2_unpivot = reset_df_P_core_E2_pivot.melt(id_vars=['read_date','channel','postcode'], var_name='Interval', \n",
    "                                               value_name='Avg Power (kWh)')"
   ]
  },
  {
   "cell_type": "code",
   "execution_count": 21,
   "id": "c9c23d51",
   "metadata": {},
   "outputs": [],
   "source": [
    "df_P_core_B1_unpivot = reset_df_P_core_B1_pivot.melt(id_vars=['read_date','channel','postcode'], var_name='Interval', \n",
    "                                               value_name='Avg Power (kWh)')"
   ]
  },
  {
   "cell_type": "code",
   "execution_count": 22,
   "id": "549a04d2",
   "metadata": {},
   "outputs": [],
   "source": [
    "Power_core_channel_new=pd.concat([df_P_core_E1_unpivot,df_P_core_E2_unpivot,df_P_core_B1_unpivot],ignore_index=True, sort=True)"
   ]
  },
  {
   "cell_type": "code",
   "execution_count": 31,
   "id": "5cbac2be",
   "metadata": {},
   "outputs": [],
   "source": [
    "Power_core_channel_new.to_csv('Power_core_channel_postcode_new_filtered_1.csv')"
   ]
  },
  {
   "cell_type": "code",
   "execution_count": 27,
   "id": "745e387e",
   "metadata": {},
   "outputs": [
    {
     "data": {
      "text/html": [
       "<div>\n",
       "<style scoped>\n",
       "    .dataframe tbody tr th:only-of-type {\n",
       "        vertical-align: middle;\n",
       "    }\n",
       "\n",
       "    .dataframe tbody tr th {\n",
       "        vertical-align: top;\n",
       "    }\n",
       "\n",
       "    .dataframe thead th {\n",
       "        text-align: right;\n",
       "    }\n",
       "</style>\n",
       "<table border=\"1\" class=\"dataframe\">\n",
       "  <thead>\n",
       "    <tr style=\"text-align: right;\">\n",
       "      <th></th>\n",
       "      <th>read_date</th>\n",
       "      <th>channel</th>\n",
       "      <th>postcode</th>\n",
       "      <th>Interval</th>\n",
       "      <th>Avg Power (kWh)</th>\n",
       "    </tr>\n",
       "  </thead>\n",
       "  <tbody>\n",
       "    <tr>\n",
       "      <th>0</th>\n",
       "      <td>2017-01-01</td>\n",
       "      <td>B1</td>\n",
       "      <td>3000</td>\n",
       "      <td>0:00</td>\n",
       "      <td>0.0</td>\n",
       "    </tr>\n",
       "    <tr>\n",
       "      <th>1</th>\n",
       "      <td>2017-01-01</td>\n",
       "      <td>B1</td>\n",
       "      <td>3003</td>\n",
       "      <td>0:00</td>\n",
       "      <td>0.0</td>\n",
       "    </tr>\n",
       "    <tr>\n",
       "      <th>2</th>\n",
       "      <td>2017-01-01</td>\n",
       "      <td>B1</td>\n",
       "      <td>3015</td>\n",
       "      <td>0:00</td>\n",
       "      <td>0.0</td>\n",
       "    </tr>\n",
       "    <tr>\n",
       "      <th>3</th>\n",
       "      <td>2017-01-01</td>\n",
       "      <td>B1</td>\n",
       "      <td>3018</td>\n",
       "      <td>0:00</td>\n",
       "      <td>0.0</td>\n",
       "    </tr>\n",
       "    <tr>\n",
       "      <th>4</th>\n",
       "      <td>2017-01-01</td>\n",
       "      <td>B1</td>\n",
       "      <td>3019</td>\n",
       "      <td>0:00</td>\n",
       "      <td>0.0</td>\n",
       "    </tr>\n",
       "  </tbody>\n",
       "</table>\n",
       "</div>"
      ],
      "text/plain": [
       "   read_date channel  postcode Interval  Avg Power (kWh)\n",
       "0 2017-01-01      B1      3000     0:00              0.0\n",
       "1 2017-01-01      B1      3003     0:00              0.0\n",
       "2 2017-01-01      B1      3015     0:00              0.0\n",
       "3 2017-01-01      B1      3018     0:00              0.0\n",
       "4 2017-01-01      B1      3019     0:00              0.0"
      ]
     },
     "execution_count": 27,
     "metadata": {},
     "output_type": "execute_result"
    }
   ],
   "source": []
  },
  {
   "cell_type": "code",
   "execution_count": 30,
   "id": "a19e599a",
   "metadata": {},
   "outputs": [
    {
     "data": {
      "text/plain": [
       "24"
      ]
     },
     "execution_count": 30,
     "metadata": {},
     "output_type": "execute_result"
    }
   ],
   "source": [
    "len(pd.unique(Power_core_channel_new['Interval']))"
   ]
  },
  {
   "cell_type": "code",
   "execution_count": null,
   "id": "4192b7f6",
   "metadata": {},
   "outputs": [],
   "source": []
  }
 ],
 "metadata": {
  "kernelspec": {
   "display_name": "Python 3 (ipykernel)",
   "language": "python",
   "name": "python3"
  },
  "language_info": {
   "codemirror_mode": {
    "name": "ipython",
    "version": 3
   },
   "file_extension": ".py",
   "mimetype": "text/x-python",
   "name": "python",
   "nbconvert_exporter": "python",
   "pygments_lexer": "ipython3",
   "version": "3.7.1"
  }
 },
 "nbformat": 4,
 "nbformat_minor": 5
}
