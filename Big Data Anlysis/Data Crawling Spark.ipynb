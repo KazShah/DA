{
 "cells": [
  {
   "cell_type": "markdown",
   "metadata": {
    "id": "Av_sK6JRQag5"
   },
   "source": [
    "# SIT742: Modern Data Science \n",
    "**(2021 Assessment Task 02 - Data Analytics)**\n",
    "\n",
    "---\n",
    "- Please refer to the CloudDeakin for the detailed assessment requirements.\n",
    "- Please submit to Clouddeakin before the due date.\n",
    "- It is a group assignment, and please form a group and self-enrol into the CloudDeakin groups.\n",
    "- Students with difficulty in meeting the deadline because of illness, etc. must apply for an assignment extension in CloudDeakin no later than *12:00pm on 21/05/2021 (Friday)*.\n",
    "\n",
    "\n",
    "Prepared by **SIT742 Teaching Team**\n",
    "\n",
    "\n",
    "---\n",
    "\n",
    "<div class=\"alert alert-block alert-info\">\n",
    "Enter your group information in the following cell.   \n",
    "</div>\n",
    "\n",
    "**Student Information:** Please fill your group information below\n",
    "\n",
    "- Group ID:T2G2M-23\n",
    "- Names:  Omer Muzffar Cheema, Muhammad Kazim\n",
    "- Student IDs:  220087771, 218200403 \n",
    "- Emails:  \n",
    "- Lab Session and Tutor (for on campus students): \n",
    "\n",
    "---\n",
    "\n",
    "\n",
    "# Part I - Web Log Data\n",
    "\n",
    "## Overview\n",
    "\n",
    "Hotel TULIP a five-star hotel located at Deakin University, and its CIO Dr Bear Guts has asked the Team-SIT742 team to analyse the weblogs files. Hence, Hotel TULIP would like you *Group-SIT742* (a hypothetical data analytics group with up to 3 data analysers) to analyse web log files and discover user accessing patterns of different web pages. \n",
    "\n",
    "In this part, you are required to use give dataset to finish some required analysis, with the exploreation data analytics skills as well as visuilization skill.\n",
    "\n",
    "\n",
    "You will be required to complete the coding to answer the questions with a neat and clean format, and you must keep outputs for code. Your commenting and adherence to code standards will also be considered when marking. Further information on Python standards, please visit https://www.python.org/dev/peps/pep-0008/ \n",
    "\n",
    "\n",
    "**Note**: You are not restricted to the partial code provided, and you can write your own code to implement the required tasks. But you should provide sufficient comments.\n"
   ]
  },
  {
   "cell_type": "markdown",
   "metadata": {
    "id": "gamCnd8GKEJ7"
   },
   "source": [
    "## 1.Data ETL"
   ]
  },
  {
   "cell_type": "markdown",
   "metadata": {
    "id": "z6Ro64a9KNWs"
   },
   "source": [
    "### 1.1 Load Data"
   ]
  },
  {
   "cell_type": "code",
   "execution_count": 1,
   "metadata": {},
   "outputs": [],
   "source": [
    "import matplotlib.pyplot as plt\n",
    "import numpy as np\n",
    "import pandas as pd\n",
    "import time\n",
    "from datetime import datetime\n",
    "from scipy import stats\n",
    "import matplotlib\n",
    "import os\n",
    "from zipfile import ZipFile\n",
    "from ipywidgets import IntProgress\n",
    "from IPython.display import display\n",
    "import warnings\n",
    "warnings.filterwarnings('ignore')"
   ]
  },
  {
   "cell_type": "code",
   "execution_count": 2,
   "metadata": {},
   "outputs": [
    {
     "data": {
      "application/vnd.jupyter.widget-view+json": {
       "model_id": "dda3d31dbc104e7495657cdb08a81dfd",
       "version_major": 2,
       "version_minor": 0
      },
      "text/plain": [
       "IntProgress(value=0, description='Loading:', max=120)"
      ]
     },
     "metadata": {},
     "output_type": "display_data"
    },
    {
     "name": "stdout",
     "output_type": "stream",
     "text": [
      "Finished loading 120 web log files.\n"
     ]
    }
   ],
   "source": [
    "from ipywidgets import IntProgress\n",
    "from IPython.display import display\n",
    "from zipfile import ZipFile\n",
    "\n",
    "all_files = ZipFile('HTWebLog_p1.zip','r')\n",
    "files = all_files.namelist()\n",
    "\n",
    "data = []\n",
    "ColumnNames=['date','time','s-sitename','s-ip','cs-method','cs-uri-stem','cs-uri-query','s-port','cs-username',\n",
    "             'c-ip','cs(User-Agent)','cs(Referer)','sc-status','sc-substatus','sc-win32-status']\n",
    "\n",
    "ProgressBar = IntProgress(value=0,min=0,max=len(files),step=1,\n",
    "                          description='Loading:',bar_style='',orientation='horizontal')\n",
    "display(ProgressBar)\n",
    "\n",
    "for name in all_files.namelist():\n",
    "    ProgressBar.value += 1\n",
    "    load_file = pd.read_csv(all_files.open(name),\n",
    "                            delim_whitespace=True,\n",
    "                            na_values='-',\n",
    "                            skiprows = 4,\n",
    "                            usecols=[0,1,2,3,4,5,6,7,8,9,10,11,12,13,14],\n",
    "                            header=None,\n",
    "                            encoding='iso-8859-1',\n",
    "                            names=ColumnNames,\n",
    "                            error_bad_lines=False,\n",
    "                            warn_bad_lines=False,\n",
    "                            dtype={'date': str,'time': str,'s-sitename': str, 's-ip': str,'cs-method': str,'cs-uri-stem': str,\n",
    "                                   'cs-uri-query': str,'s-port': str,'cs-username': str,'c-ip': str,'cs(User-Agent)': str,\n",
    "                                   'cs(Referer)': str, 'sc-status': str,'sc-substatus': str,'sc-win32-status': str})\n",
    "    \n",
    "    \n",
    "    load_file = load_file[~load_file['date'].str.startswith(\"#\")]\n",
    "    \n",
    "    data.append(load_file)\n",
    "\n",
    "\n",
    "df_ht_new = pd.concat(data)\n",
    "\n",
    "\n",
    "print ('Finished loading', ProgressBar.value, 'web log files.')"
   ]
  },
  {
   "cell_type": "code",
   "execution_count": 3,
   "metadata": {},
   "outputs": [
    {
     "data": {
      "text/html": [
       "<div>\n",
       "<style scoped>\n",
       "    .dataframe tbody tr th:only-of-type {\n",
       "        vertical-align: middle;\n",
       "    }\n",
       "\n",
       "    .dataframe tbody tr th {\n",
       "        vertical-align: top;\n",
       "    }\n",
       "\n",
       "    .dataframe thead th {\n",
       "        text-align: right;\n",
       "    }\n",
       "</style>\n",
       "<table border=\"1\" class=\"dataframe\">\n",
       "  <thead>\n",
       "    <tr style=\"text-align: right;\">\n",
       "      <th></th>\n",
       "      <th>date</th>\n",
       "      <th>time</th>\n",
       "      <th>s-sitename</th>\n",
       "      <th>s-ip</th>\n",
       "      <th>cs-method</th>\n",
       "      <th>cs-uri-stem</th>\n",
       "      <th>cs-uri-query</th>\n",
       "      <th>s-port</th>\n",
       "      <th>cs-username</th>\n",
       "      <th>c-ip</th>\n",
       "      <th>cs(User-Agent)</th>\n",
       "      <th>cs(Referer)</th>\n",
       "      <th>sc-status</th>\n",
       "      <th>sc-substatus</th>\n",
       "      <th>sc-win32-status</th>\n",
       "    </tr>\n",
       "  </thead>\n",
       "  <tbody>\n",
       "    <tr>\n",
       "      <th>count</th>\n",
       "      <td>8438928</td>\n",
       "      <td>8438928</td>\n",
       "      <td>8438928</td>\n",
       "      <td>8438928</td>\n",
       "      <td>8438928</td>\n",
       "      <td>8438928</td>\n",
       "      <td>552396</td>\n",
       "      <td>8438928</td>\n",
       "      <td>0</td>\n",
       "      <td>8438928</td>\n",
       "      <td>8435401</td>\n",
       "      <td>7129934</td>\n",
       "      <td>8438928</td>\n",
       "      <td>8438928</td>\n",
       "      <td>8438928</td>\n",
       "    </tr>\n",
       "    <tr>\n",
       "      <th>unique</th>\n",
       "      <td>121</td>\n",
       "      <td>86372</td>\n",
       "      <td>1</td>\n",
       "      <td>1</td>\n",
       "      <td>6</td>\n",
       "      <td>4761</td>\n",
       "      <td>1987</td>\n",
       "      <td>1</td>\n",
       "      <td>0</td>\n",
       "      <td>74548</td>\n",
       "      <td>4958</td>\n",
       "      <td>39714</td>\n",
       "      <td>12</td>\n",
       "      <td>4</td>\n",
       "      <td>14</td>\n",
       "    </tr>\n",
       "    <tr>\n",
       "      <th>top</th>\n",
       "      <td>2006-12-12</td>\n",
       "      <td>08:37:00</td>\n",
       "      <td>W3SVC1</td>\n",
       "      <td>127.0.0.1</td>\n",
       "      <td>GET</td>\n",
       "      <td>/Tulip/common/common_style.aspx</td>\n",
       "      <td>lang=en-us</td>\n",
       "      <td>80</td>\n",
       "      <td>NaN</td>\n",
       "      <td>59.188.33.66</td>\n",
       "      <td>Mozilla/4.0+(compatible;+MSIE+6.0;+Windows+NT+...</td>\n",
       "      <td>http://www.hotelTulip.com.hk/Tulip/home/en-us/...</td>\n",
       "      <td>200</td>\n",
       "      <td>0</td>\n",
       "      <td>0</td>\n",
       "    </tr>\n",
       "    <tr>\n",
       "      <th>freq</th>\n",
       "      <td>120190</td>\n",
       "      <td>382</td>\n",
       "      <td>8438928</td>\n",
       "      <td>8438928</td>\n",
       "      <td>8421984</td>\n",
       "      <td>402987</td>\n",
       "      <td>231265</td>\n",
       "      <td>8438928</td>\n",
       "      <td>NaN</td>\n",
       "      <td>93769</td>\n",
       "      <td>1982248</td>\n",
       "      <td>1618649</td>\n",
       "      <td>6074386</td>\n",
       "      <td>8438223</td>\n",
       "      <td>8057000</td>\n",
       "    </tr>\n",
       "  </tbody>\n",
       "</table>\n",
       "</div>"
      ],
      "text/plain": [
       "              date      time s-sitename       s-ip cs-method  \\\n",
       "count      8438928   8438928    8438928    8438928   8438928   \n",
       "unique         121     86372          1          1         6   \n",
       "top     2006-12-12  08:37:00     W3SVC1  127.0.0.1       GET   \n",
       "freq        120190       382    8438928    8438928   8421984   \n",
       "\n",
       "                            cs-uri-stem cs-uri-query   s-port cs-username  \\\n",
       "count                           8438928       552396  8438928           0   \n",
       "unique                             4761         1987        1           0   \n",
       "top     /Tulip/common/common_style.aspx   lang=en-us       80         NaN   \n",
       "freq                             402987       231265  8438928         NaN   \n",
       "\n",
       "                c-ip                                     cs(User-Agent)  \\\n",
       "count        8438928                                            8435401   \n",
       "unique         74548                                               4958   \n",
       "top     59.188.33.66  Mozilla/4.0+(compatible;+MSIE+6.0;+Windows+NT+...   \n",
       "freq           93769                                            1982248   \n",
       "\n",
       "                                              cs(Referer) sc-status  \\\n",
       "count                                             7129934   8438928   \n",
       "unique                                              39714        12   \n",
       "top     http://www.hotelTulip.com.hk/Tulip/home/en-us/...       200   \n",
       "freq                                              1618649   6074386   \n",
       "\n",
       "       sc-substatus sc-win32-status  \n",
       "count       8438928         8438928  \n",
       "unique            4              14  \n",
       "top               0               0  \n",
       "freq        8438223         8057000  "
      ]
     },
     "execution_count": 3,
     "metadata": {},
     "output_type": "execute_result"
    }
   ],
   "source": [
    "df_ht_new.describe()"
   ]
  },
  {
   "cell_type": "markdown",
   "metadata": {
    "id": "SmbO0UE1KrvL"
   },
   "source": [
    "In order to reduce the processing time, we will remove all missing values for data and only select 30% of total data for classification. \n",
    "\n",
    "**Code**: \n",
    "    1. Remove all NAs, for the columns, if the column is with 15% NAs, you need to remove that column. Then, for the rows, if there are any NAs in that row, you need to remove that row (requests)  \n",
    "    2. select 30\\% of the total data in to a new dataframe weblog_df.\n",
    "    \n",
    "    *Keep the outputs for code in your notebook.\n",
    "\n",
    "**Report**:\n",
    "    The number of requests in weblog\\_df.\n"
   ]
  },
  {
   "cell_type": "code",
   "execution_count": 4,
   "metadata": {},
   "outputs": [
    {
     "data": {
      "text/plain": [
       "date                     0\n",
       "time                     0\n",
       "s-sitename               0\n",
       "s-ip                     0\n",
       "cs-method                0\n",
       "cs-uri-stem              0\n",
       "cs-uri-query       7886532\n",
       "s-port                   0\n",
       "cs-username        8438928\n",
       "c-ip                     0\n",
       "cs(User-Agent)        3527\n",
       "cs(Referer)        1308994\n",
       "sc-status                0\n",
       "sc-substatus             0\n",
       "sc-win32-status          0\n",
       "dtype: int64"
      ]
     },
     "execution_count": 4,
     "metadata": {},
     "output_type": "execute_result"
    }
   ],
   "source": [
    "#Checking columns with null values\n",
    "df_ht_new.isnull().sum()"
   ]
  },
  {
   "cell_type": "code",
   "execution_count": 6,
   "metadata": {},
   "outputs": [
    {
     "name": "stdout",
     "output_type": "stream",
     "text": [
      "Cs-uri-query null values in percentage=93.45419228603443%\n",
      "Cs-username null values in percentage=100.0%\n",
      "Cs(Referere) null values in percentage=15.51137774845336%\n"
     ]
    }
   ],
   "source": [
    "#Calculating null percentage from top null columns as shown above\n",
    "cs_uri_query_null_avg=((df_ht_new['cs-uri-query'].isnull().sum())/len(df_ht_new))*100\n",
    "cs_username_null_avg=((df_ht_new['cs-username'].isnull().sum())/len(df_ht_new))*100\n",
    "cs_Referer_null_avg=((df_ht_new['cs(Referer)'].isnull().sum())/len(df_ht_new))*100\n",
    "print(\"Cs-uri-query null values in percentage={}%\".format(cs_uri_query_null_avg))\n",
    "print(\"Cs-username null values in percentage={}%\".format(cs_username_null_avg))\n",
    "print(\"Cs(Referere) null values in percentage={}%\".format(cs_Referer_null_avg))"
   ]
  },
  {
   "cell_type": "code",
   "execution_count": 7,
   "metadata": {},
   "outputs": [],
   "source": [
    "#As these 03 columns have more than 15% null values so  them from dataset\n",
    "df_ht_new.drop(['cs-uri-query','cs-username','cs(Referer)'], axis = 1,inplace=True)"
   ]
  },
  {
   "cell_type": "code",
   "execution_count": 8,
   "metadata": {},
   "outputs": [],
   "source": [
    "#Removing rows with NA's\n",
    "df_ht_new.dropna(axis = 0, inplace= True) "
   ]
  },
  {
   "cell_type": "code",
   "execution_count": 9,
   "metadata": {},
   "outputs": [],
   "source": [
    "# only 30% of total data are selected for classification\n",
    "\n",
    "#Your code to show the number of requests in weblog_df\n",
    "\n",
    "#Selecting 30% data as per requirement\n",
    "weblog_df = df_ht_new.sample(frac = 0.3, random_state=1)"
   ]
  },
  {
   "cell_type": "code",
   "execution_count": 10,
   "metadata": {},
   "outputs": [
    {
     "name": "stdout",
     "output_type": "stream",
     "text": [
      "Total Rows after removal of null data 2530620\n"
     ]
    }
   ],
   "source": [
    "print ('Total Rows after removal of null data', len(weblog_df))"
   ]
  },
  {
   "cell_type": "code",
   "execution_count": 11,
   "metadata": {},
   "outputs": [
    {
     "name": "stdout",
     "output_type": "stream",
     "text": [
      "<class 'pandas.core.frame.DataFrame'>\n",
      "Int64Index: 2530620 entries, 25357 to 33575\n",
      "Data columns (total 12 columns):\n",
      " #   Column           Dtype \n",
      "---  ------           ----- \n",
      " 0   date             object\n",
      " 1   time             object\n",
      " 2   s-sitename       object\n",
      " 3   s-ip             object\n",
      " 4   cs-method        object\n",
      " 5   cs-uri-stem      object\n",
      " 6   s-port           object\n",
      " 7   c-ip             object\n",
      " 8   cs(User-Agent)   object\n",
      " 9   sc-status        object\n",
      " 10  sc-substatus     object\n",
      " 11  sc-win32-status  object\n",
      "dtypes: object(12)\n",
      "memory usage: 251.0+ MB\n"
     ]
    }
   ],
   "source": [
    "weblog_df.info()"
   ]
  },
  {
   "cell_type": "code",
   "execution_count": 12,
   "metadata": {},
   "outputs": [],
   "source": [
    "#Your code to remove missing values as required.\n",
    "df_ht_new.replace({\"-\":np.nan},inplace=True)"
   ]
  },
  {
   "cell_type": "code",
   "execution_count": 13,
   "metadata": {},
   "outputs": [
    {
     "data": {
      "text/plain": [
       "date               0\n",
       "time               0\n",
       "s-sitename         0\n",
       "s-ip               0\n",
       "cs-method          0\n",
       "cs-uri-stem        0\n",
       "s-port             0\n",
       "c-ip               0\n",
       "cs(User-Agent)     0\n",
       "sc-status          0\n",
       "sc-substatus       0\n",
       "sc-win32-status    0\n",
       "dtype: int64"
      ]
     },
     "execution_count": 13,
     "metadata": {},
     "output_type": "execute_result"
    }
   ],
   "source": [
    "df_ht_new.isnull().sum()"
   ]
  },
  {
   "cell_type": "code",
   "execution_count": 16,
   "metadata": {},
   "outputs": [],
   "source": [
    "#weblog_df.to_csv('web_logs.csv',index=0)"
   ]
  },
  {
   "cell_type": "markdown",
   "metadata": {
    "id": "qaKs1Ic5Ln8F"
   },
   "source": [
    "### 1.2 Feature Selection\n",
    "\n",
    "**Code**: \n",
    "    You are required to select *'cs_method'*,*'cs_ip'*,*'cs_uri_stem'*,*'cs(Referer)'* as input features  and 'sc_status' as class label into a new dataframe ml_df for following Machine Learning Tasks. \n",
    "\n",
    "*Keep the outputs for code in your notebook.\n",
    "\n",
    "**Report**:\n",
    "    1. Data Description of ml_df,  \n",
    "    2. Print top 5 rows of ml_df.\n",
    "\n"
   ]
  },
  {
   "cell_type": "code",
   "execution_count": 14,
   "metadata": {
    "id": "begZOxggN2A8"
   },
   "outputs": [],
   "source": [
    "# Your code for feature selection\n",
    "weblog_df.drop(['date','time','s-sitename','s-ip','s-port','sc-substatus','sc-win32-status'], axis = 1,inplace=True)\n",
    "\n",
    "\n",
    "\n"
   ]
  },
  {
   "cell_type": "code",
   "execution_count": 15,
   "metadata": {},
   "outputs": [
    {
     "data": {
      "text/html": [
       "<div>\n",
       "<style scoped>\n",
       "    .dataframe tbody tr th:only-of-type {\n",
       "        vertical-align: middle;\n",
       "    }\n",
       "\n",
       "    .dataframe tbody tr th {\n",
       "        vertical-align: top;\n",
       "    }\n",
       "\n",
       "    .dataframe thead th {\n",
       "        text-align: right;\n",
       "    }\n",
       "</style>\n",
       "<table border=\"1\" class=\"dataframe\">\n",
       "  <thead>\n",
       "    <tr style=\"text-align: right;\">\n",
       "      <th></th>\n",
       "      <th>cs-method</th>\n",
       "      <th>cs-uri-stem</th>\n",
       "      <th>c-ip</th>\n",
       "      <th>cs(User-Agent)</th>\n",
       "      <th>sc-status</th>\n",
       "    </tr>\n",
       "  </thead>\n",
       "  <tbody>\n",
       "    <tr>\n",
       "      <th>25357</th>\n",
       "      <td>GET</td>\n",
       "      <td>/Tulip/common/en-us/images/topmenu_zh-hk.gif</td>\n",
       "      <td>218.102.231.100</td>\n",
       "      <td>Mozilla/4.0+(compatible;+MSIE+6.0;+Windows+NT+...</td>\n",
       "      <td>200</td>\n",
       "    </tr>\n",
       "    <tr>\n",
       "      <th>89819</th>\n",
       "      <td>GET</td>\n",
       "      <td>/Tulip/common/en-us/images/top_logo.gif</td>\n",
       "      <td>218.190.226.30</td>\n",
       "      <td>Mozilla/4.0+(compatible;+MSIE+6.0;+Windows+NT+...</td>\n",
       "      <td>200</td>\n",
       "    </tr>\n",
       "    <tr>\n",
       "      <th>19333</th>\n",
       "      <td>GET</td>\n",
       "      <td>/Tulip/common/en-us/images/sectionbanner_about...</td>\n",
       "      <td>203.241.147.26</td>\n",
       "      <td>Mozilla/4.0+(compatible;+MSIE+6.0;+Windows+NT+...</td>\n",
       "      <td>304</td>\n",
       "    </tr>\n",
       "    <tr>\n",
       "      <th>29761</th>\n",
       "      <td>GET</td>\n",
       "      <td>/Tulip/public/2899_2.jpg</td>\n",
       "      <td>203.85.132.97</td>\n",
       "      <td>Mozilla/4.0+(compatible;+MSIE+6.0;+Windows+NT+...</td>\n",
       "      <td>200</td>\n",
       "    </tr>\n",
       "    <tr>\n",
       "      <th>52909</th>\n",
       "      <td>GET</td>\n",
       "      <td>/Tulip/common/en-us/images/topmenu_zh-hk.gif</td>\n",
       "      <td>218.186.9.5</td>\n",
       "      <td>Mozilla/4.0+(compatible;+MSIE+6.0;+Windows+NT+...</td>\n",
       "      <td>200</td>\n",
       "    </tr>\n",
       "  </tbody>\n",
       "</table>\n",
       "</div>"
      ],
      "text/plain": [
       "      cs-method                                        cs-uri-stem  \\\n",
       "25357       GET       /Tulip/common/en-us/images/topmenu_zh-hk.gif   \n",
       "89819       GET            /Tulip/common/en-us/images/top_logo.gif   \n",
       "19333       GET  /Tulip/common/en-us/images/sectionbanner_about...   \n",
       "29761       GET                           /Tulip/public/2899_2.jpg   \n",
       "52909       GET       /Tulip/common/en-us/images/topmenu_zh-hk.gif   \n",
       "\n",
       "                  c-ip                                     cs(User-Agent)  \\\n",
       "25357  218.102.231.100  Mozilla/4.0+(compatible;+MSIE+6.0;+Windows+NT+...   \n",
       "89819   218.190.226.30  Mozilla/4.0+(compatible;+MSIE+6.0;+Windows+NT+...   \n",
       "19333   203.241.147.26  Mozilla/4.0+(compatible;+MSIE+6.0;+Windows+NT+...   \n",
       "29761    203.85.132.97  Mozilla/4.0+(compatible;+MSIE+6.0;+Windows+NT+...   \n",
       "52909      218.186.9.5  Mozilla/4.0+(compatible;+MSIE+6.0;+Windows+NT+...   \n",
       "\n",
       "      sc-status  \n",
       "25357       200  \n",
       "89819       200  \n",
       "19333       304  \n",
       "29761       200  \n",
       "52909       200  "
      ]
     },
     "execution_count": 15,
     "metadata": {},
     "output_type": "execute_result"
    }
   ],
   "source": [
    "#Your code to show the top 5 rows of ml_df\n",
    "ml_df=pd.DataFrame(weblog_df)\n",
    "ml_df.head()"
   ]
  },
  {
   "cell_type": "code",
   "execution_count": 16,
   "metadata": {},
   "outputs": [
    {
     "data": {
      "text/plain": [
       "cs-method         0\n",
       "cs-uri-stem       0\n",
       "c-ip              0\n",
       "cs(User-Agent)    0\n",
       "sc-status         0\n",
       "dtype: int64"
      ]
     },
     "execution_count": 16,
     "metadata": {},
     "output_type": "execute_result"
    }
   ],
   "source": [
    "ml_df.isnull().sum()"
   ]
  },
  {
   "cell_type": "code",
   "execution_count": 17,
   "metadata": {},
   "outputs": [],
   "source": [
    "ml_df = ml_df.astype(str)"
   ]
  },
  {
   "cell_type": "markdown",
   "metadata": {
    "id": "1j3dndKNMgDO"
   },
   "source": [
    "## 2.Unsupervised Learning\n",
    " You are required to complete this part only using **sklearn**.\n",
    "\n",
    "\n",
    "**Code**: \n",
    "    1. Perform unsupervised learning on ml_df with K Means, with a varying K from 2 to 10;\n",
    "    2. Plot in the elbow plot. \n",
    "    \n",
    "    *Keep the outputs for code in your notebook.\n",
    "\n",
    "**Report**:\n",
    "    1. Figure 'KMeans' in the elbow plot, with a varying K from 2 to 10.\n",
    "\n"
   ]
  },
  {
   "cell_type": "code",
   "execution_count": 20,
   "metadata": {},
   "outputs": [
    {
     "data": {
      "text/html": [
       "<div>\n",
       "<style scoped>\n",
       "    .dataframe tbody tr th:only-of-type {\n",
       "        vertical-align: middle;\n",
       "    }\n",
       "\n",
       "    .dataframe tbody tr th {\n",
       "        vertical-align: top;\n",
       "    }\n",
       "\n",
       "    .dataframe thead th {\n",
       "        text-align: right;\n",
       "    }\n",
       "</style>\n",
       "<table border=\"1\" class=\"dataframe\">\n",
       "  <thead>\n",
       "    <tr style=\"text-align: right;\">\n",
       "      <th></th>\n",
       "      <th>cs-method</th>\n",
       "      <th>cs-uri-stem</th>\n",
       "      <th>c-ip</th>\n",
       "      <th>cs(User-Agent)</th>\n",
       "      <th>sc-status</th>\n",
       "    </tr>\n",
       "  </thead>\n",
       "  <tbody>\n",
       "    <tr>\n",
       "      <th>25357</th>\n",
       "      <td>0</td>\n",
       "      <td>2125</td>\n",
       "      <td>26069</td>\n",
       "      <td>862</td>\n",
       "      <td>0</td>\n",
       "    </tr>\n",
       "    <tr>\n",
       "      <th>89819</th>\n",
       "      <td>0</td>\n",
       "      <td>2119</td>\n",
       "      <td>31171</td>\n",
       "      <td>1385</td>\n",
       "      <td>0</td>\n",
       "    </tr>\n",
       "    <tr>\n",
       "      <th>19333</th>\n",
       "      <td>0</td>\n",
       "      <td>2093</td>\n",
       "      <td>18482</td>\n",
       "      <td>572</td>\n",
       "      <td>4</td>\n",
       "    </tr>\n",
       "    <tr>\n",
       "      <th>29761</th>\n",
       "      <td>0</td>\n",
       "      <td>2741</td>\n",
       "      <td>18825</td>\n",
       "      <td>1385</td>\n",
       "      <td>0</td>\n",
       "    </tr>\n",
       "    <tr>\n",
       "      <th>52909</th>\n",
       "      <td>0</td>\n",
       "      <td>2125</td>\n",
       "      <td>30001</td>\n",
       "      <td>1725</td>\n",
       "      <td>0</td>\n",
       "    </tr>\n",
       "  </tbody>\n",
       "</table>\n",
       "</div>"
      ],
      "text/plain": [
       "       cs-method  cs-uri-stem   c-ip  cs(User-Agent)  sc-status\n",
       "25357          0         2125  26069             862          0\n",
       "89819          0         2119  31171            1385          0\n",
       "19333          0         2093  18482             572          4\n",
       "29761          0         2741  18825            1385          0\n",
       "52909          0         2125  30001            1725          0"
      ]
     },
     "execution_count": 20,
     "metadata": {},
     "output_type": "execute_result"
    }
   ],
   "source": [
    "from sklearn import preprocessing\n",
    "le_df = ml_df.apply(preprocessing.LabelEncoder().fit_transform)\n",
    "le_df.head()"
   ]
  },
  {
   "cell_type": "code",
   "execution_count": 22,
   "metadata": {},
   "outputs": [
    {
     "data": {
      "image/png": "[encoded data removed]",
      "text/plain": [
       "<Figure size 432x288 with 1 Axes>"
      ]
     },
     "metadata": {
      "needs_background": "light"
     },
     "output_type": "display_data"
    }
   ],
   "source": [
    "from sklearn.cluster import KMeans\n",
    "from sklearn import preprocessing\n",
    "#le_df = ml_df.apply(preprocessing.LabelEncoder().fit_transform)\n",
    "x_df=le_df.drop('sc-status',axis=1)\n",
    "y_df=le_df['sc-status']\n",
    "Sum_of_squared_distances=[]\n",
    "K=range(2,11)\n",
    "for k in K:\n",
    "    km=KMeans(n_clusters=k)\n",
    "    km=km.fit(x_df)\n",
    "    Sum_of_squared_distances.append(km.inertia_)\n",
    "plt.plot(K,Sum_of_squared_distances,'bx-')\n",
    "plt.xlabel('k')\n",
    "plt.ylabel('Sum_of_squared_distances')\n",
    "plt.title('Elbow Method')\n",
    "plt.show()"
   ]
  },
  {
   "cell_type": "markdown",
   "metadata": {
    "id": "dU6zSmu0OEHC"
   },
   "source": [
    "## 3.Supervised Learning\n",
    " You are required to complete this part only using **PySpark**.\n"
   ]
  },
  {
   "cell_type": "code",
   "execution_count": 23,
   "metadata": {},
   "outputs": [
    {
     "data": {
      "text/plain": [
       "'C:\\\\spark-3.1.1-bin-hadoop2.7'"
      ]
     },
     "execution_count": 23,
     "metadata": {},
     "output_type": "execute_result"
    }
   ],
   "source": [
    "import findspark\n",
    "findspark.init()\n",
    "findspark.find()"
   ]
  },
  {
   "cell_type": "code",
   "execution_count": 24,
   "metadata": {},
   "outputs": [],
   "source": [
    "import pyspark"
   ]
  },
  {
   "cell_type": "code",
   "execution_count": 3,
   "metadata": {
    "id": "HRzcbPF4Pskq"
   },
   "outputs": [],
   "source": [
    "from pyspark.sql import SparkSession \n",
    "from pyspark.sql.types import *\n",
    "\n",
    "spark = SparkSession.builder.appName('SIT742T2').getOrCreate()"
   ]
  },
  {
   "cell_type": "markdown",
   "metadata": {
    "id": "RncKyIESOMnJ"
   },
   "source": [
    "### 3.1 Data Preparation \n",
    "\n",
    "In order to reduce the processing time, we will select 10% of le_df."
   ]
  },
  {
   "cell_type": "code",
   "execution_count": 20,
   "metadata": {
    "id": "DE23Ll_fOS5J"
   },
   "outputs": [],
   "source": [
    "schema = StructType([StructField(\"sc-status\", IntegerType(), True),\n",
    "                     StructField(\"cs-method\", IntegerType(), True),\n",
    "                     StructField(\"c-ip\", IntegerType(), True),\n",
    "                     StructField(\"cs-uri-stem\", IntegerType(), True),\n",
    "                     StructField(\"cs(User-Agent)\", IntegerType(), True)])\n",
    "\n",
    "lr_df = spark.createDataFrame(le_df, schema)"
   ]
  },
  {
   "cell_type": "code",
   "execution_count": 21,
   "metadata": {},
   "outputs": [],
   "source": [
    "lr_df_new=lr_df.sample(fraction=0.1,seed=1)"
   ]
  },
  {
   "cell_type": "code",
   "execution_count": 22,
   "metadata": {
    "id": "Ut3zjBOyU2FU"
   },
   "outputs": [
    {
     "name": "stdout",
     "output_type": "stream",
     "text": [
      "+---------+---------+-----+-----------+--------------+--------------------+\n",
      "|sc-status|cs-method| c-ip|cs-uri-stem|cs(User-Agent)|            features|\n",
      "+---------+---------+-----+-----------+--------------+--------------------+\n",
      "|        0|     2165|14204|       1398|             1|[2165.0,14204.0,1...|\n",
      "|        0|     2895|47341|       1545|             1|[2895.0,47341.0,1...|\n",
      "|        0|     2133|19538|        560|             1|[2133.0,19538.0,5...|\n",
      "+---------+---------+-----+-----------+--------------+--------------------+\n",
      "only showing top 3 rows\n",
      "\n"
     ]
    }
   ],
   "source": [
    "from pyspark.ml.linalg import Vectors\n",
    "from pyspark.ml.feature import VectorAssembler\n",
    "# transformer\n",
    "vector_assembler = VectorAssembler(inputCols=['cs-method', 'c-ip', 'cs-uri-stem', 'cs(User-Agent)'],outputCol=\"features\")\n",
    "df_temp = vector_assembler.transform(lr_df_new )\n",
    "df_temp.show(3)"
   ]
  },
  {
   "cell_type": "code",
   "execution_count": 23,
   "metadata": {
    "id": "JBoKE5tYVdXj"
   },
   "outputs": [
    {
     "name": "stdout",
     "output_type": "stream",
     "text": [
      "+---------+--------------------+\n",
      "|sc-status|            features|\n",
      "+---------+--------------------+\n",
      "|        0|[2165.0,14204.0,1...|\n",
      "|        0|[2895.0,47341.0,1...|\n",
      "|        0|[2133.0,19538.0,5...|\n",
      "+---------+--------------------+\n",
      "only showing top 3 rows\n",
      "\n"
     ]
    }
   ],
   "source": [
    "df_lr = df_temp.drop('cs-method', 'c-ip', 'cs-uri-stem', 'cs(User-Agent)')\n",
    "df_lr.show(3)"
   ]
  },
  {
   "cell_type": "markdown",
   "metadata": {
    "id": "12YtMZE0OTOR"
   },
   "source": [
    "###  3.2 Logistic Regression\n",
    "\n",
    " <div class=\"alert alert-block alert-info\">\n",
    "\n",
    "**Code**: \n",
    "    1. Perform supervised learning on ml\\_df with Logistic Regression,  <br>\n",
    "    2. Evaluate the classification result using [confusion matrix ](https://en.wikipedia.org/wiki/Confusion_matrix) including TP, TN, FP, FN, <br>\n",
    "    3. Evaluate the classification result using Precision, Recall and F1 score.\n",
    "    <br>\n",
    "    *Keep the outputs for code in your notebook.\n",
    "\n",
    "**Report**:\n",
    "    1. Display the classification result using [confusion matrix ](https://en.wikipedia.org/wiki/Confusion_matrix) including TP, TN, FP, FN, <br>\n",
    "    2. Display the classification result using Precision, Recall and F1 score.\n",
    "</div>"
   ]
  },
  {
   "cell_type": "code",
   "execution_count": 24,
   "metadata": {
    "id": "M_XZqsSAOr4a"
   },
   "outputs": [],
   "source": [
    "#Create the data sets for training and testing\n",
    "(trainingData, testData) = df_lr.randomSplit([0.7, 0.3])"
   ]
  },
  {
   "cell_type": "code",
   "execution_count": 25,
   "metadata": {
    "id": "19Ri7rpuOxk6"
   },
   "outputs": [],
   "source": [
    "from pyspark.ml.classification import LogisticRegression\n",
    "from pyspark.ml.evaluation import BinaryClassificationEvaluator\n",
    "lr = LogisticRegression(featuresCol='features', labelCol='sc-status')\n",
    "model = lr.fit(trainingData)\n",
    "\n",
    "\n",
    "# Your code contains trainning from train data and predicting based on the test data\n",
    "\n"
   ]
  },
  {
   "cell_type": "code",
   "execution_count": 26,
   "metadata": {},
   "outputs": [],
   "source": [
    "predictions = model.transform(testData)"
   ]
  },
  {
   "cell_type": "code",
   "execution_count": 27,
   "metadata": {},
   "outputs": [
    {
     "name": "stdout",
     "output_type": "stream",
     "text": [
      "+--------------------+---------+----------+\n",
      "|            features|sc-status|prediction|\n",
      "+--------------------+---------+----------+\n",
      "|[6.0,1922.0,1398....|        0|       0.0|\n",
      "|[6.0,2068.0,1545....|        0|       0.0|\n",
      "|[6.0,2171.0,1398....|        0|       0.0|\n",
      "|[6.0,2954.0,1592....|        0|       0.0|\n",
      "|[6.0,3286.0,1398....|        0|       0.0|\n",
      "+--------------------+---------+----------+\n",
      "only showing top 5 rows\n",
      "\n"
     ]
    }
   ],
   "source": [
    "predictions.select(\"features\",\"sc-status\",\"prediction\").show(5)"
   ]
  },
  {
   "cell_type": "code",
   "execution_count": 46,
   "metadata": {
    "id": "66ESM5L3O1cp"
   },
   "outputs": [
    {
     "data": {
      "image/png": "[encoded data removed]",
      "text/plain": [
       "<Figure size 648x648 with 2 Axes>"
      ]
     },
     "metadata": {
      "needs_background": "light"
     },
     "output_type": "display_data"
    }
   ],
   "source": [
    "# Your code to display TP, TN, FP, FN\n",
    "import matplotlib.pyplot as plt\n",
    "from sklearn.metrics import confusion_matrix\n",
    "y_true = predictions.select(\"sc-status\")\n",
    "y_true = y_true.toPandas()\n",
    "\n",
    "y_pred = predictions.select(\"prediction\")\n",
    "y_pred = y_pred.toPandas()\n",
    "confusion=confusion_matrix(y_true,y_pred)\n",
    "plt.figure(figsize=(9,9))\n",
    "import seaborn as sns\n",
    "sns.heatmap(confusion,annot=True,fmt=\".3f\",linewidth=.5,square=True,cmap='Blues_r');\n",
    "plt.ylabel('Actual Label');\n",
    "plt.xlabel('Predicted Label');\n",
    "\n"
   ]
  },
  {
   "cell_type": "code",
   "execution_count": 28,
   "metadata": {},
   "outputs": [
    {
     "name": "stdout",
     "output_type": "stream",
     "text": [
      "Accuracy= = 0.998147\n"
     ]
    }
   ],
   "source": [
    "from pyspark.ml.evaluation import MulticlassClassificationEvaluator\n",
    "\n",
    "# Select (prediction, true label) and compute test error\n",
    "evaluator = MulticlassClassificationEvaluator(\n",
    "    labelCol=\"sc-status\", predictionCol=\"prediction\", metricName=\"accuracy\")\n",
    "accuracy = evaluator.evaluate(predictions)\n",
    "print(\"Accuracy= = %g\" % (accuracy))"
   ]
  },
  {
   "cell_type": "code",
   "execution_count": 29,
   "metadata": {},
   "outputs": [],
   "source": [
    "trainingsummary=model.summary"
   ]
  },
  {
   "cell_type": "code",
   "execution_count": 31,
   "metadata": {},
   "outputs": [
    {
     "name": "stdout",
     "output_type": "stream",
     "text": [
      "Accuracy=0.9981329984045623\n",
      "Fmeasure=0.9972003698645754\n",
      "Precision=0.9962694825829661\n",
      "Recall=0.9981329984045623\n",
      "TP=0.9981329984045623\n",
      "FP=0.9861569505003706\n"
     ]
    }
   ],
   "source": [
    "fmeasure=trainingsummary.weightedFMeasure()\n",
    "accuracy=trainingsummary.accuracy\n",
    "precision=trainingsummary.weightedPrecision\n",
    "recall=trainingsummary.weightedRecall\n",
    "tp=trainingsummary.weightedTruePositiveRate\n",
    "fp=trainingsummary.weightedFalsePositiveRate\n",
    "print(\"Accuracy={}\".format(accuracy))\n",
    "print(\"Fmeasure={}\".format(fmeasure))\n",
    "print(\"Precision={}\".format(precision))\n",
    "print(\"Recall={}\".format(recall))\n",
    "print(\"TP={}\".format(tp))\n",
    "print(\"FP={}\".format(fp))"
   ]
  },
  {
   "cell_type": "code",
   "execution_count": null,
   "metadata": {
    "id": "9BZB16gVO2pq"
   },
   "outputs": [],
   "source": [
    "from sklearn.metrics import classification_report\n",
    "\n",
    "# Your Code to display the classification results as required.\n",
    "\n"
   ]
  },
  {
   "cell_type": "markdown",
   "metadata": {
    "id": "vt5iA23HO5uC"
   },
   "source": [
    "### 3.3 K-fold Cross-Validation\n",
    "You are required to use K-fold cross validation to find out the best hyper-parameter set, where K = 2.\n",
    "<div class=\"alert alert-block alert-info\">\n",
    "\n",
    "**Code**: \n",
    "Implement 2-fold cross validation for three (any three) classification models, where K = 2.\n",
    "    <br>\n",
    "    *Keep the outputs for code in your notebook.\n",
    "\n",
    "**Report**:\n",
    "    1.  Your code design and running results, <br>\n",
    "\t\t2.  Your findings on hyper-parameters based on this cross-validation  results (Best results).\n",
    "</div>"
   ]
  },
  {
   "cell_type": "code",
   "execution_count": 24,
   "metadata": {
    "id": "jgJtFjqKPEFD"
   },
   "outputs": [],
   "source": [
    "from pyspark.ml import Pipeline\n",
    "from pyspark.ml.classification import RandomForestClassifier\n",
    "from pyspark.ml.evaluation import MulticlassClassificationEvaluator\n",
    "from pyspark.ml.tuning import ParamGridBuilder, CrossValidator\n",
    "lr = LogisticRegression(featuresCol='features', labelCol='sc-status')\n",
    "paramgrid=(ParamGridBuilder()\n",
    "    .addGrid(lr.regParam,[0.1,0.01])\n",
    "    .addGrid(lr.fitIntercept,[False,True])\n",
    "    .addGrid(lr.elasticNetParam,[0.0,0.5,1.0])\n",
    "          .build())\n",
    "crossval=CrossValidator(estimator=lr,\n",
    "                       estimatorParamMaps=paramgrid,\n",
    "                       evaluator=MulticlassClassificationEvaluator().setLabelCol(\"sc-status\"),\n",
    "                       numFolds=2)\n",
    "\n",
    "\n",
    "\n",
    "\n"
   ]
  },
  {
   "cell_type": "code",
   "execution_count": 74,
   "metadata": {},
   "outputs": [],
   "source": [
    "lr = LogisticRegression(featuresCol='features', labelCol='sc-status')\n",
    "pipeline = Pipeline(stages=[lr])\n",
    "paramGrid = (ParamGridBuilder()\n",
    "             .addGrid(lr.regParam, [0.01, 0.5])\n",
    "             .build())"
   ]
  },
  {
   "cell_type": "code",
   "execution_count": 75,
   "metadata": {},
   "outputs": [],
   "source": [
    "crossval=CrossValidator(estimator=pipeline,\n",
    "                       estimatorParamMaps=paramgrid,\n",
    "                       evaluator=MulticlassClassificationEvaluator().setLabelCol(\"sc-status\"),\n",
    "                       numFolds=2)\n"
   ]
  },
  {
   "cell_type": "code",
   "execution_count": 76,
   "metadata": {},
   "outputs": [],
   "source": [
    "cvmodel=crossval.fit(trainingData)"
   ]
  },
  {
   "cell_type": "code",
   "execution_count": 81,
   "metadata": {},
   "outputs": [],
   "source": [
    "best_model = cvmodel.bestModel"
   ]
  },
  {
   "cell_type": "code",
   "execution_count": 84,
   "metadata": {},
   "outputs": [
    {
     "name": "stdout",
     "output_type": "stream",
     "text": [
      "{Param(parent='LogisticRegression_a7c9b342e9fa', name='regParam', doc='regularization parameter (>= 0).'): 0.1, Param(parent='LogisticRegression_a7c9b342e9fa', name='fitIntercept', doc='whether to fit an intercept term.'): False, Param(parent='LogisticRegression_a7c9b342e9fa', name='elasticNetParam', doc='the ElasticNet mixing parameter, in range [0, 1]. For alpha = 0, the penalty is an L2 penalty. For alpha = 1, it is an L1 penalty.'): 0.0}\n"
     ]
    }
   ],
   "source": [
    "print(cvmodel.getEstimatorParamMaps()[np.argmax(cvmodel.avgMetrics)])"
   ]
  },
  {
   "cell_type": "code",
   "execution_count": 20,
   "metadata": {},
   "outputs": [
    {
     "name": "stdout",
     "output_type": "stream",
     "text": [
      "CrossValidatorModel_2fed937aba0e\n"
     ]
    }
   ],
   "source": [
    "#Decision Tree\n",
    "from pyspark.ml.classification import DecisionTreeClassifier\n",
    "dt = DecisionTreeClassifier(labelCol=\"sc-status\", featuresCol=\"features\", maxDepth=2)\n",
    "dtparamGrid = (ParamGridBuilder()\n",
    "             .addGrid(dt.maxDepth, [2, 5, 10, 20, 30])\n",
    "             .addGrid(dt.maxBins, [10, 20, 40, 80, 100])\n",
    "             .build())\n",
    "\n",
    "dtcv = CrossValidator(estimator = dt,\n",
    "                      estimatorParamMaps = dtparamGrid,\n",
    "                      evaluator = MulticlassClassificationEvaluator().setLabelCol(\"sc-status\"),\n",
    "                      numFolds = 2)\n",
    "\n",
    "# Run cross validations\n",
    "dtcvModel = dtcv.fit(trainingData)\n",
    "print(dtcvModel)\n"
   ]
  },
  {
   "cell_type": "code",
   "execution_count": 22,
   "metadata": {},
   "outputs": [
    {
     "name": "stdout",
     "output_type": "stream",
     "text": [
      "{Param(parent='DecisionTreeClassifier_2b3689b63abd', name='maxDepth', doc='Maximum depth of the tree. (>= 0) E.g., depth 0 means 1 leaf node; depth 1 means 1 internal node + 2 leaf nodes.'): 10, Param(parent='DecisionTreeClassifier_2b3689b63abd', name='maxBins', doc='Max number of bins for discretizing continuous features.  Must be >=2 and >= number of categories for any categorical feature.'): 100}\n"
     ]
    }
   ],
   "source": [
    "print(dtcvModel.getEstimatorParamMaps()[np.argmax(dtcvModel.avgMetrics)])"
   ]
  },
  {
   "cell_type": "code",
   "execution_count": 24,
   "metadata": {},
   "outputs": [
    {
     "name": "stdout",
     "output_type": "stream",
     "text": [
      "Accuracy: 0.9991445482559423\n"
     ]
    }
   ],
   "source": [
    "dtpredictions = dtcvModel.transform(testData)\n",
    "\n",
    "\n",
    "# cvModel uses the best model found from the Cross Validation\n",
    "# Evaluate best model\n",
    "print('Accuracy:', MulticlassClassificationEvaluator().setLabelCol(\"sc-status\").evaluate(dtpredictions))"
   ]
  },
  {
   "cell_type": "code",
   "execution_count": 25,
   "metadata": {},
   "outputs": [
    {
     "name": "stdout",
     "output_type": "stream",
     "text": [
      "CrossValidatorModel_49da89fb723d\n"
     ]
    }
   ],
   "source": [
    "#Random Forest\n",
    "rf = RandomForestClassifier(labelCol=\"sc-status\", featuresCol=\"features\")\n",
    "pipeline = Pipeline(stages=[rf])\n",
    "rfparamGrid = (ParamGridBuilder()\n",
    "             .addGrid(rf.maxDepth, [2, 5, 10, 20])\n",
    "             .addGrid(rf.maxBins, [10, 20, 40, 80])\n",
    "             .addGrid(rf.numTrees, [5, 20, 50, 100])\n",
    "             .build())\n",
    "rfcv = CrossValidator(estimator = pipeline,\n",
    "                      estimatorParamMaps = rfparamGrid,\n",
    "                      evaluator = MulticlassClassificationEvaluator().setLabelCol(\"sc-status\"),\n",
    "                      numFolds = 2)\n",
    "rfcvModel = rfcv.fit(trainingData)\n",
    "print(rfcvModel)"
   ]
  },
  {
   "cell_type": "code",
   "execution_count": 26,
   "metadata": {},
   "outputs": [
    {
     "name": "stdout",
     "output_type": "stream",
     "text": [
      "{Param(parent='RandomForestClassifier_563e332f0f36', name='maxDepth', doc='Maximum depth of the tree. (>= 0) E.g., depth 0 means 1 leaf node; depth 1 means 1 internal node + 2 leaf nodes.'): 20, Param(parent='RandomForestClassifier_563e332f0f36', name='maxBins', doc='Max number of bins for discretizing continuous features.  Must be >=2 and >= number of categories for any categorical feature.'): 80, Param(parent='RandomForestClassifier_563e332f0f36', name='numTrees', doc='Number of trees to train (>= 1).'): 20}\n"
     ]
    }
   ],
   "source": [
    "print(rfcvModel.getEstimatorParamMaps()[np.argmax(rfcvModel.avgMetrics)])"
   ]
  },
  {
   "cell_type": "code",
   "execution_count": 27,
   "metadata": {},
   "outputs": [
    {
     "name": "stdout",
     "output_type": "stream",
     "text": [
      "Accuracy: 0.9990526937990197\n"
     ]
    }
   ],
   "source": [
    "rfpredictions = rfcvModel.transform(testData)\n",
    "\n",
    "\n",
    "# cvModel uses the best model found from the Cross Validation\n",
    "# Evaluate best model\n",
    "print('Accuracy:', MulticlassClassificationEvaluator().setLabelCol(\"sc-status\").evaluate(rfpredictions))"
   ]
  },
  {
   "cell_type": "markdown",
   "metadata": {
    "id": "-ThOmZbnPyMa"
   },
   "source": [
    "## 4.Association Rule Mining\n",
    "<div class=\"alert alert-block alert-info\">\n",
    "\n",
    "**Code**:   \n",
    "Implement association rule mining with a suitable threshold for support, and confidence \n",
    "    <br>\n",
    "    *Keep the outputs for code in your notebook.\n",
    "\n",
    "**Report**:\n",
    "    1.  Your code design and running results, <br>\n",
    "\t\t2.  Your findings on on ARMing results.\n",
    "</div>"
   ]
  },
  {
   "cell_type": "code",
   "execution_count": 1,
   "metadata": {
    "id": "VtZ5-w3tQJDl"
   },
   "outputs": [
    {
     "name": "stdout",
     "output_type": "stream",
     "text": [
      "Collecting apyori\n",
      "  Downloading apyori-1.1.2.tar.gz (8.6 kB)\n",
      "Building wheels for collected packages: apyori\n",
      "  Building wheel for apyori (setup.py): started\n",
      "  Building wheel for apyori (setup.py): finished with status 'done'\n",
      "  Created wheel for apyori: filename=apyori-1.1.2-py3-none-any.whl size=5979 sha256=f851eb5aa031174e952b27550aaef8e1415db2fe8a94cab5b0ce90b1b52bac12\n",
      "  Stored in directory: c:\\users\\dell\\appdata\\local\\pip\\cache\\wheels\\1b\\02\\6c\\a45230be8603bd95c0a51cd2b289aefdd860c1a100eab73661\n",
      "Successfully built apyori\n",
      "Installing collected packages: apyori\n",
      "Successfully installed apyori-1.1.2\n"
     ]
    }
   ],
   "source": [
    "!pip install apyori"
   ]
  },
  {
   "cell_type": "code",
   "execution_count": 26,
   "metadata": {},
   "outputs": [
    {
     "name": "stderr",
     "output_type": "stream",
     "text": [
      "C:\\Users\\Dell\\anaconda3\\lib\\site-packages\\IPython\\core\\interactiveshell.py:3146: DtypeWarning: Columns (4) have mixed types.Specify dtype option on import or set low_memory=False.\n",
      "  has_raised = await self.run_ast_nodes(code_ast.body, cell_name,\n"
     ]
    }
   ],
   "source": [
    "import pandas as pd\n",
    "import numpy as np\n",
    "weblog_df=pd.read_csv('web_logs.csv',header=None)\n",
    "# weblog_df.dropna(axis=0, how='any', thresh=None, subset=None, inplace=True)\n",
    "# junk_val = weblog_df[weblog_df['cs-method'] == 's-ip'].index\n",
    "# weblog_df.drop(junk_val , inplace=True)"
   ]
  },
  {
   "cell_type": "code",
   "execution_count": 9,
   "metadata": {},
   "outputs": [],
   "source": [
    "indexNames = weblog_df[ weblog_df['sc-status'] == 'cs(Referer)' ].index\n",
    "weblog_df.drop(indexNames , inplace=True)"
   ]
  },
  {
   "cell_type": "code",
   "execution_count": 28,
   "metadata": {},
   "outputs": [
    {
     "data": {
      "text/html": [
       "<div>\n",
       "<style scoped>\n",
       "    .dataframe tbody tr th:only-of-type {\n",
       "        vertical-align: middle;\n",
       "    }\n",
       "\n",
       "    .dataframe tbody tr th {\n",
       "        vertical-align: top;\n",
       "    }\n",
       "\n",
       "    .dataframe thead th {\n",
       "        text-align: right;\n",
       "    }\n",
       "</style>\n",
       "<table border=\"1\" class=\"dataframe\">\n",
       "  <thead>\n",
       "    <tr style=\"text-align: right;\">\n",
       "      <th></th>\n",
       "      <th>0</th>\n",
       "      <th>1</th>\n",
       "      <th>2</th>\n",
       "      <th>3</th>\n",
       "      <th>4</th>\n",
       "    </tr>\n",
       "  </thead>\n",
       "  <tbody>\n",
       "    <tr>\n",
       "      <th>0</th>\n",
       "      <td>cs-method</td>\n",
       "      <td>cs-uri-stem</td>\n",
       "      <td>c-ip</td>\n",
       "      <td>cs(User-Agent)</td>\n",
       "      <td>sc-status</td>\n",
       "    </tr>\n",
       "    <tr>\n",
       "      <th>1</th>\n",
       "      <td>GET</td>\n",
       "      <td>/Tulip/aboutus/images/photo_facilities_bizcent...</td>\n",
       "      <td>202.89.22.3</td>\n",
       "      <td>Mozilla/4.0+(compatible;+MSIE+6.0;+Windows+NT+...</td>\n",
       "      <td>200</td>\n",
       "    </tr>\n",
       "    <tr>\n",
       "      <th>2</th>\n",
       "      <td>GET</td>\n",
       "      <td>/Tulip/common/en-us/images/btn_booking.gif</td>\n",
       "      <td>220.246.166.38</td>\n",
       "      <td>Mozilla/4.0+(compatible;+MSIE+6.0;+Windows+NT+...</td>\n",
       "      <td>200</td>\n",
       "    </tr>\n",
       "    <tr>\n",
       "      <th>3</th>\n",
       "      <td>GET</td>\n",
       "      <td>/Tulip/common/images/bar_2.jpg</td>\n",
       "      <td>24.84.236.209</td>\n",
       "      <td>Mozilla/4.0+(compatible;+MSIE+6.0;+Windows+NT+...</td>\n",
       "      <td>200</td>\n",
       "    </tr>\n",
       "    <tr>\n",
       "      <th>4</th>\n",
       "      <td>GET</td>\n",
       "      <td>/Tulip/common/images/dot.jpg</td>\n",
       "      <td>203.198.249.242</td>\n",
       "      <td>Mozilla/4.0+(compatible;+MSIE+6.0;+Windows+NT+...</td>\n",
       "      <td>200</td>\n",
       "    </tr>\n",
       "    <tr>\n",
       "      <th>...</th>\n",
       "      <td>...</td>\n",
       "      <td>...</td>\n",
       "      <td>...</td>\n",
       "      <td>...</td>\n",
       "      <td>...</td>\n",
       "    </tr>\n",
       "    <tr>\n",
       "      <th>2531694</th>\n",
       "      <td>GET</td>\n",
       "      <td>/Tulip/dining/en-us/images/btn_whatsNew.gif</td>\n",
       "      <td>202.155.239.66</td>\n",
       "      <td>Mozilla/4.0+(compatible;+MSIE+6.0;+Windows+NT+...</td>\n",
       "      <td>304</td>\n",
       "    </tr>\n",
       "    <tr>\n",
       "      <th>2531695</th>\n",
       "      <td>GET</td>\n",
       "      <td>/Tulip/common/zh-hk/images/sectionbanner_whats...</td>\n",
       "      <td>202.64.177.153</td>\n",
       "      <td>Mozilla/4.0+(compatible;+MSIE+6.0;+Windows+NT+...</td>\n",
       "      <td>200</td>\n",
       "    </tr>\n",
       "    <tr>\n",
       "      <th>2531696</th>\n",
       "      <td>GET</td>\n",
       "      <td>/Tulip/common/en-us/images/top_img.jpg</td>\n",
       "      <td>222.167.151.21</td>\n",
       "      <td>Mozilla/4.0+(compatible;+MSIE+6.0;+Windows+NT+...</td>\n",
       "      <td>200</td>\n",
       "    </tr>\n",
       "    <tr>\n",
       "      <th>2531697</th>\n",
       "      <td>GET</td>\n",
       "      <td>/Tulip/whatsnew/images/rightmenu_bg.gif</td>\n",
       "      <td>219.77.251.72</td>\n",
       "      <td>Mozilla/4.0+(compatible;+MSIE+6.0;+Windows+NT+...</td>\n",
       "      <td>304</td>\n",
       "    </tr>\n",
       "    <tr>\n",
       "      <th>2531698</th>\n",
       "      <td>GET</td>\n",
       "      <td>/Tulip/aboutus/images/photo_motto1.jpg</td>\n",
       "      <td>203.149.57.114</td>\n",
       "      <td>Mozilla/5.0+(Windows;+U;+Windows+NT+5.1;+en-US...</td>\n",
       "      <td>200</td>\n",
       "    </tr>\n",
       "  </tbody>\n",
       "</table>\n",
       "<p>2531699 rows × 5 columns</p>\n",
       "</div>"
      ],
      "text/plain": [
       "                 0                                                  1  \\\n",
       "0        cs-method                                        cs-uri-stem   \n",
       "1              GET  /Tulip/aboutus/images/photo_facilities_bizcent...   \n",
       "2              GET         /Tulip/common/en-us/images/btn_booking.gif   \n",
       "3              GET                     /Tulip/common/images/bar_2.jpg   \n",
       "4              GET                       /Tulip/common/images/dot.jpg   \n",
       "...            ...                                                ...   \n",
       "2531694        GET        /Tulip/dining/en-us/images/btn_whatsNew.gif   \n",
       "2531695        GET  /Tulip/common/zh-hk/images/sectionbanner_whats...   \n",
       "2531696        GET             /Tulip/common/en-us/images/top_img.jpg   \n",
       "2531697        GET            /Tulip/whatsnew/images/rightmenu_bg.gif   \n",
       "2531698        GET             /Tulip/aboutus/images/photo_motto1.jpg   \n",
       "\n",
       "                       2                                                  3  \\\n",
       "0                   c-ip                                     cs(User-Agent)   \n",
       "1            202.89.22.3  Mozilla/4.0+(compatible;+MSIE+6.0;+Windows+NT+...   \n",
       "2         220.246.166.38  Mozilla/4.0+(compatible;+MSIE+6.0;+Windows+NT+...   \n",
       "3          24.84.236.209  Mozilla/4.0+(compatible;+MSIE+6.0;+Windows+NT+...   \n",
       "4        203.198.249.242  Mozilla/4.0+(compatible;+MSIE+6.0;+Windows+NT+...   \n",
       "...                  ...                                                ...   \n",
       "2531694   202.155.239.66  Mozilla/4.0+(compatible;+MSIE+6.0;+Windows+NT+...   \n",
       "2531695   202.64.177.153  Mozilla/4.0+(compatible;+MSIE+6.0;+Windows+NT+...   \n",
       "2531696   222.167.151.21  Mozilla/4.0+(compatible;+MSIE+6.0;+Windows+NT+...   \n",
       "2531697    219.77.251.72  Mozilla/4.0+(compatible;+MSIE+6.0;+Windows+NT+...   \n",
       "2531698   203.149.57.114  Mozilla/5.0+(Windows;+U;+Windows+NT+5.1;+en-US...   \n",
       "\n",
       "                 4  \n",
       "0        sc-status  \n",
       "1              200  \n",
       "2              200  \n",
       "3              200  \n",
       "4              200  \n",
       "...            ...  \n",
       "2531694        304  \n",
       "2531695        200  \n",
       "2531696        200  \n",
       "2531697        304  \n",
       "2531698        200  \n",
       "\n",
       "[2531699 rows x 5 columns]"
      ]
     },
     "execution_count": 28,
     "metadata": {},
     "output_type": "execute_result"
    }
   ],
   "source": [
    "weblog_df"
   ]
  },
  {
   "cell_type": "code",
   "execution_count": 11,
   "metadata": {},
   "outputs": [],
   "source": [
    "new_header = weblog_df.iloc[0] \n",
    "\n",
    "weblog_df = weblog_df[1:] \n",
    "\n",
    "weblog_df.columns = new_header"
   ]
  },
  {
   "cell_type": "code",
   "execution_count": 13,
   "metadata": {},
   "outputs": [
    {
     "data": {
      "text/plain": [
       "(2530641, 5)"
      ]
     },
     "execution_count": 13,
     "metadata": {},
     "output_type": "execute_result"
    }
   ],
   "source": [
    "weblog_df.shape"
   ]
  },
  {
   "cell_type": "code",
   "execution_count": 29,
   "metadata": {
    "id": "sLR-Vp-cQPki"
   },
   "outputs": [],
   "source": [
    "# you can also use PySpark package, if preferred\n",
    "from apyori import apriori\n",
    "records = []\n",
    "for i in range(0, 2531699):\n",
    "    records.append([str(weblog_df.values[i,j]) for j in range(0, 5)])\n",
    "# Your code\n",
    "\n"
   ]
  },
  {
   "cell_type": "code",
   "execution_count": null,
   "metadata": {},
   "outputs": [],
   "source": [
    "association_rules = apriori(records, min_support=0.000055, min_confidence=0.2, min_lift=3, min_length=2)\n",
    "association_results = list(association_rules)"
   ]
  },
  {
   "cell_type": "code",
   "execution_count": 35,
   "metadata": {},
   "outputs": [
    {
     "name": "stdout",
     "output_type": "stream",
     "text": [
      "2\n"
     ]
    }
   ],
   "source": [
    "print(len(association_results))"
   ]
  },
  {
   "cell_type": "code",
   "execution_count": 32,
   "metadata": {},
   "outputs": [
    {
     "name": "stdout",
     "output_type": "stream",
     "text": [
      "RelationRecord(items=frozenset({'/favicon.ico', '404'}), support=0.005613202346757205, ordered_statistics=[OrderedStatistic(items_base=frozenset({'/favicon.ico'}), items_add=frozenset({'404'}), confidence=0.632063718074219, lift=58.769385294891414), OrderedStatistic(items_base=frozenset({'404'}), items_add=frozenset({'/favicon.ico'}), confidence=0.5219164492780247, lift=58.769385294891414)])\n"
     ]
    }
   ],
   "source": [
    "print(association_results[0])"
   ]
  },
  {
   "cell_type": "code",
   "execution_count": 33,
   "metadata": {},
   "outputs": [
    {
     "name": "stdout",
     "output_type": "stream",
     "text": [
      "Rule: /favicon.ico -> 404\n",
      "Support: 0.005613202346757205\n",
      "Confidence: 0.632063718074219\n",
      "Lift: 58.769385294891414\n",
      "=====================================\n",
      "Rule: /favicon.ico -> GET\n",
      "Support: 0.005612807189957011\n",
      "Confidence: 0.6320192222123343\n",
      "Lift: 58.83875056169826\n",
      "=====================================\n"
     ]
    }
   ],
   "source": [
    "for item in association_results:\n",
    "\n",
    "    # first index of the inner list\n",
    "    # Contains base item and add item\n",
    "    pair = item[0] \n",
    "    items = [x for x in pair]\n",
    "    print(\"Rule: \" + items[0] + \" -> \" + items[1])\n",
    "\n",
    "    #second index of the inner list\n",
    "    print(\"Support: \" + str(item[1]))\n",
    "\n",
    "    #third index of the list located at 0th\n",
    "    #of the third index of the inner list\n",
    "\n",
    "    print(\"Confidence: \" + str(item[2][0][2]))\n",
    "    print(\"Lift: \" + str(item[2][0][3]))\n",
    "    print(\"=====================================\")"
   ]
  },
  {
   "cell_type": "markdown",
   "metadata": {
    "id": "mX5Kb_DPQ3cE"
   },
   "source": [
    "# Part II - Web Crawling\n",
    "\n",
    "## Overview\n",
    "In 2021, \n",
    "to better introduce and understand the research works on the professors,\n",
    "Deakin university wants to perform the citation prediction on individual professor level.\n",
    "You are required to implement a web crawler to crawl the *citation* information \n",
    "for A/Professor Gang Li from 2003 to 2021 (start at 2003 and end at 2021),\n",
    "and also conduct several prediction coding tasks. \n",
    "You will need to make sure that \n",
    "the web crawling code and prediction code meets the requirements.\n",
    "You are free to use any **Python** package for Web crawling and prediction \n",
    "by finishing below tasks.  \n"
   ]
  },
  {
   "cell_type": "markdown",
   "metadata": {
    "id": "REp-ATy8gGyS"
   },
   "source": [
    "## 5.Crawl Gang Li citation information from 2003 to 2021"
   ]
  },
  {
   "cell_type": "markdown",
   "metadata": {
    "id": "99Y04DfvFMGO"
   },
   "source": [
    " <div class=\"alert alert-block alert-info\">\n",
    "\n",
    "**Code**: \n",
    "    You are required to write the code to generate the csv for Gang Li's citation from 2003 to 2021\n",
    "    <br>\n",
    "    *Keep the outputs for code in your notebook.\n",
    "</div>"
   ]
  },
  {
   "cell_type": "code",
   "execution_count": 21,
   "metadata": {},
   "outputs": [
    {
     "data": {
      "image/png": "[encoded data removed]",
      "text/plain": [
       "<Figure size 576x360 with 1 Axes>"
      ]
     },
     "metadata": {
      "needs_background": "light"
     },
     "output_type": "display_data"
    }
   ],
   "source": [
    "# Your code to crawl and generate the csv, and save it to variable create_df\n",
    "#import pandas as pd\n",
    "#create_df = pd.DataFrame()\n",
    "from bs4 import BeautifulSoup as bs\n",
    "import requests\n",
    "import pandas as pd\n",
    "import matplotlib.pyplot as plt\n",
    "\n",
    "source=requests.get('https://scholar.google.com/citations?hl=en&user=dqwjm-0AAAAJ#d=gsc_md_hist').text\n",
    "soup=bs(source,'html.parser')\n",
    "citation_year=soup.find_all(class_='gsc_g_t')\n",
    "citation_count=soup.find_all(class_='gsc_g_al')\n",
    "cit_nam=[]\n",
    "for i,j in zip(citation_year,citation_count):\n",
    "    cit_nam.append({\"Year\":i.text,\"Citation Count\":j.text})\n",
    "citation_info=pd.DataFrame(cit_nam)\n",
    "citation_info.to_csv(\"Citation2003-2021.csv\")\n",
    "\n",
    "citation_info_new=citation_info.copy()\n",
    "citation_info['Year']=pd.to_datetime(citation_info['Year'], format='%Y')\n",
    "citation_info['Citation Count']=pd.to_numeric(citation_info['Citation Count'])\n",
    "citation_info.plot(x='Year',y='Citation Count',\n",
    "                   kind = 'line',marker='.',\n",
    "                   linestyle='solid',\n",
    "                   mfc='none', mec='b',\n",
    "                   markersize=14,\n",
    "                   markerfacecolor='white',\n",
    "                   figsize= (8,5))\n",
    "plt.title(\"Prof. Gang Li Citation count from 2003-2021\")\n",
    "plt.ylabel(\"Citation Count\")\n",
    "plt.show()"
   ]
  },
  {
   "cell_type": "markdown",
   "metadata": {
    "id": "mDs8ETNWII8b"
   },
   "source": [
    "## 6.Train Arima to predict the 2018 to 2020 citation"
   ]
  },
  {
   "cell_type": "markdown",
   "metadata": {
    "id": "mtKVVs6wGXwc"
   },
   "source": [
    "### 6.1 Train Arima Model\n",
    " <div class=\"alert alert-block alert-info\">\n",
    "\n",
    "**Code**: \n",
    "    You will need to use the create_df and then perform the\n",
    "Arima training with parameter of $p=1$, $q=1$ and $d=1$ on data from 2003 to 2017 (15 years)\n",
    "    <br>\n",
    "    *Keep the outputs for code in your notebook.\n",
    "</div>"
   ]
  },
  {
   "cell_type": "code",
   "execution_count": 22,
   "metadata": {
    "id": "5azaduXOGd5_"
   },
   "outputs": [
    {
     "name": "stdout",
     "output_type": "stream",
     "text": [
      "                               SARIMAX Results                                \n",
      "==============================================================================\n",
      "Dep. Variable:                      y   No. Observations:                   15\n",
      "Model:                 ARIMA(1, 1, 1)   Log Likelihood                 -62.283\n",
      "Date:                Fri, 21 May 2021   AIC                            130.565\n",
      "Time:                        17:13:38   BIC                            132.482\n",
      "Sample:                             0   HQIC                           130.388\n",
      "                                 - 15                                         \n",
      "Covariance Type:                  opg                                         \n",
      "==============================================================================\n",
      "                 coef    std err          z      P>|z|      [0.025      0.975]\n",
      "------------------------------------------------------------------------------\n",
      "ar.L1          0.9486      0.240      3.950      0.000       0.478       1.419\n",
      "ma.L1         -0.4599      0.652     -0.705      0.481      -1.738       0.818\n",
      "sigma2       387.7367    165.805      2.339      0.019      62.765     712.709\n",
      "===================================================================================\n",
      "Ljung-Box (Q):                       12.34   Jarque-Bera (JB):                 0.16\n",
      "Prob(Q):                              0.50   Prob(JB):                         0.92\n",
      "Heteroskedasticity (H):               1.71   Skew:                             0.22\n",
      "Prob(H) (two-sided):                  0.57   Kurtosis:                         3.29\n",
      "===================================================================================\n",
      "\n",
      "Warnings:\n",
      "[1] Covariance matrix calculated using the outer product of gradients (complex-step).\n"
     ]
    }
   ],
   "source": [
    "# your code to use create_df to split the data into train (year 2003 to 2017) and test\n",
    "from statsmodels.tsa.arima.model import ARIMA\n",
    "from pandas import read_csv\n",
    "\n",
    "series = read_csv(\"Citation2003-2021.csv\", header=0, index_col=0, parse_dates=True, squeeze=True)\n",
    "series.set_index('Year',inplace=True)\n",
    "X = series.values\n",
    "#X = citation_info_new['Citation Count']\n",
    "X = X.astype('float32')\n",
    "size = len(X) - 4\n",
    "train, test = X[0:size], X[size:]\n",
    "\n",
    "# fit an ARIMA model\n",
    "model = ARIMA(train, order=(1,1,1))\n",
    "model_fit = model.fit()\n",
    "# forecast\n",
    "result = model_fit.get_forecast()\n",
    "\n",
    "print(model_fit.summary())\n"
   ]
  },
  {
   "cell_type": "markdown",
   "metadata": {
    "id": "iomydVFJGdFQ"
   },
   "source": [
    "### 6.2 Predicting the citation and Calculate the RMSE\n",
    " <div class=\"alert alert-block alert-info\">\n",
    "\n",
    "**Code**: \n",
    "    you will need to use the trained Arime model to predict the citation on year 2018, 2019 and 2020.\n",
    "You will need to perform the evaluation by comparing the predicted citation from 2018 to 2020 with \n",
    "the true citation from 2018 to 2020 and calculate the RMSE (root mean square error).\n",
    "    <br>\n",
    "    *Keep the outputs for code in your notebook.\n",
    "</div>"
   ]
  },
  {
   "cell_type": "code",
   "execution_count": null,
   "metadata": {
    "id": "5cqMwQw2Gqh1"
   },
   "outputs": [],
   "source": [
    "# your code to predict the citation and save it to variable preds. You may need to output the confidence interval(95%) here as well\n",
    "# Print the error below by comparing the test and preds:\n",
    "\n"
   ]
  },
  {
   "cell_type": "code",
   "execution_count": 23,
   "metadata": {
    "id": "Mq1fAKXTIdU4"
   },
   "outputs": [
    {
     "name": "stdout",
     "output_type": "stream",
     "text": [
      "predicted=429.164660, expected=450.000000\n",
      "95% Interval: 390.571 to 467.758\n",
      "predicted=502.372082, expected=579.000000\n",
      "95% Interval: 390.571 to 467.758\n",
      "predicted=677.221025, expected=838.000000\n",
      "95% Interval: 390.571 to 467.758\n",
      "predicted=1128.650505, expected=315.000000\n",
      "95% Interval: 390.571 to 467.758\n",
      "Test RMSE: 416.588\n"
     ]
    }
   ],
   "source": [
    "# Print the error below by comparing the test and preds:\n",
    "from sklearn.metrics import mean_squared_error\n",
    "import matplotlib.pyplot as plt\n",
    "import numpy as np\n",
    "from math import sqrt\n",
    "\n",
    "# Your code to show the performance RMSE\n",
    "history = [x for x in train]\n",
    "predictions = list()\n",
    "confidence_interval = []\n",
    "# walk-forward validation\n",
    "for t in range(len(test)):\n",
    "    model = ARIMA(history, order=(1,1,1))\n",
    "    model_fit = model.fit()\n",
    "    output = model_fit.forecast()\n",
    "    yhat = output[0]\n",
    "    predictions.append(yhat)\n",
    "    obs = test[t]\n",
    "    history.append(obs)\n",
    "    print('predicted=%f, expected=%f' % (yhat, obs))\n",
    "    ci = result.conf_int(0.05)\n",
    "    confidence_interval.append(ci[0])\n",
    "    print('95%% Interval: %.3f to %.3f' % (ci[0,0], ci[0,1]))\n",
    "    \n",
    "\n",
    "# evaluate forecasts\n",
    "rmse = sqrt(mean_squared_error(test, predictions))\n",
    "\n",
    "# Your code to show the performance RMSE\n",
    "print('Test RMSE: %.3f' % rmse)"
   ]
  },
  {
   "cell_type": "markdown",
   "metadata": {
    "id": "Q7k3Savqewxg"
   },
   "source": [
    "### 6.3 Draw the visualization to compare"
   ]
  },
  {
   "cell_type": "markdown",
   "metadata": {
    "id": "JC5xseYSH7ze"
   },
   "source": [
    " <div class=\"alert alert-block alert-info\">\n",
    "\n",
    "**Code**: \n",
    "   You will also need to use matplotlib to draw the line plot with training data from 2013 to 2017,\n",
    "the testing truth, the prediction and also the confidence interval (95%). \n",
    "    <br>\n",
    "    *Keep the outputs for code in your notebook.\n",
    "</div>"
   ]
  },
  {
   "cell_type": "code",
   "execution_count": 24,
   "metadata": {
    "id": "DcsJIrOXItA5"
   },
   "outputs": [
    {
     "data": {
      "image/png": "[encoded data removed]",
      "text/plain": [
       "<Figure size 432x288 with 1 Axes>"
      ]
     },
     "metadata": {
      "needs_background": "light"
     },
     "output_type": "display_data"
    }
   ],
   "source": [
    "# You code: Visualize as required, the prediction with its confidence interval\n",
    "# plot forecasts against actual outcomes\n",
    "from matplotlib import pyplot\n",
    "pyplot.plot(test)\n",
    "pyplot.plot(predictions, color='red')\n",
    "pyplot.fill_between(list(range(len(test))),\n",
    "                 np.array(confidence_interval)[:,0], np.array(confidence_interval)[:,1],\n",
    "                alpha=0.1, color='b')\n",
    "pyplot.title(\"Citation predictions Vs Actual Citation\")\n",
    "pyplot.xlabel(\"Predictions\")\n",
    "pyplot.ylabel(\"Number of Citations\")\n",
    "pyplot.show()\n"
   ]
  },
  {
   "cell_type": "markdown",
   "metadata": {
    "id": "4Qhi7QJhPenf"
   },
   "source": [
    "## 7.Conduct the Grid Search with paramter selection and then predict the 2021 and 2022"
   ]
  },
  {
   "cell_type": "markdown",
   "metadata": {
    "id": "ie6-3EY_IdT3"
   },
   "source": [
    "### 7.1 Grid Search\n",
    " <div class=\"alert alert-block alert-info\">\n",
    "\n",
    "**Code**: \n",
    "  You will need to run the grid search for parameter $p=[1,2]$, \n",
    "$q=[1,2]$,\n",
    "$d=[1,2]$\n",
    "with training data on year 2003 to 2017 and testing data on 2018 to 2020\n",
    "The result of the search on each paratemer combination (eg: p=1,q=1,d=1)\n",
    "will need to be stored in the \"search-results.csv\",\n",
    "The search-results.csv will have the column of \"RMSE\" and column \"PARAMETER\".\n",
    "    <br>\n",
    "    *Keep the outputs for code in your notebook.\n",
    "</div>"
   ]
  },
  {
   "cell_type": "code",
   "execution_count": 25,
   "metadata": {
    "id": "9l3SYph7Psk3"
   },
   "outputs": [
    {
     "name": "stdout",
     "output_type": "stream",
     "text": [
      "ARIMA(1, 1, 1) RMSE=416.588\n",
      "ARIMA(1, 1, 2) RMSE=421.835\n",
      "ARIMA(1, 2, 1) RMSE=436.193\n",
      "ARIMA(1, 2, 2) RMSE=440.049\n",
      "ARIMA(2, 1, 1) RMSE=425.939\n",
      "ARIMA(2, 1, 2) RMSE=427.910\n",
      "ARIMA(2, 2, 1) RMSE=439.192\n",
      "ARIMA(2, 2, 2) RMSE=451.824\n",
      "Best ARIMA(1, 1, 1) RMSE=416.588\n"
     ]
    }
   ],
   "source": [
    "#Grid search for best parameter set\n",
    "series = read_csv(\"Citation2003-2021.csv\", header=0, index_col=0, parse_dates=True, squeeze=True)\n",
    "series.set_index('Year',inplace=True)\n",
    "X = series.values\n",
    "RMSE = []\n",
    "PARAMETER = []\n",
    "\n",
    "def evaluate_arima_model(X, arima_order):\n",
    "    #prepare training dataset\n",
    "    X = X.astype('float32')\n",
    "    size = len(X) - 4\n",
    "    train, test = X[0:size], X[size:]\n",
    "    history = [x for x in train]\n",
    "    # make predictions\n",
    "    predictions = list()\n",
    "    for t in range(len(test)):\n",
    "        model = ARIMA(history, order=arima_order)\n",
    "        model_fit = model.fit()\n",
    "        yhat = model_fit.forecast()[0]\n",
    "        predictions.append(yhat)\n",
    "        history.append(test[t])\n",
    "# calculate out of sample error\n",
    "    rmse = sqrt(mean_squared_error(test, predictions))\n",
    "    return rmse\n",
    "\n",
    "# evaluate combinations of p, d and q values for an ARIMA model\n",
    "def evaluate_models(dataset, p_values, d_values, q_values):\n",
    "    dataset = dataset.astype('float32')\n",
    "    best_score, best_cfg = float(\"inf\"), None\n",
    "    for p in p_values:\n",
    "        for d in d_values:\n",
    "            for q in q_values:\n",
    "                order = (p,d,q)\n",
    "                try:\n",
    "                    rmse = evaluate_arima_model(dataset, order)\n",
    "                    if rmse < best_score:\n",
    "                        best_score, best_cfg = rmse, order\n",
    "                    print('ARIMA%s RMSE=%.3f' % (order,rmse))\n",
    "                    RMSE.append(rmse)\n",
    "                    PARAMETER.append(order)\n",
    "                except:\n",
    "                    continue\n",
    "    print('Best ARIMA%s RMSE=%.3f' % (best_cfg, best_score))\n",
    "\n",
    "# evaluate parameters\n",
    "p_values = range(1, 3)\n",
    "d_values = range(1, 3)\n",
    "q_values = range(1, 3)\n",
    "warnings.filterwarnings(\"ignore\")\n",
    "evaluate_models(series.values, p_values, d_values, q_values)\n",
    "\n"
   ]
  },
  {
   "cell_type": "code",
   "execution_count": 26,
   "metadata": {
    "id": "gax9Nx6zQ7hH"
   },
   "outputs": [
    {
     "data": {
      "text/html": [
       "<div>\n",
       "<style scoped>\n",
       "    .dataframe tbody tr th:only-of-type {\n",
       "        vertical-align: middle;\n",
       "    }\n",
       "\n",
       "    .dataframe tbody tr th {\n",
       "        vertical-align: top;\n",
       "    }\n",
       "\n",
       "    .dataframe thead th {\n",
       "        text-align: right;\n",
       "    }\n",
       "</style>\n",
       "<table border=\"1\" class=\"dataframe\">\n",
       "  <thead>\n",
       "    <tr style=\"text-align: right;\">\n",
       "      <th></th>\n",
       "      <th>RMSE</th>\n",
       "      <th>Parameter</th>\n",
       "    </tr>\n",
       "  </thead>\n",
       "  <tbody>\n",
       "    <tr>\n",
       "      <th>0</th>\n",
       "      <td>416.588218</td>\n",
       "      <td>(1, 1, 1)</td>\n",
       "    </tr>\n",
       "    <tr>\n",
       "      <th>1</th>\n",
       "      <td>421.835179</td>\n",
       "      <td>(1, 1, 2)</td>\n",
       "    </tr>\n",
       "    <tr>\n",
       "      <th>2</th>\n",
       "      <td>436.193230</td>\n",
       "      <td>(1, 2, 1)</td>\n",
       "    </tr>\n",
       "    <tr>\n",
       "      <th>3</th>\n",
       "      <td>440.049433</td>\n",
       "      <td>(1, 2, 2)</td>\n",
       "    </tr>\n",
       "    <tr>\n",
       "      <th>4</th>\n",
       "      <td>425.939270</td>\n",
       "      <td>(2, 1, 1)</td>\n",
       "    </tr>\n",
       "    <tr>\n",
       "      <th>5</th>\n",
       "      <td>427.909571</td>\n",
       "      <td>(2, 1, 2)</td>\n",
       "    </tr>\n",
       "  </tbody>\n",
       "</table>\n",
       "</div>"
      ],
      "text/plain": [
       "         RMSE  Parameter\n",
       "0  416.588218  (1, 1, 1)\n",
       "1  421.835179  (1, 1, 2)\n",
       "2  436.193230  (1, 2, 1)\n",
       "3  440.049433  (1, 2, 2)\n",
       "4  425.939270  (2, 1, 1)\n",
       "5  427.909571  (2, 1, 2)"
      ]
     },
     "execution_count": 26,
     "metadata": {},
     "output_type": "execute_result"
    }
   ],
   "source": [
    "# your code to generate the seach-results.csv and print the top 6 rows\n",
    "#Results = pd.DataFrame({'RMSE':RMSE,'Parameter':PARAMETER})\n",
    "#Results.head(6)\n",
    "Results = pd.DataFrame({'RMSE':RMSE,'Parameter':PARAMETER})\n",
    "Results.to_csv(\"Search-results.csv\")\n",
    "Results.head(6)\n",
    "\n",
    "\n"
   ]
  },
  {
   "cell_type": "markdown",
   "metadata": {
    "id": "CTey6Y9ER0rE"
   },
   "source": [
    "### 7.2 TRAIN With Best Parameter Set with data up to 2020 and Predict the 2021 and 2022"
   ]
  },
  {
   "cell_type": "markdown",
   "metadata": {
    "id": "skoPt98jJTro"
   },
   "source": [
    "<div class=\"alert alert-block alert-info\">\n",
    "\n",
    "**Code**: \n",
    "  You will need to perform the training with Arima on data from 2003 to 2020 with best parameter you have found in last task,\n",
    "and then conduct the prediction for year 2021 and 2022.\n",
    "    <br>\n",
    "    *Keep the outputs for code in your notebook.\n",
    "</div>"
   ]
  },
  {
   "cell_type": "code",
   "execution_count": 27,
   "metadata": {
    "id": "RKSwlnWRRzQ3"
   },
   "outputs": [
    {
     "name": "stdout",
     "output_type": "stream",
     "text": [
      "                               SARIMAX Results                                \n",
      "==============================================================================\n",
      "Dep. Variable:                      y   No. Observations:                   18\n",
      "Model:                 ARIMA(1, 1, 1)   Log Likelihood                 -87.956\n",
      "Date:                Fri, 21 May 2021   AIC                            181.913\n",
      "Time:                        17:14:12   BIC                            184.413\n",
      "Sample:                             0   HQIC                           182.161\n",
      "                                 - 18                                         \n",
      "Covariance Type:                  opg                                         \n",
      "==============================================================================\n",
      "                 coef    std err          z      P>|z|      [0.025      0.975]\n",
      "------------------------------------------------------------------------------\n",
      "ar.L1          0.9393      0.134      7.008      0.000       0.677       1.202\n",
      "ma.L1          0.4177      0.505      0.827      0.408      -0.572       1.408\n",
      "sigma2      1535.5460    813.114      1.888      0.059     -58.129    3129.221\n",
      "===================================================================================\n",
      "Ljung-Box (Q):                       12.85   Jarque-Bera (JB):                 2.55\n",
      "Prob(Q):                              0.68   Prob(JB):                         0.28\n",
      "Heteroskedasticity (H):               7.66   Skew:                             0.79\n",
      "Prob(H) (two-sided):                  0.03   Kurtosis:                         4.05\n",
      "===================================================================================\n",
      "\n",
      "Warnings:\n",
      "[1] Covariance matrix calculated using the outer product of gradients (complex-step).\n"
     ]
    }
   ],
   "source": [
    "# your code to perform the Arima train on data 2003 to 2020\n",
    "#train = create_df.citation_all.values[:-1]\n",
    "\n",
    "import math\n",
    "actual_citation = read_csv(\"Citation2003-2021.csv\", header=0, index_col=0, parse_dates=True, squeeze=True)\n",
    "actual_citation=actual_citation[:-1]\n",
    "series=actual_citation.copy()\n",
    "test_cit=actual_citation.copy()\n",
    "\n",
    "series.set_index('Year',inplace=True)\n",
    "X = series.values\n",
    "X = X.astype('float32')\n",
    "#size = len(X) - 1\n",
    "#train = X[0:size]\n",
    "train=X\n",
    "model = ARIMA(train, order=(1,1,1))\n",
    "model_fit = model.fit()\n",
    "forecast = model_fit.forecast(steps=2)\n",
    "\n",
    "result = model_fit.get_forecast(2,alpha=0.05)\n",
    "\n",
    "print(model_fit.summary())\n"
   ]
  },
  {
   "cell_type": "code",
   "execution_count": 28,
   "metadata": {},
   "outputs": [
    {
     "name": "stdout",
     "output_type": "stream",
     "text": [
      "predicted=1129.000000\n",
      "95% Interval: 1051.847 to 1205.454\n",
      "predicted=1402.000000\n",
      "95% Interval: 1051.847 to 1205.454\n"
     ]
    }
   ],
   "source": [
    "# Your code to predict for 2021 and 2022\n",
    "# Your code to show the performance RMSE\n",
    "confidence_interval=[]\n",
    "predictions=[]\n",
    "for f in forecast:\n",
    "    print('predicted=%f'% math.ceil(f))\n",
    "    train=np.append(train,math.ceil(f))\n",
    "    predictions.append(math.ceil(f))\n",
    "    ci = result.conf_int(0.05)\n",
    "    confidence_interval.append(ci[0])\n",
    "    print('95%% Interval: %.3f to %.3f' % (ci[0,0], ci[0,1]))\n",
    "Predict_citation=pd.DataFrame(train)\n",
    "final_citation=pd.concat([actual_citation,Predict_citation],axis=1)\n",
    "final_citation['Citation Count']=final_citation[0]\n",
    "final_citation.drop([0],axis=1,inplace=True)\n",
    "lower_series = pd.Series(ci[:, 0])\n",
    "upper_series = pd.Series(ci[0:, 1])"
   ]
  },
  {
   "cell_type": "code",
   "execution_count": 29,
   "metadata": {},
   "outputs": [
    {
     "data": {
      "text/html": [
       "<div>\n",
       "<style scoped>\n",
       "    .dataframe tbody tr th:only-of-type {\n",
       "        vertical-align: middle;\n",
       "    }\n",
       "\n",
       "    .dataframe tbody tr th {\n",
       "        vertical-align: top;\n",
       "    }\n",
       "\n",
       "    .dataframe thead th {\n",
       "        text-align: right;\n",
       "    }\n",
       "</style>\n",
       "<table border=\"1\" class=\"dataframe\">\n",
       "  <thead>\n",
       "    <tr style=\"text-align: right;\">\n",
       "      <th></th>\n",
       "      <th>Actual_Citations</th>\n",
       "      <th>Predicted_Citations</th>\n",
       "    </tr>\n",
       "    <tr>\n",
       "      <th>Year</th>\n",
       "      <th></th>\n",
       "      <th></th>\n",
       "    </tr>\n",
       "  </thead>\n",
       "  <tbody>\n",
       "    <tr>\n",
       "      <th>2003-01-01</th>\n",
       "      <td>15.0</td>\n",
       "      <td>NaN</td>\n",
       "    </tr>\n",
       "    <tr>\n",
       "      <th>2004-01-01</th>\n",
       "      <td>34.0</td>\n",
       "      <td>NaN</td>\n",
       "    </tr>\n",
       "    <tr>\n",
       "      <th>2005-01-01</th>\n",
       "      <td>17.0</td>\n",
       "      <td>NaN</td>\n",
       "    </tr>\n",
       "    <tr>\n",
       "      <th>2006-01-01</th>\n",
       "      <td>11.0</td>\n",
       "      <td>NaN</td>\n",
       "    </tr>\n",
       "    <tr>\n",
       "      <th>2007-01-01</th>\n",
       "      <td>33.0</td>\n",
       "      <td>NaN</td>\n",
       "    </tr>\n",
       "    <tr>\n",
       "      <th>2008-01-01</th>\n",
       "      <td>41.0</td>\n",
       "      <td>NaN</td>\n",
       "    </tr>\n",
       "    <tr>\n",
       "      <th>2009-01-01</th>\n",
       "      <td>57.0</td>\n",
       "      <td>NaN</td>\n",
       "    </tr>\n",
       "    <tr>\n",
       "      <th>2010-01-01</th>\n",
       "      <td>68.0</td>\n",
       "      <td>NaN</td>\n",
       "    </tr>\n",
       "    <tr>\n",
       "      <th>2011-01-01</th>\n",
       "      <td>105.0</td>\n",
       "      <td>NaN</td>\n",
       "    </tr>\n",
       "    <tr>\n",
       "      <th>2012-01-01</th>\n",
       "      <td>129.0</td>\n",
       "      <td>NaN</td>\n",
       "    </tr>\n",
       "    <tr>\n",
       "      <th>2013-01-01</th>\n",
       "      <td>172.0</td>\n",
       "      <td>NaN</td>\n",
       "    </tr>\n",
       "    <tr>\n",
       "      <th>2014-01-01</th>\n",
       "      <td>251.0</td>\n",
       "      <td>NaN</td>\n",
       "    </tr>\n",
       "    <tr>\n",
       "      <th>2015-01-01</th>\n",
       "      <td>290.0</td>\n",
       "      <td>NaN</td>\n",
       "    </tr>\n",
       "    <tr>\n",
       "      <th>2016-01-01</th>\n",
       "      <td>339.0</td>\n",
       "      <td>NaN</td>\n",
       "    </tr>\n",
       "    <tr>\n",
       "      <th>2017-01-01</th>\n",
       "      <td>386.0</td>\n",
       "      <td>NaN</td>\n",
       "    </tr>\n",
       "    <tr>\n",
       "      <th>2018-01-01</th>\n",
       "      <td>450.0</td>\n",
       "      <td>NaN</td>\n",
       "    </tr>\n",
       "    <tr>\n",
       "      <th>2019-01-01</th>\n",
       "      <td>579.0</td>\n",
       "      <td>NaN</td>\n",
       "    </tr>\n",
       "    <tr>\n",
       "      <th>2020-01-01</th>\n",
       "      <td>838.0</td>\n",
       "      <td>NaN</td>\n",
       "    </tr>\n",
       "    <tr>\n",
       "      <th>2021-01-01</th>\n",
       "      <td>NaN</td>\n",
       "      <td>1129.0</td>\n",
       "    </tr>\n",
       "    <tr>\n",
       "      <th>2022-01-01</th>\n",
       "      <td>NaN</td>\n",
       "      <td>1402.0</td>\n",
       "    </tr>\n",
       "  </tbody>\n",
       "</table>\n",
       "</div>"
      ],
      "text/plain": [
       "            Actual_Citations  Predicted_Citations\n",
       "Year                                             \n",
       "2003-01-01              15.0                  NaN\n",
       "2004-01-01              34.0                  NaN\n",
       "2005-01-01              17.0                  NaN\n",
       "2006-01-01              11.0                  NaN\n",
       "2007-01-01              33.0                  NaN\n",
       "2008-01-01              41.0                  NaN\n",
       "2009-01-01              57.0                  NaN\n",
       "2010-01-01              68.0                  NaN\n",
       "2011-01-01             105.0                  NaN\n",
       "2012-01-01             129.0                  NaN\n",
       "2013-01-01             172.0                  NaN\n",
       "2014-01-01             251.0                  NaN\n",
       "2015-01-01             290.0                  NaN\n",
       "2016-01-01             339.0                  NaN\n",
       "2017-01-01             386.0                  NaN\n",
       "2018-01-01             450.0                  NaN\n",
       "2019-01-01             579.0                  NaN\n",
       "2020-01-01             838.0                  NaN\n",
       "2021-01-01               NaN               1129.0\n",
       "2022-01-01               NaN               1402.0"
      ]
     },
     "execution_count": 29,
     "metadata": {},
     "output_type": "execute_result"
    }
   ],
   "source": [
    "#actual_citation.rename(columns={'Citation Count':'Citation'},inplace=True)\n",
    "actual_citation =actual_citation.append({'Year': \"2021\", \"Citation Count\": 0}, ignore_index=True)\n",
    "actual_citation =actual_citation.append({'Year': \"2022\", \"Citation Count\": 0}, ignore_index=True)\n",
    "actual_citation['Predicted_Citations']=0\n",
    "actual_citation.rename(columns={'Citation Count':'Actual_Citations'},inplace=True)\n",
    "actual_citation.loc[actual_citation.Year==\"2021\", \"Predicted_Citations\"] = 1129\n",
    "actual_citation.loc[actual_citation.Year==\"2022\", \"Predicted_Citations\"] = 1402\n",
    "actual_citation[actual_citation.eq(0)] = np.nan\n",
    "actual_citation['Year']=pd.to_datetime(actual_citation['Year'],format='%Y')\n",
    "actual_citation.set_index('Year',inplace=True)\n",
    "actual_citation"
   ]
  },
  {
   "cell_type": "markdown",
   "metadata": {
    "id": "F3TCMUg1JyNj"
   },
   "source": [
    "<div class=\"alert alert-block alert-info\">\n",
    "\n",
    "**Code**: \n",
    "  You will also need to use matplotlib to draw the line plot with training data from 2013 to 2020, the prediction and also the confidence interval (95%).\n",
    "    <br>\n",
    "    *Keep the outputs for code in your notebook.\n",
    "</div>"
   ]
  },
  {
   "cell_type": "code",
   "execution_count": 30,
   "metadata": {
    "id": "PMTaDurDSVjj"
   },
   "outputs": [
    {
     "data": {
      "image/png": "[encoded data removed]",
      "text/plain": [
       "<Figure size 576x360 with 1 Axes>"
      ]
     },
     "metadata": {
      "needs_background": "light"
     },
     "output_type": "display_data"
    }
   ],
   "source": [
    "# Plot the points and the prediction with its confidence interval\n",
    "#actual_citation['Year']=pd.to_datetime(actual_citation['Year'],format='%Y')\n",
    "actual_citation[['Actual_Citations','Predicted_Citations']].plot(figsize= (8,5))\n",
    "x=['2020-01-01','2022-01-01']\n",
    "plt.fill_between(x, lower_series, upper_series,\n",
    "                 color='k', alpha=.15)\n",
    "plt.title(\"Citation predictions Vs Actual Citation\")\n",
    "#pyplot.xlabel(\"Predictions\")\n",
    "plt.ylabel(\"Number of Citations\")\n",
    "plt.legend(loc='upper left')\n",
    "plt.show()\n"
   ]
  },
  {
   "cell_type": "code",
   "execution_count": 31,
   "metadata": {},
   "outputs": [
    {
     "data": {
      "text/plain": [
       "<matplotlib.axes._subplots.AxesSubplot at 0x1dd8ed88d68>"
      ]
     },
     "execution_count": 31,
     "metadata": {},
     "output_type": "execute_result"
    },
    {
     "data": {
      "image/png": "[encoded data removed]",
      "text/plain": [
       "<Figure size 576x360 with 1 Axes>"
      ]
     },
     "metadata": {
      "needs_background": "light"
     },
     "output_type": "display_data"
    }
   ],
   "source": [
    "actual_citation[['Actual_Citations','Predicted_Citations']].plot(figsize= (8,5),kind='bar',\n",
    "                                                                 ylabel='Number of citations',\n",
    "                                                                 title=' Prof. Gang Li Predicted citations for 2021-22')"
   ]
  },
  {
   "cell_type": "markdown",
   "metadata": {},
   "source": [
    "# Part III - Self-Reflective Essay\n",
    "\n",
    "## Overview\n",
    "\n",
    "Please check the assessment task specification details.\n"
   ]
  }
 ],
 "metadata": {
  "colab": {
   "collapsed_sections": [],
   "name": "2021SIT742Task2.ipynb",
   "provenance": [],
   "toc_visible": true
  },
  "kernelspec": {
   "display_name": "Python 3 (ipykernel)",
   "language": "python",
   "name": "python3"
  },
  "language_info": {
   "codemirror_mode": {
    "name": "ipython",
    "version": 3
   },
   "file_extension": ".py",
   "mimetype": "text/x-python",
   "name": "python",
   "nbconvert_exporter": "python",
   "pygments_lexer": "ipython3",
   "version": "3.7.1"
  }
 },
 "nbformat": 4,
 "nbformat_minor": 1
}
