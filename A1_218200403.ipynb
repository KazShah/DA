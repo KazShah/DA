{
 "cells": [
  {
   "cell_type": "markdown",
   "metadata": {
    "colab_type": "text",
    "id": "1cBt-DED-MC9"
   },
   "source": [
    "#**SIT 720 - Machine Learning**\n",
    "\n",
    "Lecturer: Chandan Karmakar | karmakar@deakin.edu.au\n",
    "\n",
    "School of Information Technology,\n",
    "<br/>Deakin University, VIC 3125, Australia."
   ]
  },
  {
   "cell_type": "markdown",
   "metadata": {
    "colab_type": "text",
    "id": "qSfW2iPaFFq5"
   },
   "source": [
    "#**Assessment Task 1 (20 marks)**\n",
    "\n",
    "##**Submission Instruction**\n",
    "1.  Student should insert Python code or text responses into the cell followed by the question.\n",
    "\n",
    "2.  For answers regarding discussion or explanation, **maximum five sentences are suggested**.\n",
    "\n",
    "3.  Rename this notebook file appending your student ID. For example, for student ID 1234, the submitted file name should be A0_1234.ipynb.\n",
    "\n",
    "4.  Insert your student ID and name in the following cell."
   ]
  },
  {
   "cell_type": "code",
   "execution_count": null,
   "metadata": {
    "colab": {},
    "colab_type": "code",
    "id": "45gFUaXcF8oG"
   },
   "outputs": [],
   "source": [
    "# Student ID: 218200403\n",
    "\n",
    "# Student name: Muhammad Kazim\n"
   ]
  },
  {
   "cell_type": "markdown",
   "metadata": {
    "colab_type": "text",
    "id": "JtEbRsB1_P_j"
   },
   "source": [
    "\n",
    "\n",
    "##**Background**\n",
    "Selection of housing is always difficult for someone seeking for a suitable one as it includes various factors and preferences. People prefer to buy a house considering many criteria like- population, quality of life, financial capability, as well as social and natural environments around the housing block. In this assignment you will be helping people choosing suitable housing for them according to their needs.\n",
    "##**Dataset**\n",
    "**Dataset file name:** housing_dataset.csv\n",
    "\n",
    "**Dataset description:** Dataset contains total 10 features (columns). It contains the location, housing age, population, number of families in a housing (block), number of rooms, average income of the families in that housing, ocean proximity and other informaiton. Each row indicates a record of a housing block containing the features mentioned earlier.\n",
    "\n",
    "**Features:** \n",
    "\n",
    "1.   latitude (float): Latitude of the location of a housing in conventional geospace\n",
    "2.   longitude (float): Longitude of the location of a housing in conventional geospace\n",
    "3.   housing_age (int): Age of the housing in year, the higher number indicates the older housing\n",
    "4.    total_rooms (int): Total number of rooms in a housing\n",
    "5.    total_bedrooms (int): Total number of bedrooms in a housing\n",
    "6.    population (int): Total population of a housing\n",
    "7.    families (int): Total number of families living in a housing\n",
    "8.    average_income (float): Average income of the member of a housing in a scale of Tousand Dollar Per Month\n",
    "9.    ocean_proximity (string): Describing how close the housing is to the ocean\n",
    "10.   house_value (int): Average individual house price of a housing in Dollers\n"
   ]
  },
  {
   "cell_type": "markdown",
   "metadata": {
    "colab_type": "text",
    "id": "rQs2cqHo_7wC"
   },
   "source": [
    "\n",
    "\n",
    "##**Part-1: Basic Calculations:**  *(8 marks: 8 questions x 1 marks each)*\n",
    "\n",
    "\n",
    "1.   Find the distances of the farthest and nearest housing blocks from the house block described in the first row of the dataset."
   ]
  },
  {
   "cell_type": "code",
   "execution_count": 2,
   "metadata": {},
   "outputs": [],
   "source": [
    "import pandas as pd\n",
    "import numpy as np\n",
    "%matplotlib inline\n",
    "import matplotlib.pyplot as plt\n",
    "import math\n",
    "original_data=pd.read_csv('housing_dataset.csv')\n",
    "data=original_data.copy()"
   ]
  },
  {
   "cell_type": "code",
   "execution_count": 18,
   "metadata": {},
   "outputs": [
    {
     "name": "stdout",
     "output_type": "stream",
     "text": [
      "Smallest Distance(km) from the 1st Housing is 0.8773303603429851 km\n",
      "Highest Distance(km) from the 1st Housing is 913.0356340748763 km\n"
     ]
    }
   ],
   "source": [
    "#The distance formula used below will calculate distance in kilometers and the difference between 02 points will be in km's\n",
    "#The distance funtion take 04 values as inputs i.e. lat1, long1, lat2 and long2 and give output in km\n",
    "def distance(x1,y1,x2,y2):\n",
    "    Dist=1.6*(math.sqrt((69.464*(x1-x2))**2+(69.464*(y1-y2)*math.cos(x2*0.01745))**2))\n",
    "    return(Dist)\n",
    "Distance_km=[]\n",
    "\n",
    "start_long=data.longitude[0]\n",
    "start_lat=data.latitude[0]\n",
    "\n",
    "for i in data.itertuples(index=False):\n",
    "    Distance_km.append(distance(start_lat, start_long, i.latitude, i.longitude))\n",
    "\n",
    "Distance_km.sort()\n",
    "length = len(Distance_km)\n",
    "#The nearest housing block from the 1st location will be 2nd point as the function starts calculating distance from itself \n",
    "print(\"Smallest Distance(km) from the 1st Housing is\",Distance_km[1],\"km\") \n",
    "print(\"Highest Distance(km) from the 1st Housing is\",Distance_km[length-1],\"km\") \n",
    "\n",
    "\n",
    "#--------------------------------------#\n",
    "#data['Distance_km'] = Distance_km\n",
    "#smallest_dist=data.Distance_km.nsmallest(2).iloc[-1]\n",
    "#highest_dist=data.Distance_km.max()\n",
    "#print(\"Smallest Distance(km) from the 1st Housing\", smallest_dist)\n",
    "#print(\"Highest Distance(km) from the 1st Housing\", largest_dist) \n",
    "\n",
    "#--------------------------------------#\n"
   ]
  },
  {
   "cell_type": "markdown",
   "metadata": {
    "colab_type": "text",
    "id": "CGNHL-MAACPJ"
   },
   "source": [
    "2.   Calculate the average age of the house blocks near the ocean."
   ]
  },
  {
   "cell_type": "code",
   "execution_count": 20,
   "metadata": {
    "colab": {},
    "colab_type": "code",
    "id": "-PmJE7wPAHeQ"
   },
   "outputs": [
    {
     "data": {
      "text/plain": [
       "29.347253574115875"
      ]
     },
     "execution_count": 20,
     "metadata": {},
     "output_type": "execute_result"
    }
   ],
   "source": [
    "avg_house_age=data.loc[data['ocean_proximity']=='NEAR OCEAN']\n",
    "avg_house_age['housing_age'].mean()"
   ]
  },
  {
   "cell_type": "markdown",
   "metadata": {
    "colab_type": "text",
    "id": "7xx5_8BlASae"
   },
   "source": [
    "3.   Find the income of the housing block with the most and least population density (per family)."
   ]
  },
  {
   "cell_type": "code",
   "execution_count": 21,
   "metadata": {
    "colab": {},
    "colab_type": "code",
    "id": "mC3E-Fq6AYTm"
   },
   "outputs": [
    {
     "name": "stdout",
     "output_type": "stream",
     "text": [
      "19006    10.2264\n",
      "Name: average_income, dtype: float64\n",
      "11849    2.5893\n",
      "Name: average_income, dtype: float64\n"
     ]
    }
   ],
   "source": [
    "#Ideally Population density is calculated as population per sq km but here we are calculating number of people per family \n",
    "#Adding a new column Population density in out Dataset as this will be used again later\n",
    "data['Population_density']=(data.population/data.families)\n",
    "Min_pop_density=(data[data.Population_density==data.Population_density.min()])\n",
    "Max_pop_density=(data[data.Population_density==data.Population_density.max()])\n",
    "#Displaying income for Maximum and Minimum populated housings\n",
    "print(Max_pop_density[\"average_income\"])\n",
    "print(Min_pop_density[\"average_income\"])"
   ]
  },
  {
   "cell_type": "markdown",
   "metadata": {
    "colab_type": "text",
    "id": "fvMmRTzpAd5J"
   },
   "source": [
    "4.   Calculate the price difference between the latest and oldest housing block from the dataset."
   ]
  },
  {
   "cell_type": "code",
   "execution_count": 22,
   "metadata": {
    "colab": {},
    "colab_type": "code",
    "id": "4rKQUPpyAfWQ"
   },
   "outputs": [
    {
     "name": "stdout",
     "output_type": "stream",
     "text": [
      "131120.87117046345\n",
      "The value shows that on avgerage oldest housing block is $1,31,120.88 expensive than the latest housing blocks\n"
     ]
    }
   ],
   "source": [
    "Housing_latest=(data[data.housing_age == data.housing_age.min()]) \n",
    "Housing_oldest=(data[data.housing_age == data.housing_age.max()]) \n",
    "df_1=pd.DataFrame(Housing_latest)\n",
    "df_2=pd.DataFrame(Housing_oldest)\n",
    "#As we have multiple housing of the same age in both latest and oldest housings, taking avg. value for house price for price diff\n",
    "diff_price=df_2['house_value'].mean()-df_1['house_value'].mean()\n",
    "print(diff_price)\n",
    "print(\"The value shows that on avgerage oldest housing block is $1,31,120.88 expensive than the latest housing blocks\")"
   ]
  },
  {
   "cell_type": "markdown",
   "metadata": {
    "colab_type": "text",
    "id": "pZl4zZM9Akg-"
   },
   "source": [
    "5.   Calculate the cheapest price per room from the dataset."
   ]
  },
  {
   "cell_type": "code",
   "execution_count": 23,
   "metadata": {
    "colab": {},
    "colab_type": "code",
    "id": "NgSh7WpaAlb1"
   },
   "outputs": [
    {
     "data": {
      "text/plain": [
       "1.595444807757357"
      ]
     },
     "execution_count": 23,
     "metadata": {},
     "output_type": "execute_result"
    }
   ],
   "source": [
    "data['Price_per_room']=(data.house_value/data.total_rooms)\n",
    "data['Price_per_room'].min()"
   ]
  },
  {
   "cell_type": "markdown",
   "metadata": {
    "colab_type": "text",
    "id": "YpRQNYwGAncM"
   },
   "source": [
    "6.   Calculate the population density (per family) for the most and least wealthy housing blocks in the dataset."
   ]
  },
  {
   "cell_type": "code",
   "execution_count": 24,
   "metadata": {
    "colab": {},
    "colab_type": "code",
    "id": "RtKpkz57AqVl"
   },
   "outputs": [
    {
     "name": "stdout",
     "output_type": "stream",
     "text": [
      "Average Population density for Most wealthyhousing  2.5704420688088345\n",
      "Average Population density for Most wealthyhousing  2.566439523605762\n"
     ]
    }
   ],
   "source": [
    "#Calculating wealthy house blocks in terms of house value\n",
    "Most_wealthy_housing=(data[data.house_value == data.house_value.max()]) \n",
    "Least_wealthy_housing=(data[data.house_value == data.house_value.min()])\n",
    "print(\"Average Population density for Most wealthyhousing \",Most_wealthy_housing[\"Population_density\"].mean())\n",
    "print(\"Average Population density for Most wealthyhousing \",Least_wealthy_housing[\"Population_density\"].mean())\n",
    "#Taking mean values as there are multiple entries of same values"
   ]
  },
  {
   "cell_type": "markdown",
   "metadata": {
    "colab_type": "text",
    "id": "nj1raWPgAsiy"
   },
   "source": [
    "7.   Calculate and print the total housing blocks located in the same place."
   ]
  },
  {
   "cell_type": "code",
   "execution_count": 25,
   "metadata": {
    "colab": {},
    "colab_type": "code",
    "id": "AHI-K9m-AwDR"
   },
   "outputs": [
    {
     "data": {
      "text/plain": [
       "<1H OCEAN     9136\n",
       "INLAND        6551\n",
       "NEAR OCEAN    2658\n",
       "NEAR BAY      2290\n",
       "ISLAND           5\n",
       "Name: ocean_proximity, dtype: int64"
      ]
     },
     "execution_count": 25,
     "metadata": {},
     "output_type": "execute_result"
    }
   ],
   "source": [
    "#Housing blocks located in the same place can be assumed by Ocean proximity category as its grouping the housing by place\n",
    "data['ocean_proximity'].value_counts()"
   ]
  },
  {
   "cell_type": "markdown",
   "metadata": {
    "colab_type": "text",
    "id": "44Ak48NQA1G8"
   },
   "source": [
    "8.   Calculate the price of expensive room grouped by ocean proximity."
   ]
  },
  {
   "cell_type": "code",
   "execution_count": 26,
   "metadata": {
    "colab": {},
    "colab_type": "code",
    "id": "wuMgmiElA2Eo"
   },
   "outputs": [
    {
     "data": {
      "text/plain": [
       "ocean_proximity\n",
       "<1H OCEAN     22500.000000\n",
       "INLAND        68750.000000\n",
       "ISLAND          451.807229\n",
       "NEAR BAY      62500.125000\n",
       "NEAR OCEAN    23333.333333\n",
       "Name: Price_per_room, dtype: float64"
      ]
     },
     "execution_count": 26,
     "metadata": {},
     "output_type": "execute_result"
    }
   ],
   "source": [
    "data.groupby('ocean_proximity').Price_per_room.max()"
   ]
  },
  {
   "cell_type": "markdown",
   "metadata": {
    "colab_type": "text",
    "id": "DtPZm2IpA4_u"
   },
   "source": [
    "##**Part-2: Visualization:**  *(6 marks: 3 question x 2 marks each)*\n",
    "\n",
    "\n",
    "1.   Draw the population scatter plot against housing age and another against ocean proximity. From the graph conclude an assumption."
   ]
  },
  {
   "cell_type": "code",
   "execution_count": 27,
   "metadata": {
    "colab": {},
    "colab_type": "code",
    "id": "iKJ8-NjgA9fE"
   },
   "outputs": [
    {
     "name": "stdout",
     "output_type": "stream",
     "text": [
      "The plot shows that there is a slight negative correlation between house age and population\n",
      "\n",
      "As the house age is increasing, Population is decreasing, so we can conclude that new housing are more populated\n",
      "\n"
     ]
    },
    {
     "data": {
      "image/png": "[encoded data removed]",
      "text/plain": [
       "<Figure size 432x288 with 1 Axes>"
      ]
     },
     "metadata": {
      "needs_background": "light"
     },
     "output_type": "display_data"
    },
    {
     "data": {
      "text/plain": [
       "<Figure size 432x288 with 0 Axes>"
      ]
     },
     "metadata": {},
     "output_type": "display_data"
    },
    {
     "data": {
      "image/png": "[encoded data removed]",
      "text/plain": [
       "<Figure size 432x288 with 1 Axes>"
      ]
     },
     "metadata": {
      "needs_background": "light"
     },
     "output_type": "display_data"
    },
    {
     "data": {
      "image/png": "[encoded data removed]",
      "text/plain": [
       "<Figure size 432x288 with 1 Axes>"
      ]
     },
     "metadata": {
      "needs_background": "light"
     },
     "output_type": "display_data"
    },
    {
     "name": "stdout",
     "output_type": "stream",
     "text": [
      "The plot shows that how population is distributed between housing locations according to ocean proximity\n",
      "\n",
      "Housings <1H, Inland and Near Ocean are more populated,whereas Near bay and Island are less populated\n"
     ]
    }
   ],
   "source": [
    "plt.figure(1)\n",
    "plt.plot(data[\"housing_age\"], data[\"population\"],\"o\")\n",
    "line = np.polyfit(data[\"housing_age\"], data[\"population\"], 1)\n",
    "p_line = np.poly1d(line)\n",
    "plt.plot(data[\"housing_age\"],p_line(data[\"housing_age\"]),\"r--\")\n",
    "print(\"The plot shows that there is a slight negative correlation between house age and population\\n\")\n",
    "print(\"As the house age is increasing, Population is decreasing, so we can conclude that new housing are more populated\\n\")\n",
    "plt.xlabel('House Age')\n",
    "plt.ylabel('Population')\n",
    "plt.title('Population Vs Housing age')\n",
    "\n",
    "plt.figure(3)\n",
    "#data.plot(kind='scatter', x='housing_age', y='population')\n",
    "fig, ax = plt.subplots()\n",
    "groups = data.groupby('ocean_proximity')\n",
    "for name, group in groups:\n",
    "    ax.plot(group.housing_age, group.population, marker='o', linestyle='', ms=5,label=name)\n",
    "ax.legend(numpoints=1)\n",
    "ax.set_ylim((0, 35000))\n",
    "plt.xlabel('House Age')\n",
    "plt.ylabel('Population')\n",
    "plt.title('Population Vs Housing age')\n",
    "\n",
    "plt.figure(2)\n",
    "plt.plot(data[\"ocean_proximity\"], data[\"population\"],\"o\")\n",
    "plt.xlabel('Ocean Proximity')\n",
    "plt.ylabel('Population')\n",
    "plt.title('Population Vs Ocean proximity')\n",
    "\n",
    "plt.show()\n",
    "print(\"The plot shows that how population is distributed between housing locations according to ocean proximity\\n\")\n",
    "print(\"Housings <1H, Inland and Near Ocean are more populated,whereas Near bay and Island are less populated\")\n",
    "\n"
   ]
  },
  {
   "cell_type": "markdown",
   "metadata": {
    "colab_type": "text",
    "id": "WAm9CdIsA_yi"
   },
   "source": [
    "2.  Draw a bar diagram of average values of all suitable columns. (excluding latitude, longitude and ocean proximity of course)."
   ]
  },
  {
   "cell_type": "code",
   "execution_count": 28,
   "metadata": {
    "colab": {},
    "colab_type": "code",
    "id": "RKwoOm5OBC6w"
   },
   "outputs": [
    {
     "data": {
      "text/plain": [
       "<matplotlib.axes._subplots.AxesSubplot at 0x16994f60c50>"
      ]
     },
     "execution_count": 28,
     "metadata": {},
     "output_type": "execute_result"
    },
    {
     "data": {
      "image/png": "[encoded data removed]",
      "text/plain": [
       "<Figure size 432x288 with 1 Axes>"
      ]
     },
     "metadata": {
      "needs_background": "light"
     },
     "output_type": "display_data"
    }
   ],
   "source": [
    "data_1=data.copy()\n",
    "#As Total bedrooms columns has some missing values, the below line is used to fill those values with values just before blanks\n",
    "data_1[\"total_bedrooms\"].fillna(method=\"bfill\",inplace=True)\n",
    "data_1[\"house_value\"]=data_1.house_value/1000\n",
    "#As the house value average is very high, scaling is done in above step by dividing it by 1000 so that all other categories\n",
    "#remain visible in the plot. The house price is now in terms of 1000's\n",
    "#data_1.head()\n",
    "df_mean=data_1[[\"housing_age\",\"total_rooms\",\"total_bedrooms\",\"population\",\"families\",\"average_income\",\"house_value\"]].mean()\n",
    "df_mean.plot(kind='bar',title='Average values of suitable columns')"
   ]
  },
  {
   "cell_type": "markdown",
   "metadata": {
    "colab_type": "text",
    "id": "EupiTHf8BEvA"
   },
   "source": [
    "3.   Visualize the differences in housing prices from the average price of housing using a bar diagram."
   ]
  },
  {
   "cell_type": "code",
   "execution_count": 29,
   "metadata": {
    "colab": {},
    "colab_type": "code",
    "id": "j6tBhj2PBIZK",
    "scrolled": true
   },
   "outputs": [
    {
     "data": {
      "text/plain": [
       "Text(0.5, 1.0, 'House price comparison with average price')"
      ]
     },
     "execution_count": 29,
     "metadata": {},
     "output_type": "execute_result"
    },
    {
     "data": {
      "image/png": "[encoded data removed]",
      "text/plain": [
       "<Figure size 432x288 with 1 Axes>"
      ]
     },
     "metadata": {
      "needs_background": "light"
     },
     "output_type": "display_data"
    }
   ],
   "source": [
    "import pandas as pd\n",
    "import numpy as np\n",
    "%matplotlib inline\n",
    "import matplotlib.pyplot as plt\n",
    "import math\n",
    "original_data=pd.read_csv('housing_dataset.csv')\n",
    "data=original_data.copy()\n",
    "House_price=data.house_value\n",
    "result = plt.hist(House_price, bins=30, color='c', edgecolor='k', alpha=0.7)\n",
    "plt.axvline(House_price.mean(), color='r', linestyle='dashed', linewidth=2)\n",
    "plt.xlabel(\"House Price\")\n",
    "plt.ylabel(\"Number of Houses\")\n",
    "plt.title(\"House price comparison with average price\")"
   ]
  },
  {
   "cell_type": "markdown",
   "metadata": {
    "colab_type": "text",
    "id": "FgBaJ0rWBKk-"
   },
   "source": [
    "##**Part-3: File Management:**  *(6 marks: 2 question x 3 marks each)*\n",
    "\n",
    " \n",
    "\n",
    "1.   Save the details of all housing blocks in a csv file having houses near oceans and  lower than the average of the housing value."
   ]
  },
  {
   "cell_type": "code",
   "execution_count": 30,
   "metadata": {
    "colab": {},
    "colab_type": "code",
    "id": "c0BR_AMxBOu_"
   },
   "outputs": [],
   "source": [
    "data_near_ocean=pd.DataFrame(original_data.loc[(original_data['ocean_proximity']=='NEAR OCEAN') & (original_data['house_value']<original_data['house_value'].mean())])\n",
    "data_near_ocean.to_csv('housing_dataset_near_ocean.csv',index=None,header=True)"
   ]
  },
  {
   "cell_type": "markdown",
   "metadata": {
    "colab_type": "text",
    "id": "KDM2MY16-qHs"
   },
   "source": [
    "\n",
    "\n",
    "\n",
    "\n",
    "\n",
    "2.   Create a new housing dataset (a csv file) having only the location, total rooms and housing price information.\n",
    "\n",
    "\n",
    "\n",
    "\n"
   ]
  },
  {
   "cell_type": "code",
   "execution_count": 31,
   "metadata": {
    "colab": {},
    "colab_type": "code",
    "id": "uwmK7HfYdzHd"
   },
   "outputs": [],
   "source": [
    "data_new=pd.DataFrame(original_data,columns=['longitude','latitude','total_rooms','house_value'])\n",
    "data_new.to_csv('housing_dataset_new.csv',index=None,header=True)"
   ]
  },
  {
   "cell_type": "code",
   "execution_count": null,
   "metadata": {},
   "outputs": [],
   "source": []
  }
 ],
 "metadata": {
  "colab": {
   "collapsed_sections": [],
   "name": "A1.ipynb",
   "provenance": []
  },
  "kernelspec": {
   "display_name": "Python 3 (ipykernel)",
   "language": "python",
   "name": "python3"
  },
  "language_info": {
   "codemirror_mode": {
    "name": "ipython",
    "version": 3
   },
   "file_extension": ".py",
   "mimetype": "text/x-python",
   "name": "python",
   "nbconvert_exporter": "python",
   "pygments_lexer": "ipython3",
   "version": "3.7.1"
  }
 },
 "nbformat": 4,
 "nbformat_minor": 1
}
