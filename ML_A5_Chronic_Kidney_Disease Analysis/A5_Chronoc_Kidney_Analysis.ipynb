{
 "cells": [
  {
   "cell_type": "markdown",
   "metadata": {
    "colab_type": "text",
    "id": "_sL9JG_-nL2c"
   },
   "source": [
    "## Assessment Task 5 (35 marks)\n",
    "\n",
    "In this assignment, you will use a lot of concepts learnt in this course to come up with a good solution for a given chronic kidney disease prediction problem.\n",
    "\n",
    "## Submission Instruction\n",
    "1.  Student should insert Python code or text responses into the cell followed by the question.\n",
    "\n",
    "2.  For answers regarding discussion or explanation, **maximum ten sentences are suggested**.\n",
    "\n",
    "3.  Rename this notebook file appending your student ID. For example, for student ID 1234, the submitted file name should be A5_1234.ipynb.\n",
    "\n",
    "4.  Insert your student ID and name in the following cell."
   ]
  },
  {
   "cell_type": "code",
   "execution_count": 1,
   "metadata": {},
   "outputs": [],
   "source": [
    "import pandas as pd\n",
    "import numpy as np\n",
    "import matplotlib.pyplot as plt\n",
    "import warnings\n",
    "warnings.filterwarnings('ignore')\n",
    "orginal_data=pd.read_csv('chronic_kidney_disease.csv')\n",
    "data=orginal_data.copy()"
   ]
  },
  {
   "cell_type": "code",
   "execution_count": 5,
   "metadata": {},
   "outputs": [
    {
     "data": {
      "text/plain": [
       "age      0\n",
       "bp       0\n",
       "sg       0\n",
       "al       0\n",
       "su       0\n",
       "rbc      0\n",
       "pc       0\n",
       "pcc      0\n",
       "ba       0\n",
       "bgr      0\n",
       "bu       0\n",
       "sc       0\n",
       "sod      0\n",
       "pot      0\n",
       "hemo     0\n",
       "pcv      0\n",
       "wbcc     0\n",
       "rbcc     0\n",
       "htn      0\n",
       "dm       0\n",
       "cad      0\n",
       "appet    0\n",
       "pe       0\n",
       "ane      0\n",
       "class    0\n",
       "dtype: int64"
      ]
     },
     "execution_count": 5,
     "metadata": {},
     "output_type": "execute_result"
    }
   ],
   "source": [
    "import pandas as pd\n",
    "orginal_data=pd.read_csv('chronic_kidney_disease.csv')\n",
    "data=orginal_data.copy()\n",
    "data.isna().sum()"
   ]
  },
  {
   "cell_type": "code",
   "execution_count": 2,
   "metadata": {},
   "outputs": [
    {
     "data": {
      "text/html": [
       "<div>\n",
       "<style scoped>\n",
       "    .dataframe tbody tr th:only-of-type {\n",
       "        vertical-align: middle;\n",
       "    }\n",
       "\n",
       "    .dataframe tbody tr th {\n",
       "        vertical-align: top;\n",
       "    }\n",
       "\n",
       "    .dataframe thead th {\n",
       "        text-align: right;\n",
       "    }\n",
       "</style>\n",
       "<table border=\"1\" class=\"dataframe\">\n",
       "  <thead>\n",
       "    <tr style=\"text-align: right;\">\n",
       "      <th></th>\n",
       "      <th>age</th>\n",
       "      <th>bp</th>\n",
       "      <th>sg</th>\n",
       "      <th>al</th>\n",
       "      <th>su</th>\n",
       "      <th>rbc</th>\n",
       "      <th>pc</th>\n",
       "      <th>pcc</th>\n",
       "      <th>ba</th>\n",
       "      <th>bgr</th>\n",
       "      <th>...</th>\n",
       "      <th>pcv</th>\n",
       "      <th>wbcc</th>\n",
       "      <th>rbcc</th>\n",
       "      <th>htn</th>\n",
       "      <th>dm</th>\n",
       "      <th>cad</th>\n",
       "      <th>appet</th>\n",
       "      <th>pe</th>\n",
       "      <th>ane</th>\n",
       "      <th>class</th>\n",
       "    </tr>\n",
       "  </thead>\n",
       "  <tbody>\n",
       "    <tr>\n",
       "      <th>0</th>\n",
       "      <td>48</td>\n",
       "      <td>80</td>\n",
       "      <td>1.02</td>\n",
       "      <td>1</td>\n",
       "      <td>0</td>\n",
       "      <td>0</td>\n",
       "      <td>0</td>\n",
       "      <td>1</td>\n",
       "      <td>1</td>\n",
       "      <td>121</td>\n",
       "      <td>...</td>\n",
       "      <td>44</td>\n",
       "      <td>7800</td>\n",
       "      <td>5.2</td>\n",
       "      <td>0</td>\n",
       "      <td>0</td>\n",
       "      <td>1</td>\n",
       "      <td>1</td>\n",
       "      <td>1</td>\n",
       "      <td>1</td>\n",
       "      <td>ckd</td>\n",
       "    </tr>\n",
       "    <tr>\n",
       "      <th>1</th>\n",
       "      <td>7</td>\n",
       "      <td>50</td>\n",
       "      <td>1.02</td>\n",
       "      <td>4</td>\n",
       "      <td>0</td>\n",
       "      <td>0</td>\n",
       "      <td>0</td>\n",
       "      <td>1</td>\n",
       "      <td>1</td>\n",
       "      <td>?</td>\n",
       "      <td>...</td>\n",
       "      <td>38</td>\n",
       "      <td>6000</td>\n",
       "      <td>0.0</td>\n",
       "      <td>1</td>\n",
       "      <td>1</td>\n",
       "      <td>1</td>\n",
       "      <td>1</td>\n",
       "      <td>1</td>\n",
       "      <td>1</td>\n",
       "      <td>ckd</td>\n",
       "    </tr>\n",
       "    <tr>\n",
       "      <th>2</th>\n",
       "      <td>62</td>\n",
       "      <td>80</td>\n",
       "      <td>1.01</td>\n",
       "      <td>2</td>\n",
       "      <td>3</td>\n",
       "      <td>0</td>\n",
       "      <td>0</td>\n",
       "      <td>1</td>\n",
       "      <td>1</td>\n",
       "      <td>423</td>\n",
       "      <td>...</td>\n",
       "      <td>31</td>\n",
       "      <td>7500</td>\n",
       "      <td>0.0</td>\n",
       "      <td>1</td>\n",
       "      <td>0</td>\n",
       "      <td>1</td>\n",
       "      <td>0</td>\n",
       "      <td>1</td>\n",
       "      <td>0</td>\n",
       "      <td>ckd</td>\n",
       "    </tr>\n",
       "    <tr>\n",
       "      <th>3</th>\n",
       "      <td>48</td>\n",
       "      <td>70</td>\n",
       "      <td>1.005</td>\n",
       "      <td>4</td>\n",
       "      <td>0</td>\n",
       "      <td>0</td>\n",
       "      <td>1</td>\n",
       "      <td>0</td>\n",
       "      <td>1</td>\n",
       "      <td>117</td>\n",
       "      <td>...</td>\n",
       "      <td>32</td>\n",
       "      <td>6700</td>\n",
       "      <td>3.9</td>\n",
       "      <td>0</td>\n",
       "      <td>1</td>\n",
       "      <td>1</td>\n",
       "      <td>0</td>\n",
       "      <td>0</td>\n",
       "      <td>0</td>\n",
       "      <td>ckd</td>\n",
       "    </tr>\n",
       "    <tr>\n",
       "      <th>4</th>\n",
       "      <td>51</td>\n",
       "      <td>80</td>\n",
       "      <td>1.01</td>\n",
       "      <td>2</td>\n",
       "      <td>0</td>\n",
       "      <td>0</td>\n",
       "      <td>0</td>\n",
       "      <td>1</td>\n",
       "      <td>1</td>\n",
       "      <td>106</td>\n",
       "      <td>...</td>\n",
       "      <td>35</td>\n",
       "      <td>7300</td>\n",
       "      <td>4.6</td>\n",
       "      <td>1</td>\n",
       "      <td>1</td>\n",
       "      <td>1</td>\n",
       "      <td>1</td>\n",
       "      <td>1</td>\n",
       "      <td>1</td>\n",
       "      <td>ckd</td>\n",
       "    </tr>\n",
       "    <tr>\n",
       "      <th>5</th>\n",
       "      <td>60</td>\n",
       "      <td>90</td>\n",
       "      <td>1.015</td>\n",
       "      <td>3</td>\n",
       "      <td>0</td>\n",
       "      <td>0</td>\n",
       "      <td>0</td>\n",
       "      <td>1</td>\n",
       "      <td>1</td>\n",
       "      <td>74</td>\n",
       "      <td>...</td>\n",
       "      <td>39</td>\n",
       "      <td>7800</td>\n",
       "      <td>4.4</td>\n",
       "      <td>0</td>\n",
       "      <td>0</td>\n",
       "      <td>1</td>\n",
       "      <td>1</td>\n",
       "      <td>0</td>\n",
       "      <td>1</td>\n",
       "      <td>ckd</td>\n",
       "    </tr>\n",
       "    <tr>\n",
       "      <th>6</th>\n",
       "      <td>68</td>\n",
       "      <td>70</td>\n",
       "      <td>1.01</td>\n",
       "      <td>0</td>\n",
       "      <td>0</td>\n",
       "      <td>0</td>\n",
       "      <td>0</td>\n",
       "      <td>1</td>\n",
       "      <td>1</td>\n",
       "      <td>100</td>\n",
       "      <td>...</td>\n",
       "      <td>36</td>\n",
       "      <td>0</td>\n",
       "      <td>0.0</td>\n",
       "      <td>1</td>\n",
       "      <td>1</td>\n",
       "      <td>1</td>\n",
       "      <td>1</td>\n",
       "      <td>1</td>\n",
       "      <td>1</td>\n",
       "      <td>ckd</td>\n",
       "    </tr>\n",
       "    <tr>\n",
       "      <th>7</th>\n",
       "      <td>24</td>\n",
       "      <td>?</td>\n",
       "      <td>1.015</td>\n",
       "      <td>2</td>\n",
       "      <td>4</td>\n",
       "      <td>0</td>\n",
       "      <td>1</td>\n",
       "      <td>1</td>\n",
       "      <td>1</td>\n",
       "      <td>410</td>\n",
       "      <td>...</td>\n",
       "      <td>44</td>\n",
       "      <td>6900</td>\n",
       "      <td>5.0</td>\n",
       "      <td>1</td>\n",
       "      <td>0</td>\n",
       "      <td>1</td>\n",
       "      <td>1</td>\n",
       "      <td>0</td>\n",
       "      <td>1</td>\n",
       "      <td>ckd</td>\n",
       "    </tr>\n",
       "    <tr>\n",
       "      <th>8</th>\n",
       "      <td>52</td>\n",
       "      <td>100</td>\n",
       "      <td>1.015</td>\n",
       "      <td>3</td>\n",
       "      <td>0</td>\n",
       "      <td>0</td>\n",
       "      <td>1</td>\n",
       "      <td>0</td>\n",
       "      <td>1</td>\n",
       "      <td>138</td>\n",
       "      <td>...</td>\n",
       "      <td>33</td>\n",
       "      <td>9600</td>\n",
       "      <td>4.0</td>\n",
       "      <td>0</td>\n",
       "      <td>0</td>\n",
       "      <td>1</td>\n",
       "      <td>1</td>\n",
       "      <td>1</td>\n",
       "      <td>0</td>\n",
       "      <td>ckd</td>\n",
       "    </tr>\n",
       "    <tr>\n",
       "      <th>9</th>\n",
       "      <td>53</td>\n",
       "      <td>90</td>\n",
       "      <td>1.02</td>\n",
       "      <td>2</td>\n",
       "      <td>0</td>\n",
       "      <td>1</td>\n",
       "      <td>1</td>\n",
       "      <td>0</td>\n",
       "      <td>1</td>\n",
       "      <td>70</td>\n",
       "      <td>...</td>\n",
       "      <td>29</td>\n",
       "      <td>12100</td>\n",
       "      <td>3.7</td>\n",
       "      <td>0</td>\n",
       "      <td>0</td>\n",
       "      <td>1</td>\n",
       "      <td>0</td>\n",
       "      <td>1</td>\n",
       "      <td>0</td>\n",
       "      <td>ckd</td>\n",
       "    </tr>\n",
       "    <tr>\n",
       "      <th>10</th>\n",
       "      <td>50</td>\n",
       "      <td>60</td>\n",
       "      <td>1.01</td>\n",
       "      <td>2</td>\n",
       "      <td>4</td>\n",
       "      <td>0</td>\n",
       "      <td>1</td>\n",
       "      <td>0</td>\n",
       "      <td>1</td>\n",
       "      <td>490</td>\n",
       "      <td>...</td>\n",
       "      <td>28</td>\n",
       "      <td>0</td>\n",
       "      <td>0.0</td>\n",
       "      <td>0</td>\n",
       "      <td>0</td>\n",
       "      <td>1</td>\n",
       "      <td>1</td>\n",
       "      <td>1</td>\n",
       "      <td>0</td>\n",
       "      <td>ckd</td>\n",
       "    </tr>\n",
       "    <tr>\n",
       "      <th>11</th>\n",
       "      <td>63</td>\n",
       "      <td>70</td>\n",
       "      <td>1.01</td>\n",
       "      <td>3</td>\n",
       "      <td>0</td>\n",
       "      <td>1</td>\n",
       "      <td>1</td>\n",
       "      <td>0</td>\n",
       "      <td>1</td>\n",
       "      <td>380</td>\n",
       "      <td>...</td>\n",
       "      <td>32</td>\n",
       "      <td>4500</td>\n",
       "      <td>3.8</td>\n",
       "      <td>0</td>\n",
       "      <td>0</td>\n",
       "      <td>1</td>\n",
       "      <td>0</td>\n",
       "      <td>0</td>\n",
       "      <td>1</td>\n",
       "      <td>ckd</td>\n",
       "    </tr>\n",
       "    <tr>\n",
       "      <th>12</th>\n",
       "      <td>68</td>\n",
       "      <td>70</td>\n",
       "      <td>1.015</td>\n",
       "      <td>3</td>\n",
       "      <td>1</td>\n",
       "      <td>0</td>\n",
       "      <td>0</td>\n",
       "      <td>0</td>\n",
       "      <td>1</td>\n",
       "      <td>208</td>\n",
       "      <td>...</td>\n",
       "      <td>28</td>\n",
       "      <td>12200</td>\n",
       "      <td>3.4</td>\n",
       "      <td>0</td>\n",
       "      <td>0</td>\n",
       "      <td>0</td>\n",
       "      <td>0</td>\n",
       "      <td>0</td>\n",
       "      <td>1</td>\n",
       "      <td>ckd</td>\n",
       "    </tr>\n",
       "    <tr>\n",
       "      <th>13</th>\n",
       "      <td>68</td>\n",
       "      <td>70</td>\n",
       "      <td>?</td>\n",
       "      <td>?</td>\n",
       "      <td>?</td>\n",
       "      <td>0</td>\n",
       "      <td>0</td>\n",
       "      <td>1</td>\n",
       "      <td>1</td>\n",
       "      <td>98</td>\n",
       "      <td>...</td>\n",
       "      <td>0</td>\n",
       "      <td>0</td>\n",
       "      <td>0.0</td>\n",
       "      <td>0</td>\n",
       "      <td>0</td>\n",
       "      <td>0</td>\n",
       "      <td>0</td>\n",
       "      <td>0</td>\n",
       "      <td>1</td>\n",
       "      <td>ckd</td>\n",
       "    </tr>\n",
       "    <tr>\n",
       "      <th>14</th>\n",
       "      <td>68</td>\n",
       "      <td>80</td>\n",
       "      <td>1.01</td>\n",
       "      <td>3</td>\n",
       "      <td>2</td>\n",
       "      <td>0</td>\n",
       "      <td>1</td>\n",
       "      <td>0</td>\n",
       "      <td>0</td>\n",
       "      <td>157</td>\n",
       "      <td>...</td>\n",
       "      <td>16</td>\n",
       "      <td>11000</td>\n",
       "      <td>2.6</td>\n",
       "      <td>0</td>\n",
       "      <td>0</td>\n",
       "      <td>0</td>\n",
       "      <td>0</td>\n",
       "      <td>0</td>\n",
       "      <td>1</td>\n",
       "      <td>ckd</td>\n",
       "    </tr>\n",
       "    <tr>\n",
       "      <th>15</th>\n",
       "      <td>40</td>\n",
       "      <td>80</td>\n",
       "      <td>1.015</td>\n",
       "      <td>3</td>\n",
       "      <td>0</td>\n",
       "      <td>0</td>\n",
       "      <td>0</td>\n",
       "      <td>1</td>\n",
       "      <td>1</td>\n",
       "      <td>76</td>\n",
       "      <td>...</td>\n",
       "      <td>24</td>\n",
       "      <td>3800</td>\n",
       "      <td>2.8</td>\n",
       "      <td>0</td>\n",
       "      <td>1</td>\n",
       "      <td>1</td>\n",
       "      <td>1</td>\n",
       "      <td>1</td>\n",
       "      <td>0</td>\n",
       "      <td>ckd</td>\n",
       "    </tr>\n",
       "    <tr>\n",
       "      <th>16</th>\n",
       "      <td>47</td>\n",
       "      <td>70</td>\n",
       "      <td>1.015</td>\n",
       "      <td>2</td>\n",
       "      <td>0</td>\n",
       "      <td>0</td>\n",
       "      <td>0</td>\n",
       "      <td>1</td>\n",
       "      <td>1</td>\n",
       "      <td>99</td>\n",
       "      <td>...</td>\n",
       "      <td>0</td>\n",
       "      <td>0</td>\n",
       "      <td>0.0</td>\n",
       "      <td>1</td>\n",
       "      <td>1</td>\n",
       "      <td>1</td>\n",
       "      <td>1</td>\n",
       "      <td>1</td>\n",
       "      <td>1</td>\n",
       "      <td>ckd</td>\n",
       "    </tr>\n",
       "    <tr>\n",
       "      <th>17</th>\n",
       "      <td>47</td>\n",
       "      <td>80</td>\n",
       "      <td>?</td>\n",
       "      <td>?</td>\n",
       "      <td>?</td>\n",
       "      <td>0</td>\n",
       "      <td>0</td>\n",
       "      <td>1</td>\n",
       "      <td>1</td>\n",
       "      <td>114</td>\n",
       "      <td>...</td>\n",
       "      <td>0</td>\n",
       "      <td>0</td>\n",
       "      <td>0.0</td>\n",
       "      <td>0</td>\n",
       "      <td>1</td>\n",
       "      <td>1</td>\n",
       "      <td>0</td>\n",
       "      <td>1</td>\n",
       "      <td>1</td>\n",
       "      <td>ckd</td>\n",
       "    </tr>\n",
       "    <tr>\n",
       "      <th>18</th>\n",
       "      <td>60</td>\n",
       "      <td>100</td>\n",
       "      <td>1.025</td>\n",
       "      <td>0</td>\n",
       "      <td>3</td>\n",
       "      <td>0</td>\n",
       "      <td>0</td>\n",
       "      <td>1</td>\n",
       "      <td>1</td>\n",
       "      <td>263</td>\n",
       "      <td>...</td>\n",
       "      <td>37</td>\n",
       "      <td>11400</td>\n",
       "      <td>4.3</td>\n",
       "      <td>0</td>\n",
       "      <td>0</td>\n",
       "      <td>0</td>\n",
       "      <td>1</td>\n",
       "      <td>1</td>\n",
       "      <td>1</td>\n",
       "      <td>ckd</td>\n",
       "    </tr>\n",
       "    <tr>\n",
       "      <th>19</th>\n",
       "      <td>62</td>\n",
       "      <td>60</td>\n",
       "      <td>1.015</td>\n",
       "      <td>1</td>\n",
       "      <td>0</td>\n",
       "      <td>0</td>\n",
       "      <td>1</td>\n",
       "      <td>0</td>\n",
       "      <td>1</td>\n",
       "      <td>100</td>\n",
       "      <td>...</td>\n",
       "      <td>30</td>\n",
       "      <td>5300</td>\n",
       "      <td>3.7</td>\n",
       "      <td>0</td>\n",
       "      <td>1</td>\n",
       "      <td>0</td>\n",
       "      <td>1</td>\n",
       "      <td>1</td>\n",
       "      <td>1</td>\n",
       "      <td>ckd</td>\n",
       "    </tr>\n",
       "    <tr>\n",
       "      <th>20</th>\n",
       "      <td>61</td>\n",
       "      <td>80</td>\n",
       "      <td>1.015</td>\n",
       "      <td>2</td>\n",
       "      <td>0</td>\n",
       "      <td>1</td>\n",
       "      <td>1</td>\n",
       "      <td>1</td>\n",
       "      <td>1</td>\n",
       "      <td>173</td>\n",
       "      <td>...</td>\n",
       "      <td>24</td>\n",
       "      <td>9200</td>\n",
       "      <td>3.2</td>\n",
       "      <td>0</td>\n",
       "      <td>0</td>\n",
       "      <td>0</td>\n",
       "      <td>0</td>\n",
       "      <td>0</td>\n",
       "      <td>0</td>\n",
       "      <td>ckd</td>\n",
       "    </tr>\n",
       "    <tr>\n",
       "      <th>21</th>\n",
       "      <td>60</td>\n",
       "      <td>90</td>\n",
       "      <td>?</td>\n",
       "      <td>?</td>\n",
       "      <td>?</td>\n",
       "      <td>0</td>\n",
       "      <td>0</td>\n",
       "      <td>1</td>\n",
       "      <td>1</td>\n",
       "      <td>?</td>\n",
       "      <td>...</td>\n",
       "      <td>32</td>\n",
       "      <td>6200</td>\n",
       "      <td>3.6</td>\n",
       "      <td>0</td>\n",
       "      <td>0</td>\n",
       "      <td>0</td>\n",
       "      <td>1</td>\n",
       "      <td>1</td>\n",
       "      <td>1</td>\n",
       "      <td>ckd</td>\n",
       "    </tr>\n",
       "    <tr>\n",
       "      <th>22</th>\n",
       "      <td>48</td>\n",
       "      <td>80</td>\n",
       "      <td>1.025</td>\n",
       "      <td>4</td>\n",
       "      <td>0</td>\n",
       "      <td>0</td>\n",
       "      <td>1</td>\n",
       "      <td>1</td>\n",
       "      <td>1</td>\n",
       "      <td>95</td>\n",
       "      <td>...</td>\n",
       "      <td>32</td>\n",
       "      <td>6900</td>\n",
       "      <td>3.4</td>\n",
       "      <td>0</td>\n",
       "      <td>1</td>\n",
       "      <td>1</td>\n",
       "      <td>1</td>\n",
       "      <td>1</td>\n",
       "      <td>0</td>\n",
       "      <td>ckd</td>\n",
       "    </tr>\n",
       "    <tr>\n",
       "      <th>23</th>\n",
       "      <td>21</td>\n",
       "      <td>70</td>\n",
       "      <td>1.01</td>\n",
       "      <td>0</td>\n",
       "      <td>0</td>\n",
       "      <td>0</td>\n",
       "      <td>0</td>\n",
       "      <td>1</td>\n",
       "      <td>1</td>\n",
       "      <td>?</td>\n",
       "      <td>...</td>\n",
       "      <td>0</td>\n",
       "      <td>0</td>\n",
       "      <td>0.0</td>\n",
       "      <td>1</td>\n",
       "      <td>1</td>\n",
       "      <td>1</td>\n",
       "      <td>0</td>\n",
       "      <td>1</td>\n",
       "      <td>0</td>\n",
       "      <td>ckd</td>\n",
       "    </tr>\n",
       "    <tr>\n",
       "      <th>24</th>\n",
       "      <td>42</td>\n",
       "      <td>100</td>\n",
       "      <td>1.015</td>\n",
       "      <td>4</td>\n",
       "      <td>0</td>\n",
       "      <td>0</td>\n",
       "      <td>1</td>\n",
       "      <td>1</td>\n",
       "      <td>0</td>\n",
       "      <td>?</td>\n",
       "      <td>...</td>\n",
       "      <td>39</td>\n",
       "      <td>8300</td>\n",
       "      <td>4.6</td>\n",
       "      <td>0</td>\n",
       "      <td>1</td>\n",
       "      <td>1</td>\n",
       "      <td>0</td>\n",
       "      <td>1</td>\n",
       "      <td>1</td>\n",
       "      <td>ckd</td>\n",
       "    </tr>\n",
       "    <tr>\n",
       "      <th>25</th>\n",
       "      <td>61</td>\n",
       "      <td>60</td>\n",
       "      <td>1.025</td>\n",
       "      <td>0</td>\n",
       "      <td>0</td>\n",
       "      <td>0</td>\n",
       "      <td>0</td>\n",
       "      <td>1</td>\n",
       "      <td>1</td>\n",
       "      <td>108</td>\n",
       "      <td>...</td>\n",
       "      <td>29</td>\n",
       "      <td>8400</td>\n",
       "      <td>3.7</td>\n",
       "      <td>0</td>\n",
       "      <td>0</td>\n",
       "      <td>1</td>\n",
       "      <td>1</td>\n",
       "      <td>1</td>\n",
       "      <td>0</td>\n",
       "      <td>ckd</td>\n",
       "    </tr>\n",
       "    <tr>\n",
       "      <th>26</th>\n",
       "      <td>75</td>\n",
       "      <td>80</td>\n",
       "      <td>1.015</td>\n",
       "      <td>0</td>\n",
       "      <td>0</td>\n",
       "      <td>0</td>\n",
       "      <td>0</td>\n",
       "      <td>1</td>\n",
       "      <td>1</td>\n",
       "      <td>156</td>\n",
       "      <td>...</td>\n",
       "      <td>35</td>\n",
       "      <td>10300</td>\n",
       "      <td>4.0</td>\n",
       "      <td>0</td>\n",
       "      <td>0</td>\n",
       "      <td>1</td>\n",
       "      <td>0</td>\n",
       "      <td>1</td>\n",
       "      <td>1</td>\n",
       "      <td>ckd</td>\n",
       "    </tr>\n",
       "    <tr>\n",
       "      <th>27</th>\n",
       "      <td>69</td>\n",
       "      <td>70</td>\n",
       "      <td>1.01</td>\n",
       "      <td>3</td>\n",
       "      <td>4</td>\n",
       "      <td>0</td>\n",
       "      <td>1</td>\n",
       "      <td>1</td>\n",
       "      <td>1</td>\n",
       "      <td>264</td>\n",
       "      <td>...</td>\n",
       "      <td>37</td>\n",
       "      <td>9600</td>\n",
       "      <td>4.1</td>\n",
       "      <td>0</td>\n",
       "      <td>0</td>\n",
       "      <td>0</td>\n",
       "      <td>1</td>\n",
       "      <td>0</td>\n",
       "      <td>1</td>\n",
       "      <td>ckd</td>\n",
       "    </tr>\n",
       "    <tr>\n",
       "      <th>28</th>\n",
       "      <td>75</td>\n",
       "      <td>70</td>\n",
       "      <td>?</td>\n",
       "      <td>1</td>\n",
       "      <td>3</td>\n",
       "      <td>0</td>\n",
       "      <td>0</td>\n",
       "      <td>1</td>\n",
       "      <td>1</td>\n",
       "      <td>123</td>\n",
       "      <td>...</td>\n",
       "      <td>0</td>\n",
       "      <td>0</td>\n",
       "      <td>0.0</td>\n",
       "      <td>1</td>\n",
       "      <td>0</td>\n",
       "      <td>1</td>\n",
       "      <td>1</td>\n",
       "      <td>1</td>\n",
       "      <td>1</td>\n",
       "      <td>ckd</td>\n",
       "    </tr>\n",
       "    <tr>\n",
       "      <th>29</th>\n",
       "      <td>68</td>\n",
       "      <td>70</td>\n",
       "      <td>1.005</td>\n",
       "      <td>1</td>\n",
       "      <td>0</td>\n",
       "      <td>1</td>\n",
       "      <td>1</td>\n",
       "      <td>0</td>\n",
       "      <td>1</td>\n",
       "      <td>?</td>\n",
       "      <td>...</td>\n",
       "      <td>38</td>\n",
       "      <td>0</td>\n",
       "      <td>0.0</td>\n",
       "      <td>1</td>\n",
       "      <td>1</td>\n",
       "      <td>0</td>\n",
       "      <td>1</td>\n",
       "      <td>1</td>\n",
       "      <td>1</td>\n",
       "      <td>ckd</td>\n",
       "    </tr>\n",
       "    <tr>\n",
       "      <th>30</th>\n",
       "      <td>?</td>\n",
       "      <td>70</td>\n",
       "      <td>?</td>\n",
       "      <td>?</td>\n",
       "      <td>?</td>\n",
       "      <td>0</td>\n",
       "      <td>0</td>\n",
       "      <td>1</td>\n",
       "      <td>1</td>\n",
       "      <td>93</td>\n",
       "      <td>...</td>\n",
       "      <td>0</td>\n",
       "      <td>0</td>\n",
       "      <td>0.0</td>\n",
       "      <td>0</td>\n",
       "      <td>0</td>\n",
       "      <td>1</td>\n",
       "      <td>1</td>\n",
       "      <td>1</td>\n",
       "      <td>1</td>\n",
       "      <td>ckd</td>\n",
       "    </tr>\n",
       "    <tr>\n",
       "      <th>31</th>\n",
       "      <td>73</td>\n",
       "      <td>90</td>\n",
       "      <td>1.015</td>\n",
       "      <td>3</td>\n",
       "      <td>0</td>\n",
       "      <td>0</td>\n",
       "      <td>1</td>\n",
       "      <td>0</td>\n",
       "      <td>1</td>\n",
       "      <td>107</td>\n",
       "      <td>...</td>\n",
       "      <td>30</td>\n",
       "      <td>7800</td>\n",
       "      <td>4.0</td>\n",
       "      <td>1</td>\n",
       "      <td>1</td>\n",
       "      <td>1</td>\n",
       "      <td>0</td>\n",
       "      <td>1</td>\n",
       "      <td>1</td>\n",
       "      <td>ckd</td>\n",
       "    </tr>\n",
       "    <tr>\n",
       "      <th>32</th>\n",
       "      <td>61</td>\n",
       "      <td>90</td>\n",
       "      <td>1.01</td>\n",
       "      <td>1</td>\n",
       "      <td>1</td>\n",
       "      <td>0</td>\n",
       "      <td>0</td>\n",
       "      <td>1</td>\n",
       "      <td>1</td>\n",
       "      <td>159</td>\n",
       "      <td>...</td>\n",
       "      <td>34</td>\n",
       "      <td>9600</td>\n",
       "      <td>4.0</td>\n",
       "      <td>0</td>\n",
       "      <td>0</td>\n",
       "      <td>1</td>\n",
       "      <td>0</td>\n",
       "      <td>1</td>\n",
       "      <td>1</td>\n",
       "      <td>ckd</td>\n",
       "    </tr>\n",
       "    <tr>\n",
       "      <th>33</th>\n",
       "      <td>60</td>\n",
       "      <td>100</td>\n",
       "      <td>1.02</td>\n",
       "      <td>2</td>\n",
       "      <td>0</td>\n",
       "      <td>1</td>\n",
       "      <td>1</td>\n",
       "      <td>1</td>\n",
       "      <td>1</td>\n",
       "      <td>140</td>\n",
       "      <td>...</td>\n",
       "      <td>29</td>\n",
       "      <td>0</td>\n",
       "      <td>0.0</td>\n",
       "      <td>0</td>\n",
       "      <td>1</td>\n",
       "      <td>1</td>\n",
       "      <td>0</td>\n",
       "      <td>1</td>\n",
       "      <td>1</td>\n",
       "      <td>ckd</td>\n",
       "    </tr>\n",
       "    <tr>\n",
       "      <th>34</th>\n",
       "      <td>70</td>\n",
       "      <td>70</td>\n",
       "      <td>1.01</td>\n",
       "      <td>1</td>\n",
       "      <td>0</td>\n",
       "      <td>0</td>\n",
       "      <td>0</td>\n",
       "      <td>0</td>\n",
       "      <td>0</td>\n",
       "      <td>171</td>\n",
       "      <td>...</td>\n",
       "      <td>0</td>\n",
       "      <td>0</td>\n",
       "      <td>0.0</td>\n",
       "      <td>1</td>\n",
       "      <td>0</td>\n",
       "      <td>1</td>\n",
       "      <td>0</td>\n",
       "      <td>1</td>\n",
       "      <td>1</td>\n",
       "      <td>ckd</td>\n",
       "    </tr>\n",
       "    <tr>\n",
       "      <th>35</th>\n",
       "      <td>65</td>\n",
       "      <td>90</td>\n",
       "      <td>1.02</td>\n",
       "      <td>2</td>\n",
       "      <td>1</td>\n",
       "      <td>1</td>\n",
       "      <td>0</td>\n",
       "      <td>1</td>\n",
       "      <td>1</td>\n",
       "      <td>270</td>\n",
       "      <td>...</td>\n",
       "      <td>36</td>\n",
       "      <td>9800</td>\n",
       "      <td>4.9</td>\n",
       "      <td>0</td>\n",
       "      <td>0</td>\n",
       "      <td>1</td>\n",
       "      <td>0</td>\n",
       "      <td>1</td>\n",
       "      <td>0</td>\n",
       "      <td>ckd</td>\n",
       "    </tr>\n",
       "    <tr>\n",
       "      <th>36</th>\n",
       "      <td>76</td>\n",
       "      <td>70</td>\n",
       "      <td>1.015</td>\n",
       "      <td>1</td>\n",
       "      <td>0</td>\n",
       "      <td>0</td>\n",
       "      <td>0</td>\n",
       "      <td>1</td>\n",
       "      <td>1</td>\n",
       "      <td>92</td>\n",
       "      <td>...</td>\n",
       "      <td>32</td>\n",
       "      <td>0</td>\n",
       "      <td>0.0</td>\n",
       "      <td>0</td>\n",
       "      <td>1</td>\n",
       "      <td>1</td>\n",
       "      <td>1</td>\n",
       "      <td>1</td>\n",
       "      <td>1</td>\n",
       "      <td>ckd</td>\n",
       "    </tr>\n",
       "    <tr>\n",
       "      <th>37</th>\n",
       "      <td>72</td>\n",
       "      <td>80</td>\n",
       "      <td>?</td>\n",
       "      <td>?</td>\n",
       "      <td>?</td>\n",
       "      <td>0</td>\n",
       "      <td>0</td>\n",
       "      <td>1</td>\n",
       "      <td>1</td>\n",
       "      <td>137</td>\n",
       "      <td>...</td>\n",
       "      <td>28</td>\n",
       "      <td>6900</td>\n",
       "      <td>2.5</td>\n",
       "      <td>0</td>\n",
       "      <td>0</td>\n",
       "      <td>1</td>\n",
       "      <td>0</td>\n",
       "      <td>1</td>\n",
       "      <td>0</td>\n",
       "      <td>ckd</td>\n",
       "    </tr>\n",
       "    <tr>\n",
       "      <th>38</th>\n",
       "      <td>69</td>\n",
       "      <td>80</td>\n",
       "      <td>1.02</td>\n",
       "      <td>3</td>\n",
       "      <td>0</td>\n",
       "      <td>1</td>\n",
       "      <td>0</td>\n",
       "      <td>1</td>\n",
       "      <td>1</td>\n",
       "      <td>?</td>\n",
       "      <td>...</td>\n",
       "      <td>0</td>\n",
       "      <td>0</td>\n",
       "      <td>0.0</td>\n",
       "      <td>0</td>\n",
       "      <td>1</td>\n",
       "      <td>1</td>\n",
       "      <td>1</td>\n",
       "      <td>1</td>\n",
       "      <td>1</td>\n",
       "      <td>ckd</td>\n",
       "    </tr>\n",
       "    <tr>\n",
       "      <th>39</th>\n",
       "      <td>82</td>\n",
       "      <td>80</td>\n",
       "      <td>1.01</td>\n",
       "      <td>2</td>\n",
       "      <td>2</td>\n",
       "      <td>0</td>\n",
       "      <td>0</td>\n",
       "      <td>1</td>\n",
       "      <td>1</td>\n",
       "      <td>140</td>\n",
       "      <td>...</td>\n",
       "      <td>40</td>\n",
       "      <td>9800</td>\n",
       "      <td>4.2</td>\n",
       "      <td>0</td>\n",
       "      <td>0</td>\n",
       "      <td>1</td>\n",
       "      <td>1</td>\n",
       "      <td>1</td>\n",
       "      <td>1</td>\n",
       "      <td>ckd</td>\n",
       "    </tr>\n",
       "    <tr>\n",
       "      <th>40</th>\n",
       "      <td>46</td>\n",
       "      <td>90</td>\n",
       "      <td>1.01</td>\n",
       "      <td>2</td>\n",
       "      <td>0</td>\n",
       "      <td>0</td>\n",
       "      <td>1</td>\n",
       "      <td>1</td>\n",
       "      <td>1</td>\n",
       "      <td>99</td>\n",
       "      <td>...</td>\n",
       "      <td>32</td>\n",
       "      <td>9100</td>\n",
       "      <td>4.1</td>\n",
       "      <td>0</td>\n",
       "      <td>1</td>\n",
       "      <td>0</td>\n",
       "      <td>1</td>\n",
       "      <td>1</td>\n",
       "      <td>1</td>\n",
       "      <td>ckd</td>\n",
       "    </tr>\n",
       "    <tr>\n",
       "      <th>41</th>\n",
       "      <td>45</td>\n",
       "      <td>70</td>\n",
       "      <td>1.01</td>\n",
       "      <td>0</td>\n",
       "      <td>0</td>\n",
       "      <td>0</td>\n",
       "      <td>0</td>\n",
       "      <td>1</td>\n",
       "      <td>1</td>\n",
       "      <td>?</td>\n",
       "      <td>...</td>\n",
       "      <td>0</td>\n",
       "      <td>0</td>\n",
       "      <td>0.0</td>\n",
       "      <td>1</td>\n",
       "      <td>1</td>\n",
       "      <td>1</td>\n",
       "      <td>1</td>\n",
       "      <td>0</td>\n",
       "      <td>1</td>\n",
       "      <td>ckd</td>\n",
       "    </tr>\n",
       "    <tr>\n",
       "      <th>42</th>\n",
       "      <td>47</td>\n",
       "      <td>100</td>\n",
       "      <td>1.01</td>\n",
       "      <td>0</td>\n",
       "      <td>0</td>\n",
       "      <td>0</td>\n",
       "      <td>0</td>\n",
       "      <td>1</td>\n",
       "      <td>1</td>\n",
       "      <td>204</td>\n",
       "      <td>...</td>\n",
       "      <td>33</td>\n",
       "      <td>9200</td>\n",
       "      <td>4.5</td>\n",
       "      <td>0</td>\n",
       "      <td>1</td>\n",
       "      <td>1</td>\n",
       "      <td>1</td>\n",
       "      <td>1</td>\n",
       "      <td>0</td>\n",
       "      <td>ckd</td>\n",
       "    </tr>\n",
       "    <tr>\n",
       "      <th>43</th>\n",
       "      <td>35</td>\n",
       "      <td>80</td>\n",
       "      <td>1.01</td>\n",
       "      <td>1</td>\n",
       "      <td>0</td>\n",
       "      <td>1</td>\n",
       "      <td>0</td>\n",
       "      <td>1</td>\n",
       "      <td>1</td>\n",
       "      <td>79</td>\n",
       "      <td>...</td>\n",
       "      <td>24</td>\n",
       "      <td>7900</td>\n",
       "      <td>3.1</td>\n",
       "      <td>1</td>\n",
       "      <td>0</td>\n",
       "      <td>1</td>\n",
       "      <td>1</td>\n",
       "      <td>1</td>\n",
       "      <td>1</td>\n",
       "      <td>ckd</td>\n",
       "    </tr>\n",
       "    <tr>\n",
       "      <th>44</th>\n",
       "      <td>54</td>\n",
       "      <td>80</td>\n",
       "      <td>1.01</td>\n",
       "      <td>3</td>\n",
       "      <td>0</td>\n",
       "      <td>1</td>\n",
       "      <td>1</td>\n",
       "      <td>1</td>\n",
       "      <td>1</td>\n",
       "      <td>207</td>\n",
       "      <td>...</td>\n",
       "      <td>28</td>\n",
       "      <td>0</td>\n",
       "      <td>0.0</td>\n",
       "      <td>0</td>\n",
       "      <td>0</td>\n",
       "      <td>1</td>\n",
       "      <td>0</td>\n",
       "      <td>0</td>\n",
       "      <td>1</td>\n",
       "      <td>ckd</td>\n",
       "    </tr>\n",
       "    <tr>\n",
       "      <th>45</th>\n",
       "      <td>54</td>\n",
       "      <td>80</td>\n",
       "      <td>1.02</td>\n",
       "      <td>3</td>\n",
       "      <td>0</td>\n",
       "      <td>0</td>\n",
       "      <td>1</td>\n",
       "      <td>1</td>\n",
       "      <td>1</td>\n",
       "      <td>208</td>\n",
       "      <td>...</td>\n",
       "      <td>0</td>\n",
       "      <td>0</td>\n",
       "      <td>0.0</td>\n",
       "      <td>0</td>\n",
       "      <td>0</td>\n",
       "      <td>1</td>\n",
       "      <td>0</td>\n",
       "      <td>0</td>\n",
       "      <td>1</td>\n",
       "      <td>ckd</td>\n",
       "    </tr>\n",
       "    <tr>\n",
       "      <th>46</th>\n",
       "      <td>48</td>\n",
       "      <td>70</td>\n",
       "      <td>1.015</td>\n",
       "      <td>0</td>\n",
       "      <td>0</td>\n",
       "      <td>0</td>\n",
       "      <td>0</td>\n",
       "      <td>1</td>\n",
       "      <td>1</td>\n",
       "      <td>124</td>\n",
       "      <td>...</td>\n",
       "      <td>37</td>\n",
       "      <td>6400</td>\n",
       "      <td>4.7</td>\n",
       "      <td>1</td>\n",
       "      <td>0</td>\n",
       "      <td>1</td>\n",
       "      <td>1</td>\n",
       "      <td>1</td>\n",
       "      <td>1</td>\n",
       "      <td>ckd</td>\n",
       "    </tr>\n",
       "    <tr>\n",
       "      <th>47</th>\n",
       "      <td>11</td>\n",
       "      <td>80</td>\n",
       "      <td>1.01</td>\n",
       "      <td>3</td>\n",
       "      <td>0</td>\n",
       "      <td>0</td>\n",
       "      <td>0</td>\n",
       "      <td>1</td>\n",
       "      <td>1</td>\n",
       "      <td>?</td>\n",
       "      <td>...</td>\n",
       "      <td>45</td>\n",
       "      <td>8600</td>\n",
       "      <td>0.0</td>\n",
       "      <td>1</td>\n",
       "      <td>1</td>\n",
       "      <td>1</td>\n",
       "      <td>1</td>\n",
       "      <td>1</td>\n",
       "      <td>1</td>\n",
       "      <td>ckd</td>\n",
       "    </tr>\n",
       "    <tr>\n",
       "      <th>48</th>\n",
       "      <td>73</td>\n",
       "      <td>70</td>\n",
       "      <td>1.005</td>\n",
       "      <td>0</td>\n",
       "      <td>0</td>\n",
       "      <td>0</td>\n",
       "      <td>0</td>\n",
       "      <td>1</td>\n",
       "      <td>1</td>\n",
       "      <td>70</td>\n",
       "      <td>...</td>\n",
       "      <td>29</td>\n",
       "      <td>18900</td>\n",
       "      <td>3.5</td>\n",
       "      <td>0</td>\n",
       "      <td>0</td>\n",
       "      <td>1</td>\n",
       "      <td>1</td>\n",
       "      <td>0</td>\n",
       "      <td>1</td>\n",
       "      <td>ckd</td>\n",
       "    </tr>\n",
       "    <tr>\n",
       "      <th>49</th>\n",
       "      <td>60</td>\n",
       "      <td>70</td>\n",
       "      <td>1.01</td>\n",
       "      <td>2</td>\n",
       "      <td>0</td>\n",
       "      <td>0</td>\n",
       "      <td>1</td>\n",
       "      <td>0</td>\n",
       "      <td>1</td>\n",
       "      <td>144</td>\n",
       "      <td>...</td>\n",
       "      <td>29</td>\n",
       "      <td>21600</td>\n",
       "      <td>3.5</td>\n",
       "      <td>0</td>\n",
       "      <td>0</td>\n",
       "      <td>1</td>\n",
       "      <td>0</td>\n",
       "      <td>1</td>\n",
       "      <td>0</td>\n",
       "      <td>ckd</td>\n",
       "    </tr>\n",
       "  </tbody>\n",
       "</table>\n",
       "<p>50 rows × 25 columns</p>\n",
       "</div>"
      ],
      "text/plain": [
       "   age   bp     sg al su  rbc  pc  pcc  ba  bgr  ...   pcv   wbcc rbcc htn dm  \\\n",
       "0   48   80   1.02  1  0    0   0    1   1  121  ...    44   7800  5.2   0  0   \n",
       "1    7   50   1.02  4  0    0   0    1   1    ?  ...    38   6000  0.0   1  1   \n",
       "2   62   80   1.01  2  3    0   0    1   1  423  ...    31   7500  0.0   1  0   \n",
       "3   48   70  1.005  4  0    0   1    0   1  117  ...    32   6700  3.9   0  1   \n",
       "4   51   80   1.01  2  0    0   0    1   1  106  ...    35   7300  4.6   1  1   \n",
       "5   60   90  1.015  3  0    0   0    1   1   74  ...    39   7800  4.4   0  0   \n",
       "6   68   70   1.01  0  0    0   0    1   1  100  ...    36      0  0.0   1  1   \n",
       "7   24    ?  1.015  2  4    0   1    1   1  410  ...    44   6900  5.0   1  0   \n",
       "8   52  100  1.015  3  0    0   1    0   1  138  ...    33   9600  4.0   0  0   \n",
       "9   53   90   1.02  2  0    1   1    0   1   70  ...    29  12100  3.7   0  0   \n",
       "10  50   60   1.01  2  4    0   1    0   1  490  ...    28      0  0.0   0  0   \n",
       "11  63   70   1.01  3  0    1   1    0   1  380  ...    32   4500  3.8   0  0   \n",
       "12  68   70  1.015  3  1    0   0    0   1  208  ...    28  12200  3.4   0  0   \n",
       "13  68   70      ?  ?  ?    0   0    1   1   98  ...     0      0  0.0   0  0   \n",
       "14  68   80   1.01  3  2    0   1    0   0  157  ...    16  11000  2.6   0  0   \n",
       "15  40   80  1.015  3  0    0   0    1   1   76  ...    24   3800  2.8   0  1   \n",
       "16  47   70  1.015  2  0    0   0    1   1   99  ...     0      0  0.0   1  1   \n",
       "17  47   80      ?  ?  ?    0   0    1   1  114  ...     0      0  0.0   0  1   \n",
       "18  60  100  1.025  0  3    0   0    1   1  263  ...    37  11400  4.3   0  0   \n",
       "19  62   60  1.015  1  0    0   1    0   1  100  ...    30   5300  3.7   0  1   \n",
       "20  61   80  1.015  2  0    1   1    1   1  173  ...    24   9200  3.2   0  0   \n",
       "21  60   90      ?  ?  ?    0   0    1   1    ?  ...    32   6200  3.6   0  0   \n",
       "22  48   80  1.025  4  0    0   1    1   1   95  ...    32   6900  3.4   0  1   \n",
       "23  21   70   1.01  0  0    0   0    1   1    ?  ...     0      0  0.0   1  1   \n",
       "24  42  100  1.015  4  0    0   1    1   0    ?  ...    39   8300  4.6   0  1   \n",
       "25  61   60  1.025  0  0    0   0    1   1  108  ...    29   8400  3.7   0  0   \n",
       "26  75   80  1.015  0  0    0   0    1   1  156  ...    35  10300  4.0   0  0   \n",
       "27  69   70   1.01  3  4    0   1    1   1  264  ...    37   9600  4.1   0  0   \n",
       "28  75   70      ?  1  3    0   0    1   1  123  ...     0      0  0.0   1  0   \n",
       "29  68   70  1.005  1  0    1   1    0   1    ?  ...    38      0  0.0   1  1   \n",
       "30   ?   70      ?  ?  ?    0   0    1   1   93  ...     0      0  0.0   0  0   \n",
       "31  73   90  1.015  3  0    0   1    0   1  107  ...    30   7800  4.0   1  1   \n",
       "32  61   90   1.01  1  1    0   0    1   1  159  ...    34   9600  4.0   0  0   \n",
       "33  60  100   1.02  2  0    1   1    1   1  140  ...    29      0  0.0   0  1   \n",
       "34  70   70   1.01  1  0    0   0    0   0  171  ...     0      0  0.0   1  0   \n",
       "35  65   90   1.02  2  1    1   0    1   1  270  ...    36   9800  4.9   0  0   \n",
       "36  76   70  1.015  1  0    0   0    1   1   92  ...    32      0  0.0   0  1   \n",
       "37  72   80      ?  ?  ?    0   0    1   1  137  ...    28   6900  2.5   0  0   \n",
       "38  69   80   1.02  3  0    1   0    1   1    ?  ...     0      0  0.0   0  1   \n",
       "39  82   80   1.01  2  2    0   0    1   1  140  ...    40   9800  4.2   0  0   \n",
       "40  46   90   1.01  2  0    0   1    1   1   99  ...    32   9100  4.1   0  1   \n",
       "41  45   70   1.01  0  0    0   0    1   1    ?  ...     0      0  0.0   1  1   \n",
       "42  47  100   1.01  0  0    0   0    1   1  204  ...    33   9200  4.5   0  1   \n",
       "43  35   80   1.01  1  0    1   0    1   1   79  ...    24   7900  3.1   1  0   \n",
       "44  54   80   1.01  3  0    1   1    1   1  207  ...    28      0  0.0   0  0   \n",
       "45  54   80   1.02  3  0    0   1    1   1  208  ...     0      0  0.0   0  0   \n",
       "46  48   70  1.015  0  0    0   0    1   1  124  ...    37   6400  4.7   1  0   \n",
       "47  11   80   1.01  3  0    0   0    1   1    ?  ...    45   8600  0.0   1  1   \n",
       "48  73   70  1.005  0  0    0   0    1   1   70  ...    29  18900  3.5   0  0   \n",
       "49  60   70   1.01  2  0    0   1    0   1  144  ...    29  21600  3.5   0  0   \n",
       "\n",
       "    cad  appet  pe  ane  class  \n",
       "0     1      1   1    1    ckd  \n",
       "1     1      1   1    1    ckd  \n",
       "2     1      0   1    0    ckd  \n",
       "3     1      0   0    0    ckd  \n",
       "4     1      1   1    1    ckd  \n",
       "5     1      1   0    1    ckd  \n",
       "6     1      1   1    1    ckd  \n",
       "7     1      1   0    1    ckd  \n",
       "8     1      1   1    0    ckd  \n",
       "9     1      0   1    0    ckd  \n",
       "10    1      1   1    0    ckd  \n",
       "11    1      0   0    1    ckd  \n",
       "12    0      0   0    1    ckd  \n",
       "13    0      0   0    1    ckd  \n",
       "14    0      0   0    1    ckd  \n",
       "15    1      1   1    0    ckd  \n",
       "16    1      1   1    1    ckd  \n",
       "17    1      0   1    1    ckd  \n",
       "18    0      1   1    1    ckd  \n",
       "19    0      1   1    1    ckd  \n",
       "20    0      0   0    0    ckd  \n",
       "21    0      1   1    1    ckd  \n",
       "22    1      1   1    0    ckd  \n",
       "23    1      0   1    0    ckd  \n",
       "24    1      0   1    1    ckd  \n",
       "25    1      1   1    0    ckd  \n",
       "26    1      0   1    1    ckd  \n",
       "27    0      1   0    1    ckd  \n",
       "28    1      1   1    1    ckd  \n",
       "29    0      1   1    1    ckd  \n",
       "30    1      1   1    1    ckd  \n",
       "31    1      0   1    1    ckd  \n",
       "32    1      0   1    1    ckd  \n",
       "33    1      0   1    1    ckd  \n",
       "34    1      0   1    1    ckd  \n",
       "35    1      0   1    0    ckd  \n",
       "36    1      1   1    1    ckd  \n",
       "37    1      0   1    0    ckd  \n",
       "38    1      1   1    1    ckd  \n",
       "39    1      1   1    1    ckd  \n",
       "40    0      1   1    1    ckd  \n",
       "41    1      1   0    1    ckd  \n",
       "42    1      1   1    0    ckd  \n",
       "43    1      1   1    1    ckd  \n",
       "44    1      0   0    1    ckd  \n",
       "45    1      0   0    1    ckd  \n",
       "46    1      1   1    1    ckd  \n",
       "47    1      1   1    1    ckd  \n",
       "48    1      1   0    1    ckd  \n",
       "49    1      0   1    0    ckd  \n",
       "\n",
       "[50 rows x 25 columns]"
      ]
     },
     "execution_count": 2,
     "metadata": {},
     "output_type": "execute_result"
    }
   ],
   "source": [
    "#Getting an overiew of the data\n",
    "data.head(50)"
   ]
  },
  {
   "cell_type": "code",
   "execution_count": 3,
   "metadata": {},
   "outputs": [
    {
     "data": {
      "text/plain": [
       "age      0\n",
       "bp       0\n",
       "sg       0\n",
       "al       0\n",
       "su       0\n",
       "rbc      0\n",
       "pc       0\n",
       "pcc      0\n",
       "ba       0\n",
       "bgr      0\n",
       "bu       0\n",
       "sc       0\n",
       "sod      0\n",
       "pot      0\n",
       "hemo     0\n",
       "pcv      0\n",
       "wbcc     0\n",
       "rbcc     0\n",
       "htn      0\n",
       "dm       0\n",
       "cad      0\n",
       "appet    0\n",
       "pe       0\n",
       "ane      0\n",
       "class    0\n",
       "dtype: int64"
      ]
     },
     "execution_count": 3,
     "metadata": {},
     "output_type": "execute_result"
    }
   ],
   "source": [
    "#We can see there are a lot of missing values with '?' sign\n",
    "#First checking if there are any null values\n",
    "data.isna().sum()"
   ]
  },
  {
   "cell_type": "code",
   "execution_count": 4,
   "metadata": {},
   "outputs": [
    {
     "data": {
      "text/plain": [
       "age      0\n",
       "bp       0\n",
       "sg       0\n",
       "al       0\n",
       "su       0\n",
       "rbc      0\n",
       "pc       0\n",
       "pcc      0\n",
       "ba       0\n",
       "bgr      0\n",
       "bu       0\n",
       "sc       0\n",
       "sod      0\n",
       "pot      0\n",
       "hemo     0\n",
       "pcv      0\n",
       "wbcc     0\n",
       "rbcc     0\n",
       "htn      0\n",
       "dm       0\n",
       "cad      0\n",
       "appet    0\n",
       "pe       0\n",
       "ane      0\n",
       "class    0\n",
       "dtype: int64"
      ]
     },
     "execution_count": 4,
     "metadata": {},
     "output_type": "execute_result"
    }
   ],
   "source": [
    "data.isna().sum()"
   ]
  },
  {
   "cell_type": "code",
   "execution_count": 81,
   "metadata": {
    "scrolled": true
   },
   "outputs": [
    {
     "data": {
      "text/plain": [
       "age      9\n",
       "bp      12\n",
       "sg      47\n",
       "al      46\n",
       "su      49\n",
       "bgr     44\n",
       "bu      19\n",
       "sc      17\n",
       "sod     87\n",
       "pot     88\n",
       "hemo    52\n",
       "dtype: int64"
      ]
     },
     "execution_count": 81,
     "metadata": {},
     "output_type": "execute_result"
    }
   ],
   "source": [
    "#We can see there are no NA values in the dataset\n",
    "#Now we will check how many columns have missig values with '?' signs, for that we first covert missing values with NAN \n",
    "#and then count them\n",
    "data.replace({\"?\":np.nan},inplace=True)\n",
    "null_columns=data.columns[data.isnull().any()]\n",
    "data[null_columns].isnull().sum()\n",
    "#Below are the columns with sum of missing values"
   ]
  },
  {
   "cell_type": "code",
   "execution_count": 4,
   "metadata": {},
   "outputs": [],
   "source": [
    "#Checking index of missing values\n",
    "col_1=data[data['age'].isnull()].index.tolist()\n",
    "col_2=data[data['bp'].isnull()].index.tolist()\n",
    "col_3=data[data['sg'].isnull()].index.tolist()\n",
    "col_4=data[data['al'].isnull()].index.tolist()\n",
    "col_5=data[data['su'].isnull()].index.tolist()\n",
    "col_6=data[data['bgr'].isnull()].index.tolist()\n",
    "col_7=data[data['bu'].isnull()].index.tolist()\n",
    "col_8=data[data['sc'].isnull()].index.tolist()\n",
    "col_9=data[data['sod'].isnull()].index.tolist()\n",
    "col_10=data[data['pot'].isnull()].index.tolist()\n",
    "col_11=data[data['hemo'].isnull()].index.tolist()"
   ]
  },
  {
   "cell_type": "raw",
   "metadata": {},
   "source": [
    "Although we have a lot of missing values in 11 Columns in total but column 'sod' and 'pot' have 87 & 88 missing values which is almost 22% of the total data. If we replace those missing values with either mean values or previous/forward values, data will\n",
    "be biased and won't positively contribute.So, I'm removing both of these columns from the dataset for model building.\n"
   ]
  },
  {
   "cell_type": "code",
   "execution_count": 82,
   "metadata": {},
   "outputs": [],
   "source": [
    "data.drop('sod',inplace=True,axis=1)\n",
    "data.drop('pot',inplace=True,axis=1)"
   ]
  },
  {
   "cell_type": "code",
   "execution_count": 83,
   "metadata": {},
   "outputs": [],
   "source": [
    "#Filling missing value with a value before missing value\n",
    "data[\"age\"].fillna(method=\"bfill\",inplace=True)\n",
    "data[\"bp\"].fillna(method=\"bfill\",inplace=True)\n",
    "data[\"sg\"].fillna(method=\"bfill\",inplace=True)\n",
    "data[\"al\"].fillna(method=\"bfill\",inplace=True)\n",
    "data[\"su\"].fillna(method=\"bfill\",inplace=True)\n",
    "data[\"bgr\"].fillna(method=\"bfill\",inplace=True)\n",
    "data[\"bu\"].fillna(method=\"bfill\",inplace=True)\n",
    "data[\"sc\"].fillna(method=\"bfill\",inplace=True)\n",
    "#data[\"sod\"].fillna(method=\"bfill\",inplace=True)\n",
    "#data[\"pot\"].fillna(method=\"bfill\",inplace=True)\n",
    "data[\"hemo\"].fillna(method=\"bfill\",inplace=True)\n"
   ]
  },
  {
   "cell_type": "code",
   "execution_count": 84,
   "metadata": {},
   "outputs": [
    {
     "data": {
      "text/plain": [
       "age       object\n",
       "bp        object\n",
       "sg        object\n",
       "al        object\n",
       "su        object\n",
       "rbc        int64\n",
       "pc         int64\n",
       "pcc        int64\n",
       "ba         int64\n",
       "bgr       object\n",
       "bu        object\n",
       "sc        object\n",
       "hemo      object\n",
       "pcv        int64\n",
       "wbcc       int64\n",
       "rbcc     float64\n",
       "htn        int64\n",
       "dm         int64\n",
       "cad        int64\n",
       "appet      int64\n",
       "pe         int64\n",
       "ane        int64\n",
       "class     object\n",
       "dtype: object"
      ]
     },
     "execution_count": 84,
     "metadata": {},
     "output_type": "execute_result"
    }
   ],
   "source": [
    "data.dtypes"
   ]
  },
  {
   "cell_type": "code",
   "execution_count": 85,
   "metadata": {},
   "outputs": [
    {
     "data": {
      "text/plain": [
       "age      float64\n",
       "bp       float64\n",
       "sg       float64\n",
       "al       float64\n",
       "su       float64\n",
       "rbc      float64\n",
       "pc       float64\n",
       "pcc      float64\n",
       "ba       float64\n",
       "bgr      float64\n",
       "bu       float64\n",
       "sc       float64\n",
       "hemo     float64\n",
       "pcv      float64\n",
       "wbcc     float64\n",
       "rbcc     float64\n",
       "htn      float64\n",
       "dm       float64\n",
       "cad      float64\n",
       "appet    float64\n",
       "pe       float64\n",
       "ane      float64\n",
       "class     object\n",
       "dtype: object"
      ]
     },
     "execution_count": 85,
     "metadata": {},
     "output_type": "execute_result"
    }
   ],
   "source": [
    "#We can see that a lot of columns are set as objects which means string, so we need to convert them into appropriate datatype\n",
    "data_1 =pd.DataFrame(data.iloc[:,:-1].astype(float))\n",
    "data_2=pd.DataFrame(data.iloc[:,-1])\n",
    "data=pd.concat([data_1,data_2],axis=1,sort=False)\n",
    "data.dtypes\n"
   ]
  },
  {
   "cell_type": "code",
   "execution_count": 86,
   "metadata": {},
   "outputs": [
    {
     "name": "stdout",
     "output_type": "stream",
     "text": [
      "age        23.00\n",
      "bp         10.00\n",
      "sg          0.01\n",
      "al          2.00\n",
      "su          0.00\n",
      "rbc         0.00\n",
      "pc          0.00\n",
      "pcc         0.00\n",
      "ba          0.00\n",
      "bgr        64.50\n",
      "bu         39.00\n",
      "sc          1.90\n",
      "hemo        4.40\n",
      "pcv        18.00\n",
      "wbcc     9400.00\n",
      "rbcc        5.10\n",
      "htn         1.00\n",
      "dm          1.00\n",
      "cad         0.00\n",
      "appet       0.00\n",
      "pe          0.00\n",
      "ane         0.00\n",
      "dtype: float64\n"
     ]
    }
   ],
   "source": [
    "#checking for outliers\n",
    "#Ploting inter quantile range\n",
    "Q1 = data.quantile(0.25)\n",
    "Q3 = data.quantile(0.75)\n",
    "IQR = Q3 - Q1\n",
    "print(IQR)\n"
   ]
  },
  {
   "cell_type": "code",
   "execution_count": 87,
   "metadata": {},
   "outputs": [
    {
     "data": {
      "text/plain": [
       "age       7\n",
       "bp       39\n",
       "sg        0\n",
       "al        0\n",
       "su       77\n",
       "rbc      47\n",
       "pc       76\n",
       "pcc      46\n",
       "ba       26\n",
       "bgr      36\n",
       "bu       41\n",
       "sc       53\n",
       "hemo      1\n",
       "pcv       0\n",
       "wbcc      1\n",
       "rbcc      0\n",
       "htn       0\n",
       "dm        0\n",
       "cad      38\n",
       "appet    83\n",
       "pe       77\n",
       "ane      61\n",
       "dtype: int64"
      ]
     },
     "execution_count": 87,
     "metadata": {},
     "output_type": "execute_result"
    }
   ],
   "source": [
    "#Counting total number of outliers in each column\n",
    "outlier=pd.DataFrame(data_1< (Q1 - 1.5 * IQR)) |(data_1 > (Q3 + 1.5 * IQR))\n",
    "#rows=outlier.isin([True])\n",
    "#rows\n",
    "cols=outlier.isin([True]).sum(axis=0)\n",
    "cols\n",
    "#sum(rows!=0)\n",
    "#print(data['age']< (Q1.age - 1.5 * IQR.age)) |(data['age'] > (Q3.age + 1.5 * IQR.age))"
   ]
  },
  {
   "cell_type": "code",
   "execution_count": 88,
   "metadata": {},
   "outputs": [
    {
     "data": {
      "text/plain": [
       "array([[<matplotlib.axes._subplots.AxesSubplot object at 0x0000024EEBD6EFD0>]],\n",
       "      dtype=object)"
      ]
     },
     "execution_count": 88,
     "metadata": {},
     "output_type": "execute_result"
    },
    {
     "data": {
      "image/png": "[encoded data removed]",
      "text/plain": [
       "<Figure size 432x288 with 1 Axes>"
      ]
     },
     "metadata": {
      "needs_background": "light"
     },
     "output_type": "display_data"
    }
   ],
   "source": [
    "data.hist(column=[\"bp\"], bins=50) "
   ]
  },
  {
   "cell_type": "code",
   "execution_count": 89,
   "metadata": {},
   "outputs": [
    {
     "data": {
      "text/plain": [
       "array([[<matplotlib.axes._subplots.AxesSubplot object at 0x0000024EEC70FBA8>,\n",
       "        <matplotlib.axes._subplots.AxesSubplot object at 0x0000024EEAAFD080>,\n",
       "        <matplotlib.axes._subplots.AxesSubplot object at 0x0000024EEACE4208>,\n",
       "        <matplotlib.axes._subplots.AxesSubplot object at 0x0000024EEAACFB00>],\n",
       "       [<matplotlib.axes._subplots.AxesSubplot object at 0x0000024EEAB7A0B8>,\n",
       "        <matplotlib.axes._subplots.AxesSubplot object at 0x0000024EEA959630>,\n",
       "        <matplotlib.axes._subplots.AxesSubplot object at 0x0000024EEAB2CBA8>,\n",
       "        <matplotlib.axes._subplots.AxesSubplot object at 0x0000024EEC68E198>],\n",
       "       [<matplotlib.axes._subplots.AxesSubplot object at 0x0000024EEC68E1D0>,\n",
       "        <matplotlib.axes._subplots.AxesSubplot object at 0x0000024EEBEB1C50>,\n",
       "        <matplotlib.axes._subplots.AxesSubplot object at 0x0000024EEC71B208>,\n",
       "        <matplotlib.axes._subplots.AxesSubplot object at 0x0000024EECAC1780>],\n",
       "       [<matplotlib.axes._subplots.AxesSubplot object at 0x0000024EECB2BCF8>,\n",
       "        <matplotlib.axes._subplots.AxesSubplot object at 0x0000024EECB622B0>,\n",
       "        <matplotlib.axes._subplots.AxesSubplot object at 0x0000024EECB84828>,\n",
       "        <matplotlib.axes._subplots.AxesSubplot object at 0x0000024EEC340DA0>]],\n",
       "      dtype=object)"
      ]
     },
     "execution_count": 89,
     "metadata": {},
     "output_type": "execute_result"
    },
    {
     "data": {
      "image/png": "[encoded data removed]",
      "text/plain": [
       "<Figure size 432x288 with 16 Axes>"
      ]
     },
     "metadata": {
      "needs_background": "light"
     },
     "output_type": "display_data"
    }
   ],
   "source": [
    "#fig, axes = plt.subplots(2, 2)\n",
    "#data['age'].hist(bins=70, ax=axes[0])\n",
    "#data['bp'].hist(bins=70, ax=axes[1])\n",
    "#data['su'].hist(bins=70, ax=axes[2])\n",
    "#data['rbc'].hist(bins=70, ax=axes[3])\n",
    "#dflux.hist('rate', bins=100, ax=axes[0])\n",
    "#dflux2.hist('rate', bins=100, ax=axes[1])\n",
    "#hist = data['age'].hist(bins=30,grid=False)\n",
    "data.hist(column=[\"age\", \"bp\",\"su\",\"rbc\",\"pc\",\"pcc\",\"ba\",\"bgr\",\"bu\",\"sc\",\"cad\",\"appet\",\"pe\"], bins=50) "
   ]
  },
  {
   "cell_type": "raw",
   "metadata": {},
   "source": [
    "The best approach for outlier handling is to remove the complete row from the dataset, but in this case there are too many \n",
    "outliers present in the data and if we remove them, dataset will almost reduced to half which will effect final model.\n",
    "we can replace the outliers with mean/mode/median but as the number of outliers is too large, the data will become biased\n",
    "and effect final model. So I will use CHI-SQ method to select top score feature set for model prepration."
   ]
  },
  {
   "cell_type": "code",
   "execution_count": 91,
   "metadata": {},
   "outputs": [],
   "source": [
    "data_best_feature=orginal_data.copy()"
   ]
  },
  {
   "cell_type": "code",
   "execution_count": 92,
   "metadata": {},
   "outputs": [
    {
     "name": "stdout",
     "output_type": "stream",
     "text": [
      "(400, 22)\n",
      "(400,)\n"
     ]
    }
   ],
   "source": [
    "X_best,Y_best=data.iloc[:,:-1],data.iloc[:,-1]\n",
    "print(X_best.shape)\n",
    "print(Y_best.shape)"
   ]
  },
  {
   "cell_type": "code",
   "execution_count": 93,
   "metadata": {},
   "outputs": [
    {
     "name": "stdout",
     "output_type": "stream",
     "text": [
      "Three Best Feature list by Chi-Square: \n",
      "   Feature list         Score\n",
      "14         wbcc  52947.074533\n",
      "9           bgr   2621.658845\n",
      "10           bu   2472.319851\n",
      "13          pcv   1291.222184\n",
      "11           sc    376.667517\n",
      "15         rbcc    291.906188\n",
      "3            al    257.400000\n",
      "12         hemo    148.663487\n",
      "0           age    126.139020\n",
      "4            su    118.800000\n",
      "1            bp     81.226806\n",
      "16          htn     49.338911\n",
      "6            pc     45.600000\n",
      "17           dm     43.436693\n",
      "5           rbc     28.200000\n",
      "19        appet     12.214721\n",
      "20           pe     10.263983\n",
      "21          ane      6.022616\n",
      "7           pcc      2.116008\n",
      "18          cad      1.768692\n",
      "8            ba      0.377184\n",
      "2            sg      0.006607\n"
     ]
    }
   ],
   "source": [
    "from sklearn.feature_selection import SelectKBest\n",
    "from sklearn.feature_selection import chi2\n",
    "\n",
    "chi_sq = SelectKBest(chi2, k=22)\n",
    "fit_chi = chi_sq.fit(X_best,Y_best)\n",
    "score_chi=fit_chi.scores_\n",
    "score_chi_pd=pd.DataFrame(score_chi,columns=['Score'])\n",
    "Lables_chi=pd.DataFrame(X_best.columns,columns=[\"Feature list\"])\n",
    "Combo_chi=pd.concat([Lables_chi,score_chi_pd],axis=1)\n",
    "print(\"Three Best Feature list by Chi-Square: \")\n",
    "print(Combo_chi.nlargest(22,'Score'))\n"
   ]
  },
  {
   "cell_type": "code",
   "execution_count": 94,
   "metadata": {},
   "outputs": [],
   "source": [
    "#According to CHI-sq below 11 features have the best score so we will built our model on these features\n",
    "feature_cols=['wbcc','bgr','bu','pcv','sc','rbcc','al','hemo','age','su','bp']"
   ]
  },
  {
   "cell_type": "markdown",
   "metadata": {
    "colab_type": "text",
    "id": "z7L7fHziCZ4C"
   },
   "source": [
    "##The dataset\n",
    "\n",
    "**Dataset file name:** chronic_kidney_disease.csv\n",
    "\n",
    "**Attribute Information:** \n",
    "\n",
    "There are 24 features + class = 25 attributes\n",
    "1.  Age(numerical): age in years\n",
    "2.Blood Pressure(numerical): bp in mm/Hg\n",
    "3.Specific Gravity(nominal): sg - (1.005,1.010,1.015,1.020,1.025)\n",
    "4.Albumin(nominal): al - (0,1,2,3,4,5)\n",
    "5.Sugar(nominal): su - (0,1,2,3,4,5)\n",
    "6.Red Blood Cells(nominal): rbc - (normal,abnormal)\n",
    "7.Pus Cell (nominal): pc - (normal,abnormal)\n",
    "8.Pus Cell clumps(nominal): pcc - (present,notpresent)\n",
    "9.Bacteria(nominal): ba - (present,notpresent)\n",
    "10.Blood Glucose Random(numerical): bgr in mgs/dl\n",
    "11.Blood Urea(numerical): bu in mgs/dl\n",
    "12.Serum Creatinine(numerical): sc in mgs/dl\n",
    "13.Sodium(numerical): sod in mEq/L\n",
    "14.Potassium(numerical): pot in mEq/L\n",
    "15.Hemoglobin(numerical): hemo in gms\n",
    "16.Packed Cell Volume(numerical)\n",
    "17.White Blood Cell Count(numerical): wc in cells/cumm\n",
    "18.Red Blood Cell Count(numerical): rc in millions/cmm\n",
    "19.Hypertension(nominal): htn - (yes,no)\n",
    "20.Diabetes Mellitus(nominal): dm - (yes,no)\n",
    "21.Coronary Artery Disease(nominal): cad - (yes,no)\n",
    "22.Appetite(nominal): appet - (good,poor)\n",
    "23.Pedal Edema(nominal): pe - (yes,no)\n",
    "24.Anemia(nominal): ane - (yes,no)\n",
    "25.Class (nominal): class - (ckd, notckd)\n"
   ]
  },
  {
   "cell_type": "markdown",
   "metadata": {
    "colab_type": "text",
    "id": "el_YtqsIGgls"
   },
   "source": [
    "## Part 1: Short questions: **(6 marks)**\n",
    "\n",
    "\n"
   ]
  },
  {
   "cell_type": "markdown",
   "metadata": {
    "colab_type": "text",
    "id": "jEjryKNbwRdp"
   },
   "source": [
    "![image.png](data:image/png;base64,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)"
   ]
  },
  {
   "cell_type": "markdown",
   "metadata": {
    "colab_type": "text",
    "id": "IxGjw5XowM-e"
   },
   "source": [
    "\n",
    "1.  For the above figure, what value of k in KNN method will give the best accuracy for leave-one-out cross-validation. Report accuracy and k value. **(3 marks)**"
   ]
  },
  {
   "cell_type": "raw",
   "metadata": {
    "colab": {},
    "colab_type": "code",
    "id": "UkTUz_M3ZRQJ"
   },
   "source": [
    "The above figure has two different classes with elements of both classes are located around the other. As the classes are forming a circle around the other class, k=1 be the best possible solution for this problem with 100% accuracy.  "
   ]
  },
  {
   "cell_type": "markdown",
   "metadata": {
    "colab_type": "text",
    "id": "ROd6H3MDLUqi"
   },
   "source": [
    "2.  In classification, overfitting and underfitting is a big problem. Does it happen in Random Forest or not? Why? **(3 marks)**"
   ]
  },
  {
   "cell_type": "markdown",
   "metadata": {
    "colab": {},
    "colab_type": "code",
    "id": "Dt0mLoDbLy6A"
   },
   "source": [
    "Overfitting and underfitting can happen in RF as with other classifiers. RF is an ensamble of DT which can easily overfit due to high data variation. If only 1 tree is used in RF, it will overfit the data as is the same as the single DT. Deeper tree has more splits and captures more information about the data. On the other hand if we constrain our model to consider more samples at each node. Less number of samples on each node will lead to underfit."
   ]
  },
  {
   "cell_type": "markdown",
   "metadata": {
    "colab_type": "text",
    "id": "7MpUbHZtMMut"
   },
   "source": [
    "## Part 2: **(24 marks = 4 methods x 6)**\n",
    "\n",
    "Using the following four supervised machine learning methods, answer questions(A-D).\n",
    "1.   Support vector machine\n",
    "2.   K-Nearest Neighbour\n",
    "3.   Decision tree, and\n",
    "4.   Random forest\n",
    "\n",
    "**A.**  Build optimised classification model to predict the chronic kidney disease from the dataset. **(1 marks)**\n",
    "\n",
    "**B.** For each optimised model, answer the followings -  **(3 marks)**\n",
    "\n",
    "*  which hyperparameters were optimised? [Hint: For SVM, kernel can be considered as one of the hyperparameters.]\n",
    "\n",
    "*  what set or range of values were used for each hyperparameter?\n",
    "\n",
    "*  which metric was used to measure the performance?\n",
    "\n",
    "*  justify your design decisions.\n",
    "\n",
    "**C.**  Plot the prediction performance against hyperparameter values to visualise the optimisation process and mark the optimal value. **(1 marks)**\n",
    "\n",
    "**D.** Evaluate the model (obtained from A) performance on the test set. Report the confusion matrix, F1-score and accuracy. **(1 marks)**"
   ]
  },
  {
   "cell_type": "code",
   "execution_count": 95,
   "metadata": {
    "colab": {},
    "colab_type": "code",
    "id": "wvRMDh4CTNui"
   },
   "outputs": [],
   "source": [
    "from sklearn.preprocessing import MinMaxScaler\n",
    "from sklearn.neighbors import KNeighborsClassifier\n",
    "from sklearn.model_selection import train_test_split\n",
    "from sklearn import preprocessing\n",
    "from sklearn import metrics\n",
    "data_model=data.copy()\n",
    "data_cv=data.copy()"
   ]
  },
  {
   "cell_type": "code",
   "execution_count": 96,
   "metadata": {},
   "outputs": [
    {
     "name": "stdout",
     "output_type": "stream",
     "text": [
      "(280, 12)\n",
      "(120, 12)\n"
     ]
    }
   ],
   "source": [
    "#Spliting data into train-test using 70-30 ratio\n",
    "X = pd.DataFrame(data_model[feature_cols])\n",
    "Y=pd.DataFrame(data_model.iloc[:,-1])\n",
    "data_model_1=pd.concat([X,Y],axis=1)\n",
    "\n",
    "train_set,test_set = train_test_split(data_model_1, test_size=0.3,random_state=1)\n",
    "print(train_set.shape)\n",
    "print(test_set.shape)"
   ]
  },
  {
   "cell_type": "code",
   "execution_count": 97,
   "metadata": {},
   "outputs": [
    {
     "name": "stdout",
     "output_type": "stream",
     "text": [
      "(280, 11)\n",
      "(280,)\n",
      "(120, 11)\n",
      "(120,)\n"
     ]
    }
   ],
   "source": [
    "#Assigning the data train and test values\n",
    "\n",
    "x_feature_train,y_predict_train=train_set.iloc[:,:-1],train_set.iloc[:,-1]\n",
    "x_feature_test,y_predict_test=test_set.iloc[:,:-1],test_set.iloc[:,-1]\n",
    "print(x_feature_train.shape)\n",
    "print(y_predict_train.shape)\n",
    "print(x_feature_test.shape)\n",
    "print(y_predict_test.shape)\n",
    "#x_feature,y_class=data_model.iloc[:,:-1],data_model.iloc[:,-1]\n"
   ]
  },
  {
   "cell_type": "code",
   "execution_count": 98,
   "metadata": {},
   "outputs": [],
   "source": [
    "#As we have data with multiple scales, we need to convert them into same scale. Here I'm using MinMax scaling\n",
    "le = preprocessing.LabelEncoder()\n",
    "mms = MinMaxScaler()\n",
    "\n",
    "y_predict_train=le.fit_transform(y_predict_train)\n",
    "y_predict_test=le.fit_transform(y_predict_test)\n",
    "\n",
    "#y_predict_test\n",
    "#x_feature_train=mms.fit(x_feature_train)\n",
    "#x_feature_train=mms.fit(x_feature_test)\n",
    "\n",
    "mms.fit(x_feature_train)\n",
    "mms.fit(x_feature_test)\n",
    "data_trans_train = mms.transform(x_feature_train)\n",
    "data_trans_test = mms.transform(x_feature_test)"
   ]
  },
  {
   "cell_type": "code",
   "execution_count": 99,
   "metadata": {},
   "outputs": [
    {
     "name": "stdout",
     "output_type": "stream",
     "text": [
      "KNN Training Accuracy:0.9321428571428572\n",
      "KNN Test Accuracy:0.9333333333333333\n"
     ]
    }
   ],
   "source": [
    "#KNN Model\n",
    "#We first apply a default k value to check the accuracy with k=50, as we have 400 data points.\n",
    "knn = KNeighborsClassifier(n_neighbors=50)\n",
    "knn.fit(data_trans_train, y_predict_train)\n",
    "#y_pred = knn.predict(data_trans_test)\n",
    "knn_acc_train=metrics.accuracy_score(y_predict_train, knn.predict(data_trans_train))\n",
    "print(\"KNN Training Accuracy:{}\".format(knn_acc_train))\n",
    "\n",
    "knn_acc_test=metrics.accuracy_score(y_predict_test, knn.predict(data_trans_test))\n",
    "print(\"KNN Test Accuracy:{}\".format(knn_acc_test))\n",
    "\n",
    "\n",
    "#print(\"Train Accuracy:\",metrics.accuracy_score(y_predict_train, y_pred))\n",
    "#print(\"Test Accuracy:\",metrics.accuracy_score(y_predict_test, y_pred))"
   ]
  },
  {
   "cell_type": "code",
   "execution_count": 100,
   "metadata": {},
   "outputs": [
    {
     "name": "stdout",
     "output_type": "stream",
     "text": [
      "{'metric': 'euclidean', 'n_neighbors': 5, 'weights': 'uniform'}\n",
      "0.9571428571428572\n",
      "KNeighborsClassifier(algorithm='auto', leaf_size=30, metric='euclidean',\n",
      "           metric_params=None, n_jobs=None, n_neighbors=5, p=2,\n",
      "           weights='uniform')\n"
     ]
    }
   ],
   "source": [
    "#Hyper parameter tuning for KNN\n",
    "from sklearn.model_selection import GridSearchCV\n",
    "#create new a knn model\n",
    "knn2 = KNeighborsClassifier()\n",
    "#create a dictionary of all values we want to test for n_neighbors\n",
    "param_grid = {'n_neighbors': [1,5,15,20,50,100],'weights':['uniform','distance'],'metric':['euclidean','manhattan']}\n",
    "#use gridsearch to test all values for n_neighbors\n",
    "knn_gscv = GridSearchCV(knn2, param_grid, cv=5)\n",
    "#fit model to data\n",
    "knn_gscv.fit(data_trans_train, y_predict_train)\n",
    "print(knn_gscv.best_params_)\n",
    "print(knn_gscv.best_score_)\n",
    "print(knn_gscv.best_estimator_)"
   ]
  },
  {
   "cell_type": "code",
   "execution_count": 101,
   "metadata": {},
   "outputs": [
    {
     "name": "stdout",
     "output_type": "stream",
     "text": [
      "KNN Training Accuracy:0.9642857142857143\n",
      "KNN Test Accuracy:0.9416666666666667\n"
     ]
    }
   ],
   "source": [
    "#KNN Model with k=5,weights=uniform,metric=euc,leaf_size=30\n",
    "\n",
    "knn = KNeighborsClassifier(n_neighbors=5,weights='uniform',metric='euclidean',leaf_size=30,p=2)\n",
    "knn.fit(data_trans_train, y_predict_train)\n",
    "#y_pred = knn.predict(data_trans_test)\n",
    "knn_acc_train=metrics.accuracy_score(y_predict_train, knn.predict(data_trans_train))\n",
    "print(\"KNN Training Accuracy:{}\".format(knn_acc_train))\n",
    "\n",
    "knn_acc_test=metrics.accuracy_score(y_predict_test, knn.predict(data_trans_test))\n",
    "print(\"KNN Test Accuracy:{}\".format(knn_acc_test))\n",
    "\n",
    "\n",
    "#print(\"Train Accuracy:\",metrics.accuracy_score(y_predict_train, y_pred))\n",
    "#print(\"Test Accuracy:\",metrics.accuracy_score(y_predict_test, y_pred))"
   ]
  },
  {
   "cell_type": "raw",
   "metadata": {},
   "source": [
    "Hyper-parameter used: n_neighbors,weights,metric,leaf_size\n",
    "Conclusion: After hyper parameter tuning,We can see that the accuracy has improved from 0.93 to 0.94 which is quite significant."
   ]
  },
  {
   "cell_type": "code",
   "execution_count": 102,
   "metadata": {},
   "outputs": [
    {
     "name": "stdout",
     "output_type": "stream",
     "text": [
      "(49, 10)\n",
      "(49, 10)\n"
     ]
    },
    {
     "data": {
      "image/png": "[encoded data removed]",
      "text/plain": [
       "<Figure size 432x288 with 1 Axes>"
      ]
     },
     "metadata": {
      "needs_background": "light"
     },
     "output_type": "display_data"
    }
   ],
   "source": [
    "#Ploting validation curve for knn using n_neighbors.\n",
    "from sklearn.model_selection import validation_curve\n",
    "\n",
    "knn_range=list(range(1,50))\n",
    "train_scores, valid_scores = validation_curve( knn, x_feature_train, y_predict_train, param_name=\"n_neighbors\",param_range=knn_range,cv=10, scoring=\"accuracy\",n_jobs=-1)\n",
    "print(train_scores.shape)\n",
    "print(valid_scores.shape)\n",
    "\n",
    "mean_train_score = np.mean(train_scores, axis=1)\n",
    "mean_val_score = np.mean(valid_scores, axis=1)\n",
    "\n",
    "plt.plot(knn_range, mean_train_score, color=\"blue\", linewidth=1.5, label=\"Training\")\n",
    "plt.plot(knn_range, mean_val_score, color=\"red\", linewidth=1.5, label=\"Validation\")\n",
    "plt.legend(loc=\"upper left\")\n",
    "plt.xlabel(\"knn\")\n",
    "plt.ylabel(\"Model Accuracy\")\n",
    "plt.title(\"Accuracy comparison of training/validation set\")\n",
    "plt.show()"
   ]
  },
  {
   "cell_type": "code",
   "execution_count": 103,
   "metadata": {},
   "outputs": [
    {
     "name": "stdout",
     "output_type": "stream",
     "text": [
      "(5, 10)\n",
      "(5, 10)\n"
     ]
    },
    {
     "data": {
      "image/png": "[encoded data removed]",
      "text/plain": [
       "<Figure size 432x288 with 1 Axes>"
      ]
     },
     "metadata": {
      "needs_background": "light"
     },
     "output_type": "display_data"
    }
   ],
   "source": [
    "#Ploting validation curve for knn using p-value.\n",
    "\n",
    "p_range=[1,2,3,4,5]\n",
    "train_scores, valid_scores = validation_curve(KNeighborsClassifier(), x_feature_train, y_predict_train, param_name=\"p\",param_range=p_range,cv=10, scoring=\"accuracy\")\n",
    "print(train_scores.shape)\n",
    "print(valid_scores.shape)\n",
    "\n",
    "mean_train_score = np.mean(train_scores, axis=1)\n",
    "mean_val_score = np.mean(valid_scores, axis=1)\n",
    "\n",
    "plt.plot(p_range, mean_train_score, color=\"blue\", linewidth=1.5, label=\"Training\")\n",
    "plt.plot(p_range, mean_val_score, color=\"red\", linewidth=1.5, label=\"Validation\")\n",
    "plt.legend(loc=\"upper left\")\n",
    "plt.xlabel(\"p-range\")\n",
    "plt.ylabel(\"Model Accuracy\")\n",
    "plt.title(\"Accuracy comparison of training/validation set\")\n",
    "plt.show()"
   ]
  },
  {
   "cell_type": "code",
   "execution_count": 104,
   "metadata": {},
   "outputs": [
    {
     "name": "stdout",
     "output_type": "stream",
     "text": [
      "              precision    recall  f1-score   support\n",
      "\n",
      "           0       0.98      0.91      0.95        70\n",
      "           1       0.89      0.98      0.93        50\n",
      "\n",
      "   micro avg       0.94      0.94      0.94       120\n",
      "   macro avg       0.94      0.95      0.94       120\n",
      "weighted avg       0.95      0.94      0.94       120\n",
      "\n",
      "Confusion Matrix: \n",
      "[[64  6]\n",
      " [ 1 49]]\n"
     ]
    },
    {
     "data": {
      "image/png": "[encoded data removed]",
      "text/plain": [
       "<Figure size 576x576 with 1 Axes>"
      ]
     },
     "metadata": {
      "needs_background": "light"
     },
     "output_type": "display_data"
    }
   ],
   "source": [
    "#Confusion matrix, f1-score\n",
    "from sklearn.metrics import classification_report, confusion_matrix\n",
    "print(classification_report(y_predict_test, knn.predict(data_trans_test)))\n",
    "#Confusion Matrix\n",
    "Confusion_matrix = confusion_matrix(y_predict_test, knn.predict(data_trans_test))\n",
    "print(\"Confusion Matrix: \")\n",
    "print(Confusion_matrix)\n",
    "fig, ax = plt.subplots(figsize=(8, 8))\n",
    "ax.imshow(Confusion_matrix)\n",
    "ax.grid(False)\n",
    "ax.xaxis.set(ticks=(0, 1), ticklabels=('Predicted 0s', 'Predicted 1s'))\n",
    "ax.yaxis.set(ticks=(0, 1), ticklabels=('Actual 0s', 'Actual 1s'))\n",
    "ax.set_ylim(1.5, -0.5)\n",
    "for i in range(2):\n",
    "    for j in range(2):\n",
    "        ax.text(j, i, Confusion_matrix[i, j], ha='center', va='center', color='red')\n",
    "plt.show()"
   ]
  },
  {
   "cell_type": "code",
   "execution_count": 105,
   "metadata": {},
   "outputs": [
    {
     "name": "stdout",
     "output_type": "stream",
     "text": [
      "SVM Training Accuracy:0.9642857142857143\n",
      "SVM Testing Accuracy:0.9666666666666667\n"
     ]
    }
   ],
   "source": [
    "#SVM\n",
    "#running SVM on default setting\n",
    "from sklearn import svm\n",
    "from sklearn import metrics\n",
    "from sklearn.svm import SVC\n",
    "svm_model=svm.SVC(kernel='linear')\n",
    "svm_model.fit(data_trans_train,y_predict_train)\n",
    "svm_acc_train=metrics.accuracy_score(y_predict_train,svm_model.predict(data_trans_train))\n",
    "svm_acc_test=metrics.accuracy_score(y_predict_test,svm_model.predict(data_trans_test))\n",
    "print(\"SVM Training Accuracy:{}\".format(svm_acc_train))\n",
    "print(\"SVM Testing Accuracy:{}\".format(svm_acc_test))"
   ]
  },
  {
   "cell_type": "code",
   "execution_count": 106,
   "metadata": {},
   "outputs": [
    {
     "name": "stdout",
     "output_type": "stream",
     "text": [
      "{'C': 10, 'gamma': 1, 'kernel': 'linear'}\n",
      "0.975\n",
      "SVC(C=10, cache_size=200, class_weight=None, coef0=0.0,\n",
      "  decision_function_shape='ovr', degree=3, gamma=1, kernel='linear',\n",
      "  max_iter=-1, probability=False, random_state=None, shrinking=True,\n",
      "  tol=0.001, verbose=False)\n"
     ]
    }
   ],
   "source": [
    "#Hyper parameter tuning for SVM\n",
    "SVM2 = svm.SVC()\n",
    "#create a dictionary of all values we want to test for n_neighbors\n",
    "param_grid = {'C': [0.1, 1, 10, 100, 1000],'gamma': [1, 0.1, 0.01, 0.001, 0.0001],'kernel': ['linear','rbf','poly','sigmoid']}\n",
    "#use gridsearch to test all values for n_neighbors\n",
    "svm_gscv = GridSearchCV(SVM2, param_grid, cv=5)\n",
    "#fit model to data\n",
    "svm_gscv.fit(data_trans_train, y_predict_train)\n",
    "print(svm_gscv.best_params_)\n",
    "print(svm_gscv.best_score_)\n",
    "print(svm_gscv.best_estimator_)"
   ]
  },
  {
   "cell_type": "code",
   "execution_count": 107,
   "metadata": {},
   "outputs": [
    {
     "name": "stdout",
     "output_type": "stream",
     "text": [
      "SVM Training Accuracy:0.9857142857142858\n",
      "SVM Testing Accuracy:0.9666666666666667\n"
     ]
    }
   ],
   "source": [
    "#SVM with recommended hyper parameters\n",
    "svm_model=svm.SVC(kernel='linear',C=10,gamma=1)\n",
    "svm_model.fit(data_trans_train,y_predict_train)\n",
    "svm_acc_train=metrics.accuracy_score(y_predict_train,svm_model.predict(data_trans_train))\n",
    "svm_acc_test=metrics.accuracy_score(y_predict_test,svm_model.predict(data_trans_test))\n",
    "print(\"SVM Training Accuracy:{}\".format(svm_acc_train))\n",
    "print(\"SVM Testing Accuracy:{}\".format(svm_acc_test))"
   ]
  },
  {
   "cell_type": "raw",
   "metadata": {},
   "source": [
    "Hyper-parameter used: kernel,C,gamma\n",
    "Conclusion: After hyper parameter tuning, accuracy improved in the training set, but test set accuracy remained the same."
   ]
  },
  {
   "cell_type": "code",
   "execution_count": 32,
   "metadata": {},
   "outputs": [
    {
     "name": "stdout",
     "output_type": "stream",
     "text": [
      "(4, 3)\n",
      "(4, 3)\n"
     ]
    },
    {
     "data": {
      "image/png": "[encoded data removed]",
      "text/plain": [
       "<Figure size 432x288 with 1 Axes>"
      ]
     },
     "metadata": {
      "needs_background": "light"
     },
     "output_type": "display_data"
    }
   ],
   "source": [
    "#Ploting validation curve for gamma.\n",
    "\n",
    "gamma_range=[1, 0.1, 0.01, 0.001]\n",
    "train_scores, valid_scores = validation_curve(SVC(), x_feature_train, y_predict_train, param_name=\"gamma\",param_range=gamma_range,cv=3, scoring=\"accuracy\",n_jobs=-1)\n",
    "print(train_scores.shape)\n",
    "print(valid_scores.shape)\n",
    "\n",
    "mean_train_score = np.mean(train_scores, axis=1)\n",
    "mean_val_score = np.mean(valid_scores, axis=1)\n",
    "\n",
    "plt.plot(gamma_range, mean_train_score, color=\"blue\", linewidth=1.5, label=\"Training\")\n",
    "plt.plot(gamma_range, mean_val_score, color=\"red\", linewidth=1.5, label=\"Validation\")\n",
    "plt.legend(loc=\"upper left\")\n",
    "plt.xlabel(\"gamma\")\n",
    "plt.ylabel(\"Model Accuracy\")\n",
    "plt.title(\"Accuracy comparison of training/validation set\")\n",
    "plt.show()"
   ]
  },
  {
   "cell_type": "code",
   "execution_count": 36,
   "metadata": {},
   "outputs": [
    {
     "name": "stdout",
     "output_type": "stream",
     "text": [
      "(4, 3)\n",
      "(4, 3)\n"
     ]
    },
    {
     "data": {
      "image/png": "[encoded data removed]",
      "text/plain": [
       "<Figure size 432x288 with 1 Axes>"
      ]
     },
     "metadata": {
      "needs_background": "light"
     },
     "output_type": "display_data"
    }
   ],
   "source": [
    "#Ploting validation curve for C.\n",
    "C_range=[1,5,10,100]\n",
    "train_scores, valid_scores = validation_curve(SVC(), x_feature_train, y_predict_train, param_name=\"C\",param_range=C_range,cv=3, scoring=\"accuracy\")\n",
    "print(train_scores.shape)\n",
    "print(valid_scores.shape)\n",
    "\n",
    "mean_train_score = np.mean(train_scores, axis=1)\n",
    "mean_val_score = np.mean(valid_scores, axis=1)\n",
    "\n",
    "plt.plot(C_range, mean_train_score, color=\"blue\", linewidth=1.5, label=\"Training\")\n",
    "plt.plot(C_range, mean_val_score, color=\"red\", linewidth=1.5, label=\"Validation\")\n",
    "plt.legend(loc=\"upper left\")\n",
    "plt.xlabel(\"C\")\n",
    "plt.ylabel(\"Model Accuracy\")\n",
    "plt.title(\"Accuracy comparison of training/validation set\")\n",
    "plt.show()"
   ]
  },
  {
   "cell_type": "code",
   "execution_count": 108,
   "metadata": {},
   "outputs": [
    {
     "name": "stdout",
     "output_type": "stream",
     "text": [
      "              precision    recall  f1-score   support\n",
      "\n",
      "           0       0.99      0.96      0.97        70\n",
      "           1       0.94      0.98      0.96        50\n",
      "\n",
      "   micro avg       0.97      0.97      0.97       120\n",
      "   macro avg       0.96      0.97      0.97       120\n",
      "weighted avg       0.97      0.97      0.97       120\n",
      "\n",
      "Confusion Matrix: \n",
      "[[67  3]\n",
      " [ 1 49]]\n"
     ]
    },
    {
     "data": {
      "image/png": "[encoded data removed]",
      "text/plain": [
       "<Figure size 576x576 with 1 Axes>"
      ]
     },
     "metadata": {
      "needs_background": "light"
     },
     "output_type": "display_data"
    }
   ],
   "source": [
    "#Confusion matrix, Accuracy\n",
    "print(classification_report(y_predict_test, svm_model.predict(data_trans_test)))\n",
    "#Confusion Matrix\n",
    "Confusion_matrix = confusion_matrix(y_predict_test, svm_model.predict(data_trans_test))\n",
    "print(\"Confusion Matrix: \")\n",
    "print(Confusion_matrix)\n",
    "fig, ax = plt.subplots(figsize=(8, 8))\n",
    "ax.imshow(Confusion_matrix)\n",
    "ax.grid(False)\n",
    "ax.xaxis.set(ticks=(0, 1), ticklabels=('Predicted 0s', 'Predicted 1s'))\n",
    "ax.yaxis.set(ticks=(0, 1), ticklabels=('Actual 0s', 'Actual 1s'))\n",
    "ax.set_ylim(1.5, -0.5)\n",
    "for i in range(2):\n",
    "    for j in range(2):\n",
    "        ax.text(j, i, Confusion_matrix[i, j], ha='center', va='center', color='red')\n",
    "plt.show()"
   ]
  },
  {
   "cell_type": "code",
   "execution_count": 109,
   "metadata": {},
   "outputs": [
    {
     "name": "stdout",
     "output_type": "stream",
     "text": [
      "Decision Tree Training Accuracy:0.9285714285714286\n",
      "Decision Tree Testing Accuracy:0.9\n"
     ]
    }
   ],
   "source": [
    "#Decision Tree with recommended hyper parameters\n",
    "from sklearn import tree\n",
    "from sklearn.tree import DecisionTreeClassifier\n",
    "treeclf=DecisionTreeClassifier(max_depth=1,random_state=1)\n",
    "treeclf.fit(x_feature_train,y_predict_train)\n",
    "print(\"Decision Tree Training Accuracy:{}\".format(metrics.accuracy_score(y_predict_train, treeclf.predict(x_feature_train))))\n",
    "print(\"Decision Tree Testing Accuracy:{}\".format(metrics.accuracy_score(y_predict_test, treeclf.predict(x_feature_test))))"
   ]
  },
  {
   "cell_type": "code",
   "execution_count": 110,
   "metadata": {},
   "outputs": [
    {
     "name": "stdout",
     "output_type": "stream",
     "text": [
      "{'criterion': 'entropy', 'max_depth': 3, 'max_leaf_nodes': 5}\n",
      "0.9892857142857143\n",
      "DecisionTreeClassifier(class_weight=None, criterion='entropy', max_depth=3,\n",
      "            max_features=None, max_leaf_nodes=5, min_impurity_decrease=0.0,\n",
      "            min_impurity_split=None, min_samples_leaf=1,\n",
      "            min_samples_split=2, min_weight_fraction_leaf=0.0,\n",
      "            presort=False, random_state=None, splitter='best')\n"
     ]
    }
   ],
   "source": [
    "#Hyper parameter tuning for Decesion Tree\n",
    "treeclf_2 = DecisionTreeClassifier()\n",
    "#create a dictionary of all values we want to test for n_neighbors\n",
    "\n",
    "# hyperparameters = {'max_leaf_nodes': list(range(2, 50)),'criterion':['gini','entropy'],'max_depth':[4,5,6,7,8,9,10,11,12,15]}\n",
    "\n",
    "param_grid = {'criterion':['gini','entropy'],'max_depth':list(range(1,16)),'max_leaf_nodes': list(range(2,100))}\n",
    "#use gridsearch to test all values for n_neighbors\n",
    "DT_gscv = GridSearchCV(treeclf_2, param_grid, cv=5)\n",
    "#fit model to data\n",
    "DT_gscv.fit(data_trans_train, y_predict_train)\n",
    "print(DT_gscv.best_params_)\n",
    "print(DT_gscv.best_score_)\n",
    "print(DT_gscv.best_estimator_)"
   ]
  },
  {
   "cell_type": "code",
   "execution_count": 111,
   "metadata": {},
   "outputs": [
    {
     "name": "stdout",
     "output_type": "stream",
     "text": [
      "Decision Tree Training Accuracy:1.0\n",
      "Decision Tree Testing Accuracy:0.9666666666666667\n"
     ]
    }
   ],
   "source": [
    "#After Applying different combinations, below are the best hyperparameter value set for highest accuracy\n",
    "treeclf=DecisionTreeClassifier(criterion='entropy',max_depth=3,max_leaf_nodes=5,random_state=1)\n",
    "treeclf.fit(x_feature_train,y_predict_train)\n",
    "print(\"Decision Tree Training Accuracy:{}\".format(metrics.accuracy_score(y_predict_train, treeclf.predict(x_feature_train))))\n",
    "print(\"Decision Tree Testing Accuracy:{}\".format(metrics.accuracy_score(y_predict_test, treeclf.predict(x_feature_test))))"
   ]
  },
  {
   "cell_type": "raw",
   "metadata": {},
   "source": [
    "Hyper-parameter used: criterion,max_depth,max_leaf_nodes\n",
    "Conclusion: After hyper parameter tuning, test accuracy improved from 0.9 to 0.96."
   ]
  },
  {
   "cell_type": "code",
   "execution_count": 57,
   "metadata": {},
   "outputs": [
    {
     "name": "stdout",
     "output_type": "stream",
     "text": [
      "(10, 10)\n",
      "(10, 10)\n"
     ]
    },
    {
     "data": {
      "image/png": "[encoded data removed]",
      "text/plain": [
       "<Figure size 432x288 with 1 Axes>"
      ]
     },
     "metadata": {
      "needs_background": "light"
     },
     "output_type": "display_data"
    }
   ],
   "source": [
    "#Plotting validation curve for 10 fold cv\n",
    "\n",
    "max_depth_range = range(1, 11)\n",
    "train_scores, valid_scores = validation_curve( treeclf, x_feature_train, y_predict_train, param_name=\"max_depth\",param_range=max_depth_range,cv=10, scoring=\"accuracy\")\n",
    "print(train_scores.shape)\n",
    "print(valid_scores.shape)\n",
    "\n",
    "mean_train_score = np.mean(train_scores, axis=1)\n",
    "mean_val_score = np.mean(valid_scores, axis=1)\n",
    "\n",
    "plt.plot(max_depth_range, mean_train_score, color=\"blue\", linewidth=1.5, label=\"Training\")\n",
    "plt.plot(max_depth_range, mean_val_score, color=\"red\", linewidth=1.5, label=\"Validation\")\n",
    "plt.legend(loc=\"upper left\")\n",
    "plt.xlabel(\"Tree-depth\")\n",
    "plt.ylabel(\"Model Accuracy\")\n",
    "plt.title(\"Accuracy comparison of training/validation set\")\n",
    "plt.show()\n"
   ]
  },
  {
   "cell_type": "raw",
   "metadata": {},
   "source": [
    "The max validation score obersed on max_depth=3, which is used in the final model."
   ]
  },
  {
   "cell_type": "code",
   "execution_count": 112,
   "metadata": {},
   "outputs": [
    {
     "name": "stdout",
     "output_type": "stream",
     "text": [
      "              precision    recall  f1-score   support\n",
      "\n",
      "           0       1.00      0.94      0.97        70\n",
      "           1       0.93      1.00      0.96        50\n",
      "\n",
      "   micro avg       0.97      0.97      0.97       120\n",
      "   macro avg       0.96      0.97      0.97       120\n",
      "weighted avg       0.97      0.97      0.97       120\n",
      "\n",
      "Confusion Matrix: \n",
      "[[66  4]\n",
      " [ 0 50]]\n"
     ]
    },
    {
     "data": {
      "image/png": "[encoded data removed]",
      "text/plain": [
       "<Figure size 576x576 with 1 Axes>"
      ]
     },
     "metadata": {
      "needs_background": "light"
     },
     "output_type": "display_data"
    }
   ],
   "source": [
    "#Confusion matrix, accuracy\n",
    "print(classification_report(y_predict_test, treeclf.predict(x_feature_test)))\n",
    "#Confusion Matrix\n",
    "Confusion_matrix = confusion_matrix(y_predict_test, treeclf.predict(x_feature_test))\n",
    "print(\"Confusion Matrix: \")\n",
    "print(Confusion_matrix)\n",
    "fig, ax = plt.subplots(figsize=(8, 8))\n",
    "ax.imshow(Confusion_matrix)\n",
    "ax.grid(False)\n",
    "ax.xaxis.set(ticks=(0, 1), ticklabels=('Predicted 0s', 'Predicted 1s'))\n",
    "ax.yaxis.set(ticks=(0, 1), ticklabels=('Actual 0s', 'Actual 1s'))\n",
    "ax.set_ylim(1.5, -0.5)\n",
    "for i in range(2):\n",
    "    for j in range(2):\n",
    "        ax.text(j, i, Confusion_matrix[i, j], ha='center', va='center', color='red')\n",
    "plt.show()"
   ]
  },
  {
   "cell_type": "code",
   "execution_count": 113,
   "metadata": {},
   "outputs": [
    {
     "name": "stdout",
     "output_type": "stream",
     "text": [
      "Training accuracy: 1.0\n",
      "Testing accuracy : 0.9833333333333333\n"
     ]
    }
   ],
   "source": [
    "#Running Random Forest with default parameters\n",
    "from sklearn.ensemble import RandomForestClassifier\n",
    "rfclf = RandomForestClassifier(n_estimators=300, max_depth=5, random_state=1)\n",
    "rfclf.fit(x_feature_train,y_predict_train)\n",
    "print(\"Training accuracy: {}\".format(metrics.accuracy_score(y_predict_train, rfclf.predict(x_feature_train))))\n",
    "print(\"Testing accuracy : {}\".format(metrics.accuracy_score(y_predict_test, rfclf.predict(x_feature_test))))"
   ]
  },
  {
   "cell_type": "code",
   "execution_count": 61,
   "metadata": {},
   "outputs": [
    {
     "name": "stdout",
     "output_type": "stream",
     "text": [
      "{'criterion': 'gini', 'max_depth': 4, 'max_features': 'auto', 'n_estimators': 100}\n",
      "0.9892857142857143\n",
      "RandomForestClassifier(bootstrap=True, class_weight=None, criterion='gini',\n",
      "            max_depth=4, max_features='auto', max_leaf_nodes=None,\n",
      "            min_impurity_decrease=0.0, min_impurity_split=None,\n",
      "            min_samples_leaf=1, min_samples_split=2,\n",
      "            min_weight_fraction_leaf=0.0, n_estimators=100, n_jobs=None,\n",
      "            oob_score=False, random_state=None, verbose=0,\n",
      "            warm_start=False)\n"
     ]
    }
   ],
   "source": [
    "#Hyper parameter tuning for Random Forest. This might take a while to execute\n",
    "\n",
    "rfclf2 = RandomForestClassifier()\n",
    "\n",
    "#create a dictionary of all values we want to test for n_neighbors\n",
    "param_grid = {'n_estimators':[50,100,200,300],'criterion':['gini','entropy'],'max_depth': list(range(1,10)),'max_features':['auto','sqrt','log2']}\n",
    "#use gridsearch to test all values\n",
    "rfclf2_gscv = GridSearchCV(rfclf2, param_grid, cv=5)\n",
    "#fit model to data\n",
    "rfclf2_gscv.fit(data_trans_train, y_predict_train)\n",
    "print(rfclf2_gscv.best_params_)\n",
    "print(rfclf2_gscv.best_score_)\n",
    "print(rfclf2_gscv.best_estimator_)"
   ]
  },
  {
   "cell_type": "code",
   "execution_count": 114,
   "metadata": {},
   "outputs": [
    {
     "name": "stdout",
     "output_type": "stream",
     "text": [
      "Training accuracy: 1.0\n",
      "Testing accuracy : 0.9916666666666667\n"
     ]
    }
   ],
   "source": [
    "#After Applying different combinations of hyper parameters, the best results achieved by n_esti=50, max_depth=7, criteria=gini\n",
    "#max_features=auto\n",
    "\n",
    "rfclf = RandomForestClassifier(criterion='gini',n_estimators=50, max_depth=7, random_state=42,max_features='auto')\n",
    "rfclf.fit(x_feature_train,y_predict_train)\n",
    "print(\"Training accuracy: {}\".format(metrics.accuracy_score(y_predict_train, rfclf.predict(x_feature_train))))\n",
    "print(\"Testing accuracy : {}\".format(metrics.accuracy_score(y_predict_test, rfclf.predict(x_feature_test))))"
   ]
  },
  {
   "cell_type": "code",
   "execution_count": null,
   "metadata": {},
   "outputs": [],
   "source": [
    "Hyper-parameter used: criterion, n_estimtores,max_depth,max_features\n",
    "Conclusion: After hyper parameter tuning, test accuracy improved from 0.98 to 0.99."
   ]
  },
  {
   "cell_type": "code",
   "execution_count": 65,
   "metadata": {},
   "outputs": [
    {
     "name": "stdout",
     "output_type": "stream",
     "text": [
      "(10, 10)\n",
      "(10, 10)\n"
     ]
    },
    {
     "data": {
      "image/png": "[encoded data removed]",
      "text/plain": [
       "<Figure size 432x288 with 1 Axes>"
      ]
     },
     "metadata": {
      "needs_background": "light"
     },
     "output_type": "display_data"
    }
   ],
   "source": [
    "#As this is our finalized model with highest accuracy, all hyper-paramter validation will be plotted\n",
    "#Plotting validation curve for n_estimators 10 fold cv\n",
    "\n",
    "ensemble_sizes = range(1, 500, 50)\n",
    "train_scores, valid_scores = validation_curve( rfclf, x_feature_train, y_predict_train, param_name=\"n_estimators\",param_range=ensemble_sizes,cv=10, scoring=\"accuracy\")\n",
    "print(train_scores.shape)\n",
    "print(valid_scores.shape)\n",
    "\n",
    "mean_train_score = np.mean(train_scores, axis=1)\n",
    "mean_val_score = np.mean(valid_scores, axis=1)\n",
    "\n",
    "plt.plot(ensemble_sizes, mean_train_score, color=\"blue\", linewidth=1.5, label=\"Training\")\n",
    "plt.plot(ensemble_sizes, mean_val_score, color=\"red\", linewidth=1.5, label=\"Validation\")\n",
    "plt.legend(loc=\"upper left\")\n",
    "plt.xlabel(\"Ensemble Size\")\n",
    "plt.ylabel(\"Model Accuracy\")\n",
    "plt.title(\"Accuracy comparison of training/validation set\")\n",
    "plt.show()"
   ]
  },
  {
   "cell_type": "code",
   "execution_count": 67,
   "metadata": {},
   "outputs": [
    {
     "name": "stdout",
     "output_type": "stream",
     "text": [
      "(2, 10)\n",
      "(2, 10)\n"
     ]
    },
    {
     "data": {
      "image/png": "[encoded data removed]",
      "text/plain": [
       "<Figure size 432x288 with 1 Axes>"
      ]
     },
     "metadata": {
      "needs_background": "light"
     },
     "output_type": "display_data"
    }
   ],
   "source": [
    "#Plotting validation curve for criteria, 10 fold cv\n",
    "\n",
    "criteria_range = ['gini','entropy']\n",
    "train_scores, valid_scores = validation_curve( rfclf, x_feature_train, y_predict_train, param_name=\"criterion\",param_range=criteria_range,cv=10, scoring=\"accuracy\")\n",
    "print(train_scores.shape)\n",
    "print(valid_scores.shape)\n",
    "\n",
    "mean_train_score = np.mean(train_scores, axis=1)\n",
    "mean_val_score = np.mean(valid_scores, axis=1)\n",
    "\n",
    "plt.plot(criteria_range, mean_train_score, color=\"blue\", linewidth=1.5, label=\"Training\")\n",
    "plt.plot(criteria_range, mean_val_score, color=\"red\", linewidth=1.5, label=\"Validation\")\n",
    "plt.legend(loc=\"upper left\")\n",
    "plt.xlabel(\"Ensemble Size\")\n",
    "plt.ylabel(\"Model Accuracy\")\n",
    "plt.title(\"Accuracy comparison of training/validation set\")\n",
    "plt.show()"
   ]
  },
  {
   "cell_type": "code",
   "execution_count": 76,
   "metadata": {},
   "outputs": [
    {
     "name": "stdout",
     "output_type": "stream",
     "text": [
      "(10, 10)\n",
      "(10, 10)\n"
     ]
    },
    {
     "data": {
      "image/png": "[encoded data removed]",
      "text/plain": [
       "<Figure size 432x288 with 1 Axes>"
      ]
     },
     "metadata": {
      "needs_background": "light"
     },
     "output_type": "display_data"
    }
   ],
   "source": [
    "#Plotting validation curve for max_depth, 10 fold cv\n",
    "depth_range = range(1,11)\n",
    "train_scores, valid_scores = validation_curve( rfclf, x_feature_train, y_predict_train, param_name=\"max_depth\",param_range=depth_range,cv=10, scoring=\"accuracy\")\n",
    "print(train_scores.shape)\n",
    "print(valid_scores.shape)\n",
    "\n",
    "mean_train_score = np.mean(train_scores, axis=1)\n",
    "mean_val_score = np.mean(valid_scores, axis=1)\n",
    "\n",
    "plt.plot(depth_range, mean_train_score, color=\"blue\", linewidth=1.5, label=\"Training\")\n",
    "plt.plot(depth_range, mean_val_score, color=\"red\", linewidth=1.5, label=\"Validation\")\n",
    "plt.legend(loc=\"upper left\")\n",
    "plt.xlabel(\"Ensemble Size\")\n",
    "plt.ylabel(\"Model Accuracy\")\n",
    "plt.title(\"Accuracy comparison of training/validation set\")\n",
    "plt.show()"
   ]
  },
  {
   "cell_type": "code",
   "execution_count": 69,
   "metadata": {},
   "outputs": [
    {
     "name": "stdout",
     "output_type": "stream",
     "text": [
      "(3, 10)\n",
      "(3, 10)\n"
     ]
    },
    {
     "data": {
      "image/png": "[encoded data removed]",
      "text/plain": [
       "<Figure size 432x288 with 1 Axes>"
      ]
     },
     "metadata": {
      "needs_background": "light"
     },
     "output_type": "display_data"
    }
   ],
   "source": [
    "#Plotting validation curve for max_feature, 10 fold cv\n",
    "maxfeature_range = ['auto','sqrt','log2']\n",
    "train_scores, valid_scores = validation_curve( rfclf, x_feature_train, y_predict_train, param_name=\"max_features\",param_range=maxfeature_range,cv=10, scoring=\"accuracy\")\n",
    "print(train_scores.shape)\n",
    "print(valid_scores.shape)\n",
    "\n",
    "mean_train_score = np.mean(train_scores, axis=1)\n",
    "mean_val_score = np.mean(valid_scores, axis=1)\n",
    "\n",
    "plt.plot(maxfeature_range, mean_train_score, color=\"blue\", linewidth=1.5, label=\"Training\")\n",
    "plt.plot(maxfeature_range, mean_val_score, color=\"red\", linewidth=1.5, label=\"Validation\")\n",
    "plt.legend(loc=\"upper left\")\n",
    "plt.xlabel(\"Ensemble Size\")\n",
    "plt.ylabel(\"Model Accuracy\")\n",
    "plt.title(\"Accuracy comparison of training/validation set\")\n",
    "plt.show()"
   ]
  },
  {
   "cell_type": "raw",
   "metadata": {},
   "source": [
    "From above accuracy/validation plots for all hyper-parameters that has been used in the tuning, it is hence proved that this set of parameters are the right combination for highest accuracy."
   ]
  },
  {
   "cell_type": "code",
   "execution_count": 52,
   "metadata": {},
   "outputs": [
    {
     "name": "stdout",
     "output_type": "stream",
     "text": [
      "              precision    recall  f1-score   support\n",
      "\n",
      "           0       1.00      0.99      0.99        70\n",
      "           1       0.98      1.00      0.99        50\n",
      "\n",
      "   micro avg       0.99      0.99      0.99       120\n",
      "   macro avg       0.99      0.99      0.99       120\n",
      "weighted avg       0.99      0.99      0.99       120\n",
      "\n",
      "Confusion Matrix: \n",
      "[[69  1]\n",
      " [ 0 50]]\n"
     ]
    },
    {
     "data": {
      "image/png": "[encoded data removed]",
      "text/plain": [
       "<Figure size 576x576 with 1 Axes>"
      ]
     },
     "metadata": {
      "needs_background": "light"
     },
     "output_type": "display_data"
    }
   ],
   "source": [
    "#Confusion matrix, Accuracy\n",
    "print(classification_report(y_predict_test, rfclf.predict(x_feature_test)))\n",
    "#Confusion Matrix\n",
    "Confusion_matrix = confusion_matrix(y_predict_test, rfclf.predict(x_feature_test))\n",
    "print(\"Confusion Matrix: \")\n",
    "print(Confusion_matrix)\n",
    "fig, ax = plt.subplots(figsize=(8, 8))\n",
    "ax.imshow(Confusion_matrix)\n",
    "ax.grid(False)\n",
    "ax.xaxis.set(ticks=(0, 1), ticklabels=('Predicted 0s', 'Predicted 1s'))\n",
    "ax.yaxis.set(ticks=(0, 1), ticklabels=('Actual 0s', 'Actual 1s'))\n",
    "ax.set_ylim(1.5, -0.5)\n",
    "for i in range(2):\n",
    "    for j in range(2):\n",
    "        ax.text(j, i, Confusion_matrix[i, j], ha='center', va='center', color='red')\n",
    "plt.show()"
   ]
  },
  {
   "cell_type": "markdown",
   "metadata": {
    "colab_type": "text",
    "id": "gmRFTQ_ZTQNv"
   },
   "source": [
    "## Part 3: Discussion **(5 marks)**\n",
    "\n",
    "Based on the results obtained in Part-2, which classification method showed the best performance and why? Do you have any suggestions to further improve the model performances? **(5 marks)**"
   ]
  },
  {
   "cell_type": "raw",
   "metadata": {
    "colab": {},
    "colab_type": "code",
    "id": "AqAL_DmsT6oj"
   },
   "source": [
    "Based on the results, Random forest method showed the best performance with 99% accuracy on test set. In the test/validation plot, it shows high level of accuracy. In order to further improvement, dataset should be more tidy. The given data was quite limited in size for such a critical decision and amoing that data, there were significant amount of missing values and outliers which can impact the statistical and practical significance of the model.  "
   ]
  }
 ],
 "metadata": {
  "colab": {
   "collapsed_sections": [],
   "name": "A4.ipynb",
   "provenance": []
  },
  "kernelspec": {
   "display_name": "Python 3 (ipykernel)",
   "language": "python",
   "name": "python3"
  },
  "language_info": {
   "codemirror_mode": {
    "name": "ipython",
    "version": 3
   },
   "file_extension": ".py",
   "mimetype": "text/x-python",
   "name": "python",
   "nbconvert_exporter": "python",
   "pygments_lexer": "ipython3",
   "version": "3.7.1"
  }
 },
 "nbformat": 4,
 "nbformat_minor": 4
}
