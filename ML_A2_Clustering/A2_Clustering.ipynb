{
 "cells": [
  {
   "cell_type": "markdown",
   "metadata": {
    "colab_type": "text",
    "id": "es6VJF6zGpZi"
   },
   "source": [
    "#**Assessment Task 2 (30 marks)**\n",
    "\n",
    "##**Submission Instruction**\n",
    "1.  Student should insert Python code or text responses into the cell followed by the question.\n",
    "\n",
    "2.  For answers regarding discussion or explanation, **maximum five sentences are suggested**.\n",
    "\n",
    "3.  Rename this notebook file appending your student ID. For example, for student ID 1234, the submitted file name should be A2_1234.ipynb.\n",
    "\n",
    "4.  Insert your student ID and name in the following cell."
   ]
  },
  {
   "cell_type": "markdown",
   "metadata": {
    "colab_type": "text",
    "id": "oYFXM_D7HCHb"
   },
   "source": [
    "## Part 1: Clustering *(15 marks)*\n",
    "\n",
    "Let's assume you want to design an environment to predict a class/category from a dataset based on specific features of that class. However, all the features are not strong enough or in other words features not that much variance/uniqueness across the classes. So, you have to design a clustering model by answering the following questions:\n",
    "\n",
    "1. Download the attached clustering.csv file. Read the file and separate the class and feature matrix. __(2 marks)__"
   ]
  },
  {
   "cell_type": "code",
   "execution_count": null,
   "metadata": {},
   "outputs": [],
   "source": [
    "import pandas as pd\n",
    "import numpy as np\n",
    "from sklearn.cluster import KMeans\n",
    "from sklearn import cluster\n",
    "from sklearn.preprocessing import MinMaxScaler\n",
    "from sklearn.preprocessing import StandardScaler\n",
    "import matplotlib.pyplot as plt\n",
    "from pyclustering.cluster.kmeans import kmeans, kmeans_visualizer\n",
    "from pyclustering.cluster.center_initializer import kmeans_plusplus_initializer\n",
    "from pyclustering.utils.metric import distance_metric, type_metric\n",
    "from sklearn.feature_selection import SelectKBest\n",
    "from sklearn.feature_selection import f_classif\n",
    "from sklearn.feature_selection import chi2\n",
    "from numpy import set_printoptions\n",
    "from sklearn.preprocessing import scale\n",
    "from sklearn.decomposition import PCA\n",
    "from pyclustering.cluster.encoder import type_encoding, cluster_encoder\n",
    "original_data=pd.read_csv('clustering.csv')\n",
    "data=original_data.copy()"
   ]
  },
  {
   "cell_type": "code",
   "execution_count": 2,
   "metadata": {
    "colab": {},
    "colab_type": "code",
    "id": "crKN9O9jKi4w"
   },
   "outputs": [],
   "source": [
    "x_feature,y_class=data.iloc[:,:-1],data.iloc[:,-1]\n",
    "#x_feature,y_class=np.matrix(data.iloc[:,:-1]),np.matrix(data.iloc[:,-1])\n",
    "#x_feature_1=data.iloc[:,:-1]\n"
   ]
  },
  {
   "cell_type": "markdown",
   "metadata": {},
   "source": [
    "2. Determine the number of clusters from the dataset. Is this same as the actual number of classes in the dataset? (1 marks)"
   ]
  },
  {
   "cell_type": "code",
   "execution_count": 4,
   "metadata": {
    "colab": {},
    "colab_type": "code",
    "id": "WFia7uNt5POP",
    "scrolled": false
   },
   "outputs": [
    {
     "data": {
      "image/png": "[encoded data removed]",
      "text/plain": [
       "<Figure size 432x288 with 1 Axes>"
      ]
     },
     "metadata": {
      "needs_background": "light"
     },
     "output_type": "display_data"
    },
    {
     "name": "stdout",
     "output_type": "stream",
     "text": [
      "As the value of k is straighting up at position 3, so the number of clusters are same as per number of classes in the dataset\n"
     ]
    }
   ],
   "source": [
    "mms = MinMaxScaler()\n",
    "mms.fit(x_feature)\n",
    "data_transformed = mms.transform(x_feature)\n",
    "\n",
    "Distance = []\n",
    "K = range(1,15)\n",
    "for k in K:\n",
    "    km = KMeans(n_clusters=k)\n",
    "    km = km.fit(data_transformed)\n",
    "    Distance.append(km.inertia_)\n",
    "plt.plot(K, Distance, 'g.-')\n",
    "plt.xlabel('k')\n",
    "plt.ylabel('Distance')\n",
    "plt.title('Elbow Method For Optimal k')\n",
    "plt.show()\n",
    "print(\"As the value of k is straighting up at position 3, so the number of clusters are same as per number of classes in the dataset\")"
   ]
  },
  {
   "cell_type": "markdown",
   "metadata": {
    "colab_type": "text",
    "id": "lomdzPf33Ga8"
   },
   "source": [
    "3. Perform K-Means clustering on the complete dataset and report purity score. __(2 marks)__ "
   ]
  },
  {
   "cell_type": "code",
   "execution_count": 5,
   "metadata": {},
   "outputs": [
    {
     "name": "stdout",
     "output_type": "stream",
     "text": [
      "[0 0 0 0 0 0 0 0 0 0 0 0 0 0 0 0 2 0 0 2 0 0 0 0 0 0 2 0 0 0 0 0 0 0 0 0 0\n",
      " 1 0 2 0 0 0 0 0 0 0 0 0 0 0 0 0 0 0 0 0 0 0 0 2 2 2 2 0 0 0 0 0 2 1 1 1 1\n",
      " 1 1 1 1 1 1 1 1 1 1 1 1 1 1 1 1 1 1 1 1 1 1 1 1 1 1 0 1 1 1 1 1 1 1 1 1 1\n",
      " 1 1 1 1 1 1 1 1 1 1 1 0 1 0 1 1 1 1 1 1 1 0 0 0 0 1 0 0 0 2 2 2 2 2 2 2 2\n",
      " 2 2 2 2 2 2 2 2 2 2 2 2 2 2 2 2 2 2 2 2 2 2 2 2 2 2 2 2 2 2 2 0 2 2 2 2 2\n",
      " 2 2 2 2 2 2 2 2 2 2 2 2 2 2 2 2 0 2 2 2 2 2 2 2 2]\n",
      "col_0   0   1   2\n",
      "Class            \n",
      "0      60   1   9\n",
      "1      10  60   0\n",
      "2       2   0  68\n",
      "Purity value is:  0.8952380952380953\n"
     ]
    }
   ],
   "source": [
    "kmeans_1=KMeans(n_clusters=3)\n",
    "cluster_predict=kmeans_1.fit_predict(x_feature)\n",
    "centroids=kmeans_1.cluster_centers_\n",
    "labels=kmeans_1.labels_\n",
    "print(cluster_predict)\n",
    "\n",
    "#Creating Confusion matrix for purity calculation\n",
    "\n",
    "c_matrix=pd.crosstab(y_class,cluster_predict)\n",
    "print(c_matrix)\n",
    "purity_org=sum(c_matrix.max(axis=1))/c_matrix.sum().sum()\n",
    "print(\"Purity value is: \",purity_org)"
   ]
  },
  {
   "cell_type": "markdown",
   "metadata": {
    "colab_type": "text",
    "id": "CsImMLOzK1dV"
   },
   "source": [
    "4. There are several distance metrics for  K-Means such as euclidean, squared euclidean, Manhattan, Chebyshev, Minkowski. [ __Hints:__ See the pyclustering library for python.]\n",
    "    - Your job is to compare the purity score of k-means clustering for different distance metrics. __(5 marks)__ \n",
    "    - Select the best distance metric and explain why this distance metric is best for the given dataset. __(2 marks)__ "
   ]
  },
  {
   "cell_type": "code",
   "execution_count": 6,
   "metadata": {
    "scrolled": false
   },
   "outputs": [
    {
     "name": "stdout",
     "output_type": "stream",
     "text": [
      "[2 2 2 2 2 2 2 2 2 2 2 2 2 2 2 2 0 2 2 0 2 2 2 0 2 2 0 0 2 2 2 2 2 2 2 2 2\n",
      " 1 2 0 2 2 2 2 2 2 2 2 2 2 2 2 2 2 2 2 2 2 2 0 0 0 0 0 2 2 2 2 2 0 1 1 1 1\n",
      " 1 1 1 1 1 1 1 1 1 1 1 1 1 1 1 1 1 1 1 1 1 1 1 1 1 1 2 1 1 1 1 1 1 1 1 1 1\n",
      " 1 1 1 1 1 1 1 1 1 1 1 2 1 2 1 1 1 1 1 1 1 2 2 2 2 1 2 2 2 0 0 0 0 0 0 0 0\n",
      " 0 0 0 0 0 0 0 0 0 0 0 0 0 0 0 0 0 0 0 0 0 0 0 0 0 0 0 0 0 0 0 0 0 0 0 0 0\n",
      " 0 0 0 0 0 0 0 0 0 0 0 0 0 0 0 0 0 0 0 0 0 0 0 0 0]\n",
      "col_0   0   1   2\n",
      "Class            \n",
      "0      12   1  57\n",
      "1       0  60  10\n",
      "2      70   0   0\n",
      "Purity value is:  0.8904761904761904\n"
     ]
    }
   ],
   "source": [
    "#Euclidean Distance\n",
    "initial_centers = kmeans_plusplus_initializer(x_feature, 3).initialize()\n",
    "euclidean_metric = distance_metric(type_metric.EUCLIDEAN)\n",
    "kmeans_instance= kmeans(x_feature, initial_centers, metric=euclidean_metric)\n",
    "#kmeans_instance = kmeans(x_feature, initial_centers)\n",
    "kmeans_instance.process()\n",
    "clusters = kmeans_instance.get_clusters()\n",
    "\n",
    "type_repr = kmeans_instance.get_cluster_encoding()\n",
    "encoder = cluster_encoder(type_repr, clusters,x_feature)\n",
    "encoder.set_encoding(type_encoding.CLUSTER_INDEX_LABELING)\n",
    "label_ec=np.array(encoder.get_clusters())\n",
    "print(label_ec)\n",
    "\n",
    "\n",
    "c_matrix_e=pd.crosstab(y_class,label_ec)\n",
    "print(c_matrix_e)\n",
    "purity_ec=sum(c_matrix_e.max(axis=1))/c_matrix_e.sum().sum()\n",
    "print(\"Purity value is: \",purity_ec)\n"
   ]
  },
  {
   "cell_type": "code",
   "execution_count": 7,
   "metadata": {},
   "outputs": [
    {
     "name": "stdout",
     "output_type": "stream",
     "text": [
      "[2 2 2 2 2 2 2 2 2 2 2 2 2 2 2 2 0 2 2 0 2 2 2 0 2 2 0 0 2 2 2 2 2 2 2 2 2\n",
      " 1 2 0 2 2 2 2 2 2 2 2 2 2 2 2 2 2 2 2 2 2 2 0 0 0 0 0 2 2 2 2 2 0 1 1 1 1\n",
      " 1 1 1 1 1 1 1 1 1 1 1 1 1 1 1 1 1 1 1 1 1 1 1 1 1 1 2 1 1 1 1 1 1 1 1 1 1\n",
      " 1 1 1 1 1 1 1 1 1 1 1 2 1 2 1 1 1 1 1 1 1 2 2 2 2 1 2 2 2 0 0 0 0 0 0 0 0\n",
      " 0 0 0 0 0 0 0 0 0 0 0 0 0 0 0 0 0 0 0 0 0 0 0 0 0 0 0 0 0 0 0 0 0 0 0 0 0\n",
      " 0 0 0 0 0 0 0 0 0 0 0 0 0 0 0 0 0 0 0 0 0 0 0 0 0]\n",
      "col_0   0   1   2\n",
      "Class            \n",
      "0      12   1  57\n",
      "1       0  60  10\n",
      "2      70   0   0\n",
      "Purity value is:  0.8904761904761904\n"
     ]
    }
   ],
   "source": [
    "#Euclidean Square Distance\n",
    "initial_centers = kmeans_plusplus_initializer(x_feature, 3).initialize()\n",
    "euclidean_metric = distance_metric(type_metric.EUCLIDEAN_SQUARE)\n",
    "kmeans_instance= kmeans(x_feature, initial_centers, metric=euclidean_metric)\n",
    "#kmeans_instance = kmeans(x_feature, initial_centers)\n",
    "kmeans_instance.process()\n",
    "clusters = kmeans_instance.get_clusters()\n",
    "\n",
    "type_repr = kmeans_instance.get_cluster_encoding()\n",
    "encoder = cluster_encoder(type_repr, clusters,x_feature)\n",
    "encoder.set_encoding(type_encoding.CLUSTER_INDEX_LABELING)\n",
    "label_ec=np.array(encoder.get_clusters())\n",
    "print(label_ec)\n",
    "\n",
    "\n",
    "c_matrix_e=pd.crosstab(y_class,label_ec)\n",
    "print(c_matrix_e)\n",
    "purity_ec_2=sum(c_matrix_e.max(axis=1))/c_matrix_e.sum().sum()\n",
    "print(\"Purity value is: \",purity_ec_2)\n"
   ]
  },
  {
   "cell_type": "code",
   "execution_count": 8,
   "metadata": {},
   "outputs": [
    {
     "name": "stdout",
     "output_type": "stream",
     "text": [
      "[2 2 2 2 2 2 2 2 2 2 2 2 2 2 2 2 0 2 2 0 2 2 2 0 2 2 0 0 2 2 2 2 2 2 2 2 2\n",
      " 1 2 0 2 2 2 2 2 2 2 2 2 2 2 2 2 2 2 2 2 2 2 0 0 0 0 0 2 2 2 2 2 0 1 1 1 1\n",
      " 1 1 1 1 1 1 1 1 1 1 1 1 1 1 1 1 1 1 1 1 1 1 1 1 1 1 2 1 1 1 1 1 1 1 1 1 1\n",
      " 1 1 1 1 1 1 1 1 1 1 1 2 1 2 1 1 1 1 1 1 1 2 2 2 2 1 2 2 2 0 0 0 0 0 0 0 0\n",
      " 0 0 0 0 0 0 0 0 0 0 0 0 0 0 0 0 0 0 0 0 0 0 0 0 0 0 0 0 0 0 0 0 0 0 0 0 0\n",
      " 0 0 0 0 0 0 0 0 0 0 0 0 0 0 0 0 0 0 0 0 0 0 0 0 0]\n",
      "col_0   0   1   2\n",
      "Class            \n",
      "0      14   0  56\n",
      "1       0  58  12\n",
      "2      70   0   0\n",
      "Purity value is:  0.8761904761904762\n"
     ]
    }
   ],
   "source": [
    "#Manhattan Distance\n",
    "initial_centers = kmeans_plusplus_initializer(x_feature, 3).initialize()\n",
    "manhattan_metric = distance_metric(type_metric.MANHATTAN)\n",
    "kmeans_instance = kmeans(x_feature, initial_centers, metric=manhattan_metric)\n",
    "#kmeans_instance = kmeans(x_feature, initial_centers)\n",
    "kmeans_instance.process()\n",
    "clusters_man = kmeans_instance.get_clusters()\n",
    "#final_centers = kmeans_instance.get_centers()\n",
    "\n",
    "type_repr = kmeans_instance.get_cluster_encoding()\n",
    "encoder = cluster_encoder(type_repr, clusters_man,x_feature)\n",
    "encoder.set_encoding(type_encoding.CLUSTER_INDEX_LABELING)\n",
    "label_man=np.array(encoder.get_clusters())\n",
    "print(label_ec)\n",
    "\n",
    "\n",
    "c_matrix_man=pd.crosstab(y_class,label_man)\n",
    "print(c_matrix_man)\n",
    "purity_man=sum(c_matrix_man.max(axis=1))/c_matrix_man.sum().sum()\n",
    "print(\"Purity value is: \",purity_man)\n"
   ]
  },
  {
   "cell_type": "code",
   "execution_count": 9,
   "metadata": {},
   "outputs": [
    {
     "name": "stdout",
     "output_type": "stream",
     "text": [
      "[2 2 2 2 2 2 2 2 1 2 2 2 2 2 2 2 0 2 2 0 2 2 2 2 2 2 0 2 2 2 2 2 2 2 2 2 2\n",
      " 1 2 0 2 2 2 2 2 2 2 2 2 2 2 1 2 2 2 2 2 2 2 2 0 0 0 0 2 2 2 2 2 0 1 1 1 1\n",
      " 1 1 1 1 1 1 1 1 1 1 1 1 1 1 1 1 1 1 1 1 1 1 1 1 1 1 2 1 1 1 1 1 1 1 1 1 1\n",
      " 1 1 1 1 1 1 1 1 1 1 1 2 1 2 1 1 1 1 1 1 1 2 2 2 2 1 2 2 2 0 0 0 0 0 0 0 0\n",
      " 0 0 0 0 0 0 0 0 0 0 0 0 0 0 0 0 0 2 0 0 0 0 0 0 0 0 0 0 0 0 0 2 0 0 0 0 0\n",
      " 0 0 0 0 0 0 0 0 0 0 0 0 0 0 2 0 2 0 0 0 0 0 0 0 0]\n",
      "col_0   0   1   2\n",
      "Class            \n",
      "0       9   3  58\n",
      "1       0  60  10\n",
      "2      66   0   4\n",
      "Purity value is:  0.8761904761904762\n"
     ]
    }
   ],
   "source": [
    "#Chebyshev Distance\n",
    "initial_centers = kmeans_plusplus_initializer(x_feature, 3).initialize()\n",
    "chebyshev_metric = distance_metric(type_metric.CHEBYSHEV)\n",
    "kmeans_instance = kmeans(x_feature, initial_centers, metric=chebyshev_metric)\n",
    "#kmeans_instance = kmeans(x_feature, initial_centers)\n",
    "kmeans_instance.process()\n",
    "clusters_ch = kmeans_instance.get_clusters()\n",
    "final_centers = kmeans_instance.get_centers()\n",
    "clusters\n",
    "\n",
    "\n",
    "type_repr = kmeans_instance.get_cluster_encoding()\n",
    "encoder = cluster_encoder(type_repr, clusters_ch,x_feature)\n",
    "encoder.set_encoding(type_encoding.CLUSTER_INDEX_LABELING)\n",
    "label_ch=np.array(encoder.get_clusters())\n",
    "print(label_ch)\n",
    "\n",
    "c_matrix_ch=pd.crosstab(y_class,label_ch)\n",
    "print(c_matrix_ch)\n",
    "purity_Ch=sum(c_matrix_ch.max(axis=1))/c_matrix_ch.sum().sum()\n",
    "print(\"Purity value is: \",purity_Ch)\n"
   ]
  },
  {
   "cell_type": "code",
   "execution_count": 10,
   "metadata": {},
   "outputs": [
    {
     "name": "stdout",
     "output_type": "stream",
     "text": [
      "[2 2 2 2 2 2 2 2 2 2 2 2 2 2 2 2 0 2 2 0 2 2 2 2 2 2 0 2 2 2 2 2 2 2 2 2 2\n",
      " 1 2 0 2 2 2 2 2 2 2 2 2 2 2 2 2 2 2 2 2 2 2 2 0 0 0 0 2 2 2 2 2 0 1 1 1 1\n",
      " 1 1 1 1 1 1 1 1 1 1 1 1 1 1 1 1 1 1 1 1 1 1 1 1 1 1 2 1 1 1 1 1 1 1 1 1 1\n",
      " 1 1 1 1 1 1 1 1 1 1 1 2 1 2 1 1 1 1 1 1 1 2 2 2 2 1 2 2 2 0 0 0 0 0 0 0 0\n",
      " 0 0 0 0 0 0 0 0 0 0 0 0 0 0 0 0 0 2 0 0 0 0 0 0 0 0 0 0 0 0 0 2 0 0 0 0 0\n",
      " 0 0 0 0 0 0 0 0 0 0 0 0 0 0 2 0 2 0 0 0 0 0 0 0 0]\n",
      "col_0   0   1   2\n",
      "Class            \n",
      "0       9   1  60\n",
      "1       0  60  10\n",
      "2      66   0   4\n",
      "Purity value is:  0.8857142857142857\n"
     ]
    }
   ],
   "source": [
    "#Minkwoski Distance\n",
    "initial_centers = kmeans_plusplus_initializer(x_feature, 3).initialize()\n",
    "minkwoski_metric = distance_metric(type_metric.MINKOWSKI, degree=4)\n",
    "kmeans_instance = kmeans(x_feature, initial_centers, metric=minkwoski_metric)\n",
    "#kmeans_instance = kmeans(x_feature, initial_centers)\n",
    "kmeans_instance.process()\n",
    "clusters_min = kmeans_instance.get_clusters()\n",
    "final_centers = kmeans_instance.get_centers()\n",
    "clusters\n",
    "\n",
    "type_repr = kmeans_instance.get_cluster_encoding()\n",
    "encoder = cluster_encoder(type_repr, clusters_min,x_feature)\n",
    "encoder.set_encoding(type_encoding.CLUSTER_INDEX_LABELING)\n",
    "label_min=np.array(encoder.get_clusters())\n",
    "print(label_min)\n",
    "\n",
    "c_matrix_min=pd.crosstab(y_class,label_min)\n",
    "print(c_matrix_min)\n",
    "purity_min=sum(c_matrix_min.max(axis=1))/c_matrix_min.sum().sum()\n",
    "print(\"Purity value is: \",purity_min)"
   ]
  },
  {
   "cell_type": "code",
   "execution_count": 11,
   "metadata": {},
   "outputs": [
    {
     "name": "stdout",
     "output_type": "stream",
     "text": [
      "Purity value for Euclidean Distance is:  0.8904761904761904\n",
      "Purity value for Euclidean Square Distance is:  0.8904761904761904\n",
      "Purity value Manhattan Distance is:  0.8761904761904762\n",
      "Purity value Chebyshv Distance is:  0.8761904761904762\n",
      "Purity value for Minskowski Distance is:  0.8857142857142857\n",
      "Base on purity score the highest values in achieved by Euclidean Square and it is recommended for this data set. Euclidean square does not Sq.root as Euclidean, so clustering with Euclidean Sq is much faster than Euclidean.\n"
     ]
    }
   ],
   "source": [
    "print(\"Purity value for Euclidean Distance is: \",purity_ec)\n",
    "print(\"Purity value for Euclidean Square Distance is: \",purity_ec_2)\n",
    "print(\"Purity value Manhattan Distance is: \",purity_man)\n",
    "print(\"Purity value Chebyshv Distance is: \",purity_Ch)\n",
    "print(\"Purity value for Minskowski Distance is: \",purity_min)\n",
    "print(\"Base on purity score the highest values in achieved by Euclidean Square and it is recommended for this data set. Euclidean square does not Sq.root as Euclidean, so clustering with Euclidean Sq is much faster than Euclidean.\")"
   ]
  },
  {
   "cell_type": "raw",
   "metadata": {
    "colab_type": "text",
    "id": "xsG5SQti4b7E"
   },
   "source": [
    "# 5. Use selection criteria (ANOVA, Chi-squared) to select best three features and use them for K-Means clustering. Based on the purity score which feature set are you going to recommend and why? __(3 marks)__"
   ]
  },
  {
   "cell_type": "code",
   "execution_count": 12,
   "metadata": {
    "colab": {},
    "colab_type": "code",
    "id": "9lCTzujBKpL4"
   },
   "outputs": [
    {
     "name": "stdout",
     "output_type": "stream",
     "text": [
      "Three Best Feature list by ANOVA: \n",
      "  Feature list       Score\n",
      "0       height  548.186479\n",
      "1       length  541.579497\n",
      "4          min  406.302031\n",
      "Three Best Feature list by Chi-Square: \n",
      "  Feature list       Score\n",
      "0       height  100.248555\n",
      "5          max   42.639382\n",
      "1       length   20.554840\n"
     ]
    }
   ],
   "source": [
    "#ANOVA F Method\n",
    "\n",
    "Anova = SelectKBest(f_classif, k=3)\n",
    "fit = Anova.fit(x_feature, y_class)\n",
    "score=fit.scores_\n",
    "score_1=pd.DataFrame(score,columns=['Score'])\n",
    "Lables=pd.DataFrame(x_feature.columns,columns=[\"Feature list\"])\n",
    "Combo=pd.concat([Lables,score_1],axis=1)\n",
    "print(\"Three Best Feature list by ANOVA: \")\n",
    "print(Combo.nlargest(3,'Score'))\n",
    "\n",
    "chi_2 = SelectKBest(chi2, k=3)\n",
    "fit_2 = chi_2.fit(x_feature,y_class)\n",
    "score_chi=fit_2.scores_\n",
    "score_chi_pd=pd.DataFrame(score_chi,columns=['Score'])\n",
    "Lables_chi=pd.DataFrame(x_feature.columns,columns=[\"Feature list\"])\n",
    "Combo_chi=pd.concat([Lables_chi,score_chi_pd],axis=1)\n",
    "print(\"Three Best Feature list by Chi-Square: \")\n",
    "print(Combo_chi.nlargest(3,'Score'))"
   ]
  },
  {
   "cell_type": "code",
   "execution_count": 13,
   "metadata": {},
   "outputs": [
    {
     "data": {
      "image/png": "[encoded data removed]",
      "text/plain": [
       "<Figure size 432x288 with 1 Axes>"
      ]
     },
     "metadata": {
      "needs_background": "light"
     },
     "output_type": "display_data"
    }
   ],
   "source": [
    "#Running elbow method on feature set recommended by ANOVA to determine number of cluster\n",
    "x_feature,y_class=data[['height','length','min']],data['Class']\n",
    "mms = MinMaxScaler()\n",
    "mms.fit(x_feature)\n",
    "data_transformed = mms.transform(x_feature)\n",
    "\n",
    "Distance = []\n",
    "K = range(1,15)\n",
    "for k in K:\n",
    "    km = KMeans(n_clusters=k)\n",
    "    km = km.fit(data_transformed)\n",
    "    Distance.append(km.inertia_)\n",
    "plt.plot(K, Distance, 'g.-')\n",
    "plt.xlabel('k')\n",
    "plt.ylabel('Distance')\n",
    "plt.title('Elbow Method For Optimal k')\n",
    "plt.show()"
   ]
  },
  {
   "cell_type": "code",
   "execution_count": 14,
   "metadata": {},
   "outputs": [
    {
     "data": {
      "image/png": "[encoded data removed]",
      "text/plain": [
       "<Figure size 432x288 with 1 Axes>"
      ]
     },
     "metadata": {
      "needs_background": "light"
     },
     "output_type": "display_data"
    }
   ],
   "source": [
    "#Running elbow method on feature set recommended by CHI2 to determine number of cluster\n",
    "x_feature,y_class=data[['height','length','max']],data['Class']\n",
    "mms = MinMaxScaler()\n",
    "mms.fit(x_feature)\n",
    "data_transformed = mms.transform(x_feature)\n",
    "\n",
    "Distance = []\n",
    "K = range(1,15)\n",
    "for k in K:\n",
    "    km = KMeans(n_clusters=k)\n",
    "    km = km.fit(data_transformed)\n",
    "    Distance.append(km.inertia_)\n",
    "plt.plot(K, Distance, 'g.-')\n",
    "plt.xlabel('k')\n",
    "plt.ylabel('Distance')\n",
    "plt.title('Elbow Method For Optimal k')\n",
    "plt.show()"
   ]
  },
  {
   "cell_type": "code",
   "execution_count": 15,
   "metadata": {},
   "outputs": [
    {
     "name": "stdout",
     "output_type": "stream",
     "text": [
      "[1 1 1 1 1 1 1 1 1 1 1 1 1 1 1 1 1 1 1 2 1 1 1 2 1 1 2 2 1 2 2 1 1 1 1 1 1\n",
      " 0 1 1 2 2 2 1 1 1 1 1 1 1 1 1 1 1 1 1 1 1 1 2 2 2 2 2 2 2 1 1 1 2 0 1 0 0\n",
      " 1 1 0 0 0 0 1 0 0 0 0 0 0 0 0 0 0 0 0 0 0 1 0 0 0 0 1 0 0 0 0 0 0 0 0 0 0\n",
      " 0 0 0 0 0 0 0 0 0 0 0 1 0 1 0 0 0 0 0 0 0 1 1 1 1 0 1 1 1 2 2 2 2 2 2 2 2\n",
      " 2 2 2 2 2 2 2 2 2 2 2 2 2 2 2 2 2 2 2 2 2 2 2 2 2 2 2 2 2 2 2 2 2 2 2 2 2\n",
      " 2 2 2 2 2 2 2 2 2 2 2 2 2 2 2 2 2 2 2 2 2 2 2 2 2]\n",
      "col_0   0   1   2\n",
      "Class            \n",
      "0       1  52  17\n",
      "1      55  15   0\n",
      "2       0   0  70\n",
      "Purity value for featureset by Anova is:  0.8428571428571429\n",
      "[1 1 1 1 1 1 1 1 1 1 1 1 1 1 1 1 0 1 1 0 1 1 1 1 1 1 0 1 1 1 1 1 1 1 1 1 1\n",
      " 2 1 0 1 1 1 1 1 1 1 1 1 1 1 1 1 1 1 1 1 1 1 1 0 0 0 0 1 1 1 1 1 0 2 2 2 2\n",
      " 2 2 2 2 2 2 2 2 2 2 2 2 2 2 2 2 2 2 2 2 2 2 2 2 2 2 1 2 2 2 2 2 2 2 2 2 2\n",
      " 2 2 2 2 2 2 2 2 2 2 2 1 2 1 2 2 2 2 2 2 2 1 1 1 1 2 1 1 1 0 0 0 0 0 0 0 0\n",
      " 0 0 0 0 0 0 0 0 0 0 0 0 0 0 0 0 0 0 0 0 0 0 0 0 0 0 0 0 0 0 0 1 0 0 0 0 0\n",
      " 0 0 0 0 0 0 0 0 0 0 0 0 0 0 0 0 1 0 0 0 0 0 0 0 0]\n",
      "col_0   0   1   2\n",
      "Class            \n",
      "0       9  60   1\n",
      "1       0  10  60\n",
      "2      68   2   0\n",
      "Purity value for featureset by Chi Square is:  0.8952380952380953\n",
      "Based o purity report feature set by Chi2 is recommended\n"
     ]
    }
   ],
   "source": [
    "#From above we can see that recommended number of cluster are 03 for both methods\n",
    "#Running Kmeans\n",
    "#kmeans using best features by ANOVA\n",
    "#Selecting feature as highlighted by ANOVA\n",
    "x_feature,y_class=data[['height','length','min']],data['Class']\n",
    "#Running Kmeans\n",
    "kmeans=KMeans(n_clusters=3)\n",
    "cluster_predict=kmeans.fit_predict(x_feature)\n",
    "centroids=kmeans.cluster_centers_\n",
    "labels=kmeans.labels_\n",
    "print(cluster_predict)\n",
    "\n",
    "#Creating Confusion matrix for purity calculation\n",
    "\n",
    "c_matrix=pd.crosstab(y_class,cluster_predict)\n",
    "print(c_matrix)\n",
    "purity=sum(c_matrix.max(axis=1))/c_matrix.sum().sum()\n",
    "print(\"Purity value for featureset by Anova is: \",purity)\n",
    "\n",
    "#Selecting feature as highlighted by CHI2\n",
    "x_feature,y_class=data[['height','length','max']],data['Class']\n",
    "\n",
    "#Running Kmeans\n",
    "kmeans=KMeans(n_clusters=3)\n",
    "cluster_predict=kmeans.fit_predict(x_feature)\n",
    "centroids=kmeans.cluster_centers_\n",
    "labels=kmeans.labels_\n",
    "print(cluster_predict)\n",
    "\n",
    "#Creating Confusion matrix for purity calculation\n",
    "\n",
    "c_matrix=pd.crosstab(y_class,cluster_predict)\n",
    "print(c_matrix)\n",
    "purity=sum(c_matrix.max(axis=1))/c_matrix.sum().sum()\n",
    "print(\"Purity value for featureset by Chi Square is: \",purity)\n",
    "print(\"Based o purity report feature set by Chi2 is recommended\")"
   ]
  },
  {
   "cell_type": "markdown",
   "metadata": {
    "colab_type": "text",
    "id": "Key1p4RKLEW9"
   },
   "source": [
    "# Part-2 (Dimensionality Reduction using PCA/SVD) *(15 marks)*\n",
    "\n",
    "1. For the dataset (clustering.csv), perform PCA.\n",
    "    - plot the captured variance with respect to increasing latent dimensionality. __(2.5 marks)__\n",
    "  \n",
    "  What is the minimum dimension that captures:\n",
    "    - at least 89% variance? __(1.5 marks)__\n",
    "    - at least 99% variance? __(1 marks)__"
   ]
  },
  {
   "cell_type": "code",
   "execution_count": 16,
   "metadata": {
    "colab": {},
    "colab_type": "code",
    "id": "EkJU33yYKpen"
   },
   "outputs": [
    {
     "name": "stdout",
     "output_type": "stream",
     "text": [
      "[64.84 86.06 94.55 99.17 99.73 99.92 99.99]\n",
      "Minumum Number of Dimensions that Capture 89% Variance are : 02\n",
      "Minumum Number of Dimensions that Capture 99% Variance are : 04\n"
     ]
    },
    {
     "name": "stderr",
     "output_type": "stream",
     "text": [
      "C:\\Users\\kazim\\Anaconda3\\lib\\site-packages\\ipykernel_launcher.py:1: DataConversionWarning: Data with input dtype int64, float64 were all converted to float64 by the scale function.\n",
      "  \"\"\"Entry point for launching an IPython kernel.\n"
     ]
    },
    {
     "data": {
      "image/png": "[encoded data removed]",
      "text/plain": [
       "<Figure size 432x288 with 1 Axes>"
      ]
     },
     "metadata": {
      "needs_background": "light"
     },
     "output_type": "display_data"
    }
   ],
   "source": [
    "Xnorm = scale(data)\n",
    "pca = PCA(n_components=7)\n",
    "pca.fit(Xnorm)\n",
    "PCA(copy=True, iterated_power='auto', n_components=7, random_state=None,\n",
    "  svd_solver='auto', tol=0.0, whiten=False)\n",
    "var= pca.explained_variance_ratio_\n",
    "#print(var)\n",
    "var1=np.cumsum(np.round(pca.explained_variance_ratio_, decimals=4)*100)\n",
    "print(var1)\n",
    "#var_2=89\n",
    "plt.plot(var1)\n",
    "plt.axhline(y=89, color='b', linestyle='dashed', linewidth=3)\n",
    "plt.axhline(y=99, color='g', linestyle='dashed', linewidth=3)\n",
    "\n",
    "# Slice list to remove first handle\n",
    "#plt.legend(handles = handles[1:], labels = labels)\n",
    "plt.xlabel(\"Principal components\")\n",
    "plt.ylabel(\"Variance captured\")\n",
    "print(\"Minumum Number of Dimensions that Capture 89% Variance are : 02\")\n",
    "print(\"Minumum Number of Dimensions that Capture 99% Variance are : 04\")"
   ]
  },
  {
   "cell_type": "markdown",
   "metadata": {
    "colab_type": "text",
    "id": "x9JPYP0vLKzp"
   },
   "source": [
    "2. Determine the purity of clusters formed by the number of principal components which captured 89% and 99% variances respectively. Plot a line graph of the purity scores against the captured variances. Discuss your findings. __(7 marks)__"
   ]
  },
  {
   "cell_type": "code",
   "execution_count": 17,
   "metadata": {},
   "outputs": [
    {
     "data": {
      "image/png": "[encoded data removed]",
      "text/plain": [
       "<Figure size 432x288 with 1 Axes>"
      ]
     },
     "metadata": {
      "needs_background": "light"
     },
     "output_type": "display_data"
    }
   ],
   "source": [
    "#89% Variance captures 02 dimensions, so creating new dataset with 02 dimensions and determing number of clusters\n",
    "x_feature_89,y_class=data[['height','length']],data['Class']\n",
    "mms = MinMaxScaler()\n",
    "mms.fit(x_feature_89)\n",
    "data_transformed = mms.transform(x_feature_89)\n",
    "\n",
    "Distance = []\n",
    "K = range(1,15)\n",
    "for k in K:\n",
    "    km = KMeans(n_clusters=k)\n",
    "    km = km.fit(data_transformed)\n",
    "    Distance.append(km.inertia_)\n",
    "plt.plot(K, Distance, 'g.-')\n",
    "plt.xlabel('k')\n",
    "plt.ylabel('Distance')\n",
    "plt.title('Elbow Method For Optimal k')\n",
    "plt.show()"
   ]
  },
  {
   "cell_type": "code",
   "execution_count": 18,
   "metadata": {},
   "outputs": [
    {
     "data": {
      "image/png": "[encoded data removed]",
      "text/plain": [
       "<Figure size 432x288 with 1 Axes>"
      ]
     },
     "metadata": {
      "needs_background": "light"
     },
     "output_type": "display_data"
    }
   ],
   "source": [
    "#99% Variance captures 04 dimensions, so creating new dataset with 02 dimensions and determing number of clusters\n",
    "x_feature_99,y_class=data[['height','length','min','max']],data['Class']\n",
    "mms = MinMaxScaler()\n",
    "mms.fit(x_feature_99)\n",
    "data_transformed = mms.transform(x_feature_99)\n",
    "\n",
    "Distance = []\n",
    "K = range(1,15)\n",
    "for k in K:\n",
    "    km = KMeans(n_clusters=k)\n",
    "    km = km.fit(data_transformed)\n",
    "    Distance.append(km.inertia_)\n",
    "plt.plot(K, Distance, 'g.-')\n",
    "plt.xlabel('k')\n",
    "plt.ylabel('Distance')\n",
    "plt.title('Elbow Method For Optimal k')\n",
    "plt.show()"
   ]
  },
  {
   "cell_type": "code",
   "execution_count": 19,
   "metadata": {
    "colab": {},
    "colab_type": "code",
    "id": "8_a-xp2PKpya"
   },
   "outputs": [
    {
     "name": "stdout",
     "output_type": "stream",
     "text": [
      "[2 2 2 2 2 2 2 2 2 2 2 2 2 2 2 2 2 2 2 0 2 2 2 0 2 2 0 0 2 0 0 2 2 2 2 2 2\n",
      " 2 2 2 0 0 0 2 2 2 2 2 2 2 2 2 2 2 2 2 2 2 2 0 0 0 0 0 0 0 2 2 2 0 1 2 1 1\n",
      " 2 2 1 1 1 1 2 1 1 1 1 1 1 1 1 1 1 1 1 1 1 2 1 1 1 1 2 1 1 1 1 1 1 1 1 1 1\n",
      " 1 1 1 1 1 1 1 1 1 1 1 2 1 2 1 1 1 1 1 1 1 2 2 2 2 1 2 2 2 0 0 0 0 0 0 0 0\n",
      " 0 0 0 0 0 0 0 0 0 0 0 0 0 0 0 0 0 0 0 0 0 0 0 0 0 0 0 0 0 0 0 0 0 0 0 0 0\n",
      " 0 0 0 0 0 0 0 0 0 0 0 0 0 0 0 0 0 0 0 0 0 0 0 0 0]\n",
      "col_0   0   1   2\n",
      "Class            \n",
      "0      17   0  53\n",
      "1       0  55  15\n",
      "2      70   0   0\n",
      "Purity value is:  0.8476190476190476\n"
     ]
    }
   ],
   "source": [
    "#Recomended number of clusters for both 89% and 99% are 03, so performing kmeans with cluters=3\n",
    "#89% Variance\n",
    "kmeans=KMeans(n_clusters=3)\n",
    "cluster_predict=kmeans.fit_predict(x_feature_89)\n",
    "centroids=kmeans.cluster_centers_\n",
    "labels=kmeans.labels_\n",
    "print(cluster_predict)\n",
    "\n",
    "#Creating Confusion matrix for purity calculation\n",
    "\n",
    "c_matrix=pd.crosstab(y_class,cluster_predict)\n",
    "print(c_matrix)\n",
    "purity_89=sum(c_matrix.max(axis=1))/c_matrix.sum().sum()\n",
    "print(\"Purity value is: \",purity_89)"
   ]
  },
  {
   "cell_type": "code",
   "execution_count": 20,
   "metadata": {},
   "outputs": [
    {
     "name": "stdout",
     "output_type": "stream",
     "text": [
      "[0 0 0 0 0 0 0 0 0 0 0 0 0 0 0 0 1 0 0 1 0 0 0 0 0 0 1 0 0 0 0 0 0 0 0 0 0\n",
      " 2 0 1 0 0 0 0 0 0 0 0 0 0 0 0 0 0 0 0 0 0 0 0 1 1 1 1 0 0 0 0 0 1 2 2 2 2\n",
      " 2 2 2 2 2 2 2 2 2 2 2 2 2 2 2 2 2 2 2 2 2 2 2 2 2 2 0 2 2 2 2 2 2 2 2 2 2\n",
      " 2 2 2 2 2 2 2 2 2 2 2 0 2 0 2 2 2 2 2 2 2 0 0 0 0 2 0 0 0 1 1 1 1 1 1 1 1\n",
      " 1 1 1 1 1 1 1 1 1 1 1 1 1 1 1 1 1 1 1 1 1 1 1 1 1 1 1 1 1 1 1 0 1 1 1 1 1\n",
      " 1 1 1 1 1 1 1 1 1 1 1 1 1 1 1 1 0 1 1 1 1 1 1 1 1]\n",
      "col_0   0   1   2\n",
      "Class            \n",
      "0      60   9   1\n",
      "1      10   0  60\n",
      "2       2  68   0\n",
      "Purity value is:  0.8952380952380953\n"
     ]
    }
   ],
   "source": [
    "#99% Variance\n",
    "kmeans=KMeans(n_clusters=3)\n",
    "cluster_predict=kmeans.fit_predict(x_feature_99)\n",
    "centroids=kmeans.cluster_centers_\n",
    "labels=kmeans.labels_\n",
    "print(cluster_predict)\n",
    "\n",
    "#Creating Confusion matrix for purity calculation\n",
    "\n",
    "c_matrix=pd.crosstab(y_class,cluster_predict)\n",
    "print(c_matrix)\n",
    "purity_99=sum(c_matrix.max(axis=1))/c_matrix.sum().sum()\n",
    "print(\"Purity value is: \",purity_99)"
   ]
  },
  {
   "cell_type": "code",
   "execution_count": 23,
   "metadata": {},
   "outputs": [
    {
     "data": {
      "image/png": "[encoded data removed]",
      "text/plain": [
       "<Figure size 432x288 with 2 Axes>"
      ]
     },
     "metadata": {
      "needs_background": "light"
     },
     "output_type": "display_data"
    },
    {
     "name": "stdout",
     "output_type": "stream",
     "text": [
      "We can see that purity score increases from 0.84 to 0.89 as the number of dimensions increase but purity score is almost the same when we increase dimensions more than 4 (i.e. orignal dataset). So this means that we can use less number of dimensions using PCA and have same purity as original number of dimensions. \n"
     ]
    }
   ],
   "source": [
    "#Plotting Purity scores and captured varainces\n",
    "\n",
    "#var1=np.cumsum(np.round(pca.explained_variance_ratio_, decimals=4)*100)\n",
    "new_pur=[]\n",
    "new_pur=purity_89,purity_99,purity_org\n",
    "new_pur\n",
    "fig, ax = plt.subplots()\n",
    "ax.plot(var1, color=\"red\", marker=\"o\")\n",
    "ax.set_ylabel(\"Captured Variance\",color=\"red\",fontsize=14)\n",
    "#ax.set_xlabel(\"Number of Dimensions\",fontsize=14)\n",
    "ax2=ax.twinx()\n",
    "ax2.plot(new_pur,color=\"blue\",marker=\"o\")\n",
    "ax2.set_ylabel(\"Purity Score\",color=\"blue\",fontsize=14)\n",
    "plt.show()\n",
    "print(\"We can see that purity score increases from 0.84 to 0.89 as the number of dimensions increase but purity score is almost the same when we increase dimensions more than 4 (i.e. orignal dataset). So this means that we can use less number of dimensions using PCA and have same purity as original number of dimensions. \")\n"
   ]
  },
  {
   "cell_type": "markdown",
   "metadata": {
    "colab_type": "text",
    "id": "8RmhzV_MK-ia"
   },
   "source": [
    "3. Let's assume you have two datasets one is linear and another is curved structural data.\n",
    "    - Can we apply PCA on these datasets? Justify your answer. __(3 marks)__ "
   ]
  },
  {
   "cell_type": "markdown",
   "metadata": {
    "colab": {},
    "colab_type": "code",
    "id": "_9NpVDBwKqD-"
   },
   "source": [
    "PCA works optimally well where the data is linear (linear coorelation). However,PCA can be applied to curved or non-linear datasets and it will reduce the dimensions but the resulting values will not be well organized. So we have to apply a non-linear aplgorithm to handle curverd dataset.\n"
   ]
  }
 ],
 "metadata": {
  "colab": {
   "collapsed_sections": [],
   "name": "A2.ipynb",
   "provenance": []
  },
  "kernelspec": {
   "display_name": "Python 3 (ipykernel)",
   "language": "python",
   "name": "python3"
  },
  "language_info": {
   "codemirror_mode": {
    "name": "ipython",
    "version": 3
   },
   "file_extension": ".py",
   "mimetype": "text/x-python",
   "name": "python",
   "nbconvert_exporter": "python",
   "pygments_lexer": "ipython3",
   "version": "3.7.1"
  }
 },
 "nbformat": 4,
 "nbformat_minor": 1
}
